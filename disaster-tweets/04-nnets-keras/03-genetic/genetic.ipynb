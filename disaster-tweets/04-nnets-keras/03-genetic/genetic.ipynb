{
 "metadata": {
  "kernelspec": {
   "language": "python",
   "display_name": "Python 3",
   "name": "python3"
  },
  "language_info": {
   "name": "python",
   "version": "3.7.10",
   "mimetype": "text/x-python",
   "codemirror_mode": {
    "name": "ipython",
    "version": 3
   },
   "pygments_lexer": "ipython3",
   "nbconvert_exporter": "python",
   "file_extension": ".py"
  }
 },
 "nbformat_minor": 4,
 "nbformat": 4,
 "cells": [
  {
   "cell_type": "markdown",
   "source": [
    "## 04 Neural Networks with keras - 01 Genetic approach\n",
    "\n",
    "In this notebook we implement an approach based on neural networks, using the library **keras** from **tensorflow** to predict whether the tweets refer to a real disaster or not. We establish a fixed architecture with two convolutional layers followed by a dense layer, and we tune the hyperparameters using a genetic approach."
   ],
   "metadata": {
    "collapsed": false
   }
  },
  {
   "cell_type": "markdown",
   "source": [
    "#### Loading data\n",
    "\n",
    "We start by importing the packages we are going to use and loading the datasets:"
   ],
   "metadata": {
    "pycharm": {
     "name": "#%% md\n"
    }
   }
  },
  {
   "cell_type": "code",
   "source": [
    "import math\n",
    "\n",
    "import numpy as np\n",
    "import pandas as pd\n",
    "import matplotlib.pyplot as plt\n",
    "\n",
    "from numpy.polynomial.polynomial import polyfit\n",
    "\n",
    "import tensorflow as tf\n",
    "import tensorflow.keras as keras\n",
    "\n",
    "from keras.layers import TextVectorization\n",
    "from keras.layers import Embedding\n",
    "from keras.layers import Dropout\n",
    "from keras.layers import Conv1D\n",
    "from keras.layers import GlobalMaxPooling1D\n",
    "from keras.layers import Dense\n",
    "\n",
    "from sklearn.model_selection import KFold\n",
    "\n",
    "import time\n",
    "\n",
    "train_data = pd.read_csv(\"../../data/train.csv\")\n",
    "test_data = pd.read_csv(\"../../data/test.csv\")\n",
    "\n",
    "train_data['text'].replace('http:\\/\\/\\S*', 'urltoken', regex=True, inplace=True)\n",
    "test_data['text'].replace('http:\\/\\/\\S*', 'urltoken', regex=True, inplace=True)\n",
    "\n",
    "train_text, train_label = np.array(train_data['text']), np.array(train_data['target'])\n",
    "test_text = test_data['text']\n",
    "\n",
    "print(train_text.shape)\n",
    "print(train_label.shape)\n",
    "print(test_text.shape)"
   ],
   "metadata": {
    "collapsed": false,
    "pycharm": {
     "name": "#%%\n"
    },
    "jupyter": {
     "outputs_hidden": false
    },
    "execution": {
     "iopub.status.busy": "2021-09-13T15:08:54.835726Z",
     "iopub.execute_input": "2021-09-13T15:08:54.836899Z",
     "iopub.status.idle": "2021-09-13T15:08:54.893333Z",
     "shell.execute_reply.started": "2021-09-13T15:08:54.836857Z",
     "shell.execute_reply": "2021-09-13T15:08:54.89268Z"
    },
    "trusted": true
   },
   "execution_count": 2,
   "outputs": [
    {
     "name": "stdout",
     "output_type": "stream",
     "text": [
      "(7613,)\n",
      "(7613,)\n",
      "(3263,)\n"
     ]
    }
   ]
  },
  {
   "cell_type": "markdown",
   "source": [
    "We explore the training data. There average tweet has 15 words, and the longest one has 31:"
   ],
   "metadata": {
    "collapsed": false
   }
  },
  {
   "cell_type": "code",
   "execution_count": 3,
   "outputs": [
    {
     "data": {
      "text/plain": "count    7613.000000\nmean       14.903586\nstd         5.732604\nmin         1.000000\n25%        11.000000\n50%        15.000000\n75%        19.000000\nmax        31.000000\ndtype: float64"
     },
     "execution_count": 3,
     "metadata": {},
     "output_type": "execute_result"
    }
   ],
   "source": [
    "# Word counts\n",
    "pd.Series(np.array([len(text.split()) for text in train_text])).describe()"
   ],
   "metadata": {
    "collapsed": false,
    "pycharm": {
     "name": "#%%\n"
    }
   }
  },
  {
   "cell_type": "markdown",
   "source": [
    "There are 27736 unique words in all the tweets:"
   ],
   "metadata": {
    "collapsed": false
   }
  },
  {
   "cell_type": "code",
   "execution_count": 3,
   "outputs": [
    {
     "data": {
      "text/plain": "27736"
     },
     "execution_count": 3,
     "metadata": {},
     "output_type": "execute_result"
    }
   ],
   "source": [
    "# Number of unique tokens among all tweets\n",
    "len(np.unique(np.array(' '.join(train_text).split())))"
   ],
   "metadata": {
    "collapsed": false,
    "pycharm": {
     "name": "#%%\n"
    }
   }
  },
  {
   "cell_type": "markdown",
   "source": [
    "#### Model building\n",
    "\n",
    "The following function will create and return a model with a fixed layer architecture whose hyperparameters are passed as a function parameter in the *params* dictionary.\n",
    "\n",
    "We start with a **TextVectorization** layer with usual standardization, followed by an **Embedding** layer. We then compose with two **Conv1D** layers and perform **GlobalMaxPooling1D**, and finish with a **Dense** layer. We include some **Dropout** layers in order to avoid overfitting."
   ],
   "metadata": {
    "collapsed": false
   }
  },
  {
   "cell_type": "code",
   "execution_count": 78,
   "outputs": [],
   "source": [
    "def build_model(params):\n",
    "    dropout_rate = 0.5\n",
    "\n",
    "    # Inputs are text strings, then we vectorize them\n",
    "    inputs = keras.Input(shape=(1,), dtype=tf.string, name='text')\n",
    "\n",
    "    vectorizer = TextVectorization(\n",
    "        standardize='lower_and_strip_punctuation',\n",
    "        max_tokens=params['max_features'],\n",
    "        output_mode=\"int\",\n",
    "        output_sequence_length=params['sequence_length'],\n",
    "    )\n",
    "    vectorizer.adapt(train_text)\n",
    "    x = vectorizer(inputs)\n",
    "\n",
    "    # We use Embedding to map the vectorized text onto a space of dimension embedding_dim\n",
    "    x = Embedding(params['max_features'] + 1, params['embedding_dim'])(x)\n",
    "    x = Dropout(dropout_rate)(x)\n",
    "\n",
    "    # Conv1D + GlobalMaxPooling\n",
    "    x = Conv1D(params['conv_1_filters'], params['conv_1_kernel_size'], strides=params['conv_1_strides'], activation='relu')(x)\n",
    "    x = Conv1D(params['conv_2_filters'], params['conv_2_kernel_size'], strides=params['conv_2_strides'], activation='relu')(x)\n",
    "    x = GlobalMaxPooling1D()(x)\n",
    "\n",
    "    # Dense hidden layer\n",
    "    x = Dense(params['dense_layer_size'], activation=\"relu\")(x)\n",
    "    x = Dropout(dropout_rate)(x)\n",
    "\n",
    "    # Output layer\n",
    "    outputs = Dense(1, activation=\"sigmoid\", name=\"predictions\")(x)\n",
    "\n",
    "    model = keras.Model(inputs, outputs)\n",
    "\n",
    "    # Compile the model with binary crossentropy loss and an adam optimizer.\n",
    "    model.compile(optimizer=\"adam\", loss='binary_crossentropy', metrics=['accuracy', keras.metrics.Precision(), keras.metrics.Recall()])\n",
    "\n",
    "    return model"
   ],
   "metadata": {
    "collapsed": false,
    "pycharm": {
     "name": "#%%\n"
    }
   }
  },
  {
   "cell_type": "markdown",
   "source": [
    "These are the parameters with which the models of the first generation will start:"
   ],
   "metadata": {
    "collapsed": false
   }
  },
  {
   "cell_type": "code",
   "execution_count": 94,
   "outputs": [],
   "source": [
    "# Initial params for experiment 1\n",
    "params = {\n",
    "    'max_features': 10000,\n",
    "    'sequence_length': 32,\n",
    "    'embedding_dim': 32,\n",
    "    'conv_1_filters': 32,\n",
    "    'conv_1_kernel_size': 3,\n",
    "    'conv_1_strides': 1,\n",
    "    'conv_2_filters': 32,\n",
    "    'conv_2_kernel_size': 3,\n",
    "    'conv_2_strides': 1,\n",
    "    'dense_layer_size': 32\n",
    "}\n",
    "\n",
    "# Initial params for experiment 2\n",
    "params = {\n",
    "    'max_features': 25000,\n",
    "    'sequence_length': 20,\n",
    "    'embedding_dim': 64,\n",
    "    'conv_1_filters': 30,\n",
    "    'conv_1_kernel_size': 4,\n",
    "    'conv_1_strides': 2,\n",
    "    'conv_2_filters': 54,\n",
    "    'conv_2_kernel_size': 4,\n",
    "    'conv_2_strides': 2,\n",
    "    'dense_layer_size': 36\n",
    "}\n",
    "\n",
    "# Initial params for experiment 3\n",
    "params = {\n",
    "    'max_features': 20000,\n",
    "    'sequence_length': 21,\n",
    "    'embedding_dim': 90,\n",
    "    'conv_1_filters': 38,\n",
    "    'conv_1_kernel_size': 4,\n",
    "    'conv_1_strides': 2,\n",
    "    'conv_2_filters': 84,\n",
    "    'conv_2_kernel_size': 4,\n",
    "    'conv_2_strides': 2,\n",
    "    'dense_layer_size': 41\n",
    "}"
   ],
   "metadata": {
    "collapsed": false,
    "pycharm": {
     "name": "#%%\n"
    }
   }
  },
  {
   "cell_type": "markdown",
   "source": [
    "#### Model training\n",
    "\n",
    "The following function trains the given model for the specified number of epochs using the specified kfold cross-validation. As a result, we return the average score on the validation data over all folds:"
   ],
   "metadata": {
    "collapsed": false
   }
  },
  {
   "cell_type": "code",
   "execution_count": 95,
   "outputs": [],
   "source": [
    "def train(model, epochs, kfold):\n",
    "    start = time.time()\n",
    "\n",
    "    scores = []\n",
    "    for fold_train_indices, fold_val_indices in kfold.split(train_text, train_label):\n",
    "        fold_train_text = train_text[fold_train_indices]\n",
    "        fold_train_label = train_label[fold_train_indices]\n",
    "        fold_val_text = train_text[fold_val_indices]\n",
    "        fold_val_label = train_label[fold_val_indices]\n",
    "\n",
    "        model.fit(fold_train_text, fold_train_label, epochs=epochs, verbose=0)\n",
    "        fold_val_score = model.evaluate(fold_val_text, fold_val_label)\n",
    "        scores.append(fold_val_score)\n",
    "\n",
    "    score = np.mean(scores)\n",
    "\n",
    "    print(\">>> Score:\", round(score, 4))\n",
    "    print(\">>> Time:\", round(time.time() - start, 2), \"s\")\n",
    "\n",
    "    return score"
   ],
   "metadata": {
    "collapsed": false,
    "pycharm": {
     "name": "#%%\n"
    }
   }
  },
  {
   "cell_type": "markdown",
   "source": [
    "#### Genetic algorithms\n",
    "\n",
    "We are now ready to set up the genetic approach, with which we expect to tune the hyperparameters of the models. We do so by defining operations to combine and mutate the models, and simulate each generation with an approach based on natural selection, with better-performing models having more chances of having offspring than worse-performing ones.\n",
    "\n",
    "The following function takes a *genotype* (just a dictionary of the hyperparameters of a model) and *mutates* it by slightly perturbing its values. More details in the inline comments. The function also clamps *sequence_length* and *max_features* to reasonable maxima, and corrects some hyperparameters from the convolutional layers in order to avoid unfeasible models."
   ],
   "metadata": {
    "collapsed": false
   }
  },
  {
   "cell_type": "code",
   "execution_count": 96,
   "outputs": [],
   "source": [
    "def mutate(genotype):\n",
    "    for param in genotype.keys():\n",
    "        # Random number r = 1 + |N(0, 0.2)|, we ensure r >= 1 and typically r < 1.5\n",
    "        r = 1 + np.abs(np.random.normal(0, 0.2))\n",
    "        # We decide at random with equal probability whether we take r or 1/r\n",
    "        perturbed_value = round(np.random.choice([genotype[param] * r, genotype[param] / r]))\n",
    "        genotype[param] = np.max([1, perturbed_value])\n",
    "\n",
    "    # Hard-coded maxima\n",
    "    genotype['sequence_length'] = np.min([32, genotype['sequence_length']])\n",
    "    genotype['max_features'] = np.min([30000, genotype['max_features']])\n",
    "\n",
    "    # Fix unfeasible genotypes\n",
    "    input_size_conv_1 = genotype['sequence_length']\n",
    "    genotype['conv_1_kernel_size'] = np.min([input_size_conv_1, genotype['conv_1_kernel_size']])\n",
    "\n",
    "    input_size_conv_2 = math.floor((input_size_conv_1 - (genotype['conv_1_kernel_size'] - genotype['conv_1_strides'])) / genotype['conv_1_strides'])\n",
    "    genotype['conv_2_kernel_size'] = np.min([input_size_conv_2, genotype['conv_2_kernel_size']])\n",
    "\n",
    "    # Convert numpy.int64 to int\n",
    "    for param in genotype.keys():\n",
    "        genotype[param] = genotype[param].item()\n",
    "\n",
    "    return genotype"
   ],
   "metadata": {
    "collapsed": false,
    "pycharm": {
     "name": "#%%\n"
    }
   }
  },
  {
   "cell_type": "markdown",
   "source": [
    "The following function takes two genotypes and combines them by averaging all the parameters and mutating the resulting genotype with the *mutate* function:"
   ],
   "metadata": {
    "collapsed": false
   }
  },
  {
   "cell_type": "code",
   "execution_count": 97,
   "outputs": [],
   "source": [
    "def reproduce(genotype_1, genotype_2):\n",
    "    genotype = {}\n",
    "    for param in params.keys():\n",
    "        genotype[param] = round(np.mean([genotype_1[param], genotype_2[param]]))\n",
    "\n",
    "    return mutate(genotype)"
   ],
   "metadata": {
    "collapsed": false,
    "pycharm": {
     "name": "#%%\n"
    }
   }
  },
  {
   "cell_type": "markdown",
   "source": [
    "This is just a helper function used to print the genotype of a model:"
   ],
   "metadata": {
    "collapsed": false
   }
  },
  {
   "cell_type": "code",
   "execution_count": 98,
   "outputs": [],
   "source": [
    "def print_genotype(genotype):\n",
    "    s = str(genotype['max_features']) + ' '\n",
    "    s += str(genotype['sequence_length']) + ' '\n",
    "    s += str(genotype['embedding_dim']) + ' '\n",
    "    s += str(genotype['conv_1_filters']) + '-' + str(genotype['conv_1_kernel_size']) + '-' + str(genotype['conv_1_strides']) + ' '\n",
    "    s += str(genotype['conv_2_filters']) + '-' + str(genotype['conv_2_kernel_size']) + '-' + str(genotype['conv_2_strides']) + ' '\n",
    "    s += str(genotype['dense_layer_size'])\n",
    "    print(s)"
   ],
   "metadata": {
    "collapsed": false,
    "pycharm": {
     "name": "#%%\n"
    }
   }
  },
  {
   "cell_type": "markdown",
   "source": [
    "The following function simulates one generation for a population of models, represented by their genotypes, by doing two things:\n",
    "1. Generates the following generation of genotypes, by choosing parents and reproducing them, with uneven probabilities so that better-performing models are more likely to be chosen.\n",
    "2. Trains all resulting models using cross-validation and obtaining a score for each of them. This score allows to sort them by performance and both the models' genotypes and scores are returned.\n",
    "\n",
    "\n",
    "**Assumption**: The *population* list contains the genotypes in descending order of score."
   ],
   "metadata": {
    "collapsed": false
   }
  },
  {
   "cell_type": "code",
   "execution_count": 99,
   "outputs": [],
   "source": [
    "def generation(population, epochs):\n",
    "    n = len(population)\n",
    "    probabilities = np.linspace(1.9, 0.1, n) / n\n",
    "\n",
    "    children = []\n",
    "    for i in range(n):\n",
    "        parents = np.random.choice(population, p=probabilities, size=2, replace=False)\n",
    "        child = reproduce(parents[0], parents[1])\n",
    "        children.append(child)\n",
    "\n",
    "    population = children\n",
    "\n",
    "    kfold = KFold(n_splits=3, shuffle=True)\n",
    "\n",
    "    scores = []\n",
    "    for genotype in population:\n",
    "        print(\"> Model\", len(scores), end=\": \")\n",
    "        print_genotype(genotype)\n",
    "        try:\n",
    "            model = build_model(genotype)\n",
    "            score = train(model, epochs, kfold)\n",
    "        except:\n",
    "            score = 0\n",
    "        scores.append(score)\n",
    "        print()\n",
    "\n",
    "    sorted_tuples = sorted(zip(scores, population), reverse=True)\n",
    "    return {\n",
    "        'population': [genotype for _, genotype in sorted_tuples],\n",
    "        'scores': [score for score, _ in sorted_tuples]\n",
    "    }"
   ],
   "metadata": {
    "collapsed": false,
    "pycharm": {
     "name": "#%%\n"
    }
   }
  },
  {
   "cell_type": "markdown",
   "source": [
    "This is now the main code which starts the genetic simulation. We initialize the models in the first generation with the hard-coded values in *params*, and set the number of generations, the size of the population for each generation, and the number of epochs to train each model.\n",
    "\n",
    "We then iterate and simulate each generation sequentially, with each population being the offspring of the previous one."
   ],
   "metadata": {
    "collapsed": false
   }
  },
  {
   "cell_type": "code",
   "execution_count": null,
   "outputs": [
    {
     "name": "stdout",
     "output_type": "stream",
     "text": [
      "******************** Generation 0 ********************\n",
      "> Model 0: 21806 26 89 38-5-2 79-4-2 35\n",
      "80/80 [==============================] - 1s 4ms/step - loss: 0.5481 - accuracy: 0.7884 - precision_201: 0.7833 - recall_201: 0.7196\b\b\b\b\b\b\b\b\b\b\b\b\b\b\b\b\b\b\b\b\b\b\b\b\b\b\b\b\b\b\b\b\b\b\b\b\b\b\b\b\b\b\b\b\b\b\b\b\b\b\b\b\b\b\b\b\b\b\b\b\b\b\b\b\b\b\b\b\b\b\b\b\b\b\b\b\b\b\b\b\b\b\b\b\b\b\b\b\b\b\b\b\b\b\b\b\b\b\b\b\b\b\b\b\b\b\b\b\b\b\b\b\b\b\b\b\b\b\b\b\b\b\b\b\b\b\b\b\b\b\b\b\b\b\b\b\b\b\b\b\b\b\b\b\b\b\b\b\b\b\b\b\b\b\b\b\b\b\b\b\b\b\b\b\b\b\b\b\b\b\b\b\b\b\b\b\b\b\b\b\b\b\b\b\b\b\b\b\b\b\b\b\b\b\b\b\b\b\b\b\b\b\b\b\b\b\b\b\b\b\b\b\b\b\b\b\b\b\b\b\b\b\b\b\b\b\b\b\b\b\b\b\b\b\b\b\b\b\b\b\b\b\b\b\b\b\b\b\b\b\b\b\b\b\b\b\b\b\b\b\b\b\b\b\b\b\b\b\b\b\b\b\b\b\b\b\b\b\b\b\b\b\b\b\b\b\b\b\b\b\b\b\b\b\b\b\b\b\b\b\b\b\b\b\b\b\b\b\b\b\b\b\b\b\b\b\b\b\b\b\b\b\b\b\b\b\b\b\b\b\b\b\b\b\b\b\b\b\b\b\b\b\b\b\b\b\b\b\b\b\b\b\b\b\b\b\b\b\b\b\b\b\b\b\b\b\b\b\b\b\b\b\b\b\b\b\b\b\b\b\b\b\b\b\b\b\b\b\b\b\b\b\b\b\b\b\b\b\b\b\b\b\b\b\b\b\b\b\b\b\b\b\b\b\b\b\b\b\b\b\b\b\b\b\b\b\b\b\b\b\b\b\b\b\b\b\b\b\b\b\b\b\b\b\b\b\b\b\b\b\b\b\b\b\b\b\b\b\b\b\b\b\b\b\b\b\b\b\b\b\b\b\b\b\b\b\b\b\b\b\b\b\b\b\b\b\b\b\b\b\b\b\b\b\b\b\b\b\b\b\b\b\b\b\b\b\b\b\b\b\b\b\b\b\b\b\b\b\b\b\b\b\b\b\b\b\b\b\b\b\b\b\b\b\b\b\b\b\b\b\b\b\b\b\b\b\b\b\b\b\b\b\b\b\b\b\b\b\b\b\b\b\b\b\b\b\b\b\b\b\b\b\b\b\b\b\b\b\b\b\b\b\b\b\b\b\b\b\b\b\b\b\b\b\b\b\b\b\b\b\b\b\b\b\b\b\b\b\b\b\b\b\b\b\b\b\b\b\b\b\b\b\b\b\b\b\b\b\b\b\b\b\b\b\b\b\b\b\b\b\b\b\b\b\b\b\b\b\b\b\b\b\b\b\b\b\b\b\b\b\b\b\b\b\b\b\b\b\b\b\b\b\b\b\b\b\b\b\b\b\b\b\b\b\b\b\b\b\b\b\b\b\b\b\b\b\b\b\b\b\b\b\b\b\b\b\b\b\b\b\b\b\b\b\b\b\b\b\b\b\b\b\b\b\b\b\b\b\b\b\b\b\b\b\b\b\b\b\b\b\b\b\b\b\b\b\b\b\b\b\b\b\b\b\b\b\b\b\b\b\b\b\b\b\b\b\b\b\b\b\b\b\b\b\b\b\b\b\b\b\b\b\b\b\b\b\b\b\b\b\b\b\b\b\b\b\b\b\b\b\b\b\b\b\b\b\b\b\b\b\b\b\b\b\b\b\b\b\b\b\b\b\b\b\b\b\b\b\b\b\b\b\b\b\b\b\b\b\b\b\b\b\b\b\b\b\b\b\b\b\b\b\b\b\b\b\b\b\b\b\b\b\b\b\b\b\b\b\b\b\b\b\b\b\b\b\b\b\b\b\b\b\b\b\b\b\b\n",
      "80/80 [==============================] - 0s 6ms/step - loss: 0.1476 - accuracy: 0.9480 - precision_201: 0.9538 - recall_201: 0.9219\b\b\b\b\b\b\b\b\b\b\b\b\b\b\b\b\b\b\b\b\b\b\b\b\b\b\b\b\b\b\b\b\b\b\b\b\b\b\b\b\b\b\b\b\b\b\b\b\b\b\b\b\b\b\b\b\b\b\b\b\b\b\b\b\b\b\b\b\b\b\b\b\b\b\b\b\b\b\b\b\b\b\b\b\b\b\b\b\b\b\b\b\b\b\b\b\b\b\b\b\b\b\b\b\b\b\b\b\b\b\b\b\b\b\b\b\b\b\b\b\b\b\b\b\b\b\b\b\b\b\b\b\b\b\b\b\b\b\b\b\b\b\b\b\b\b\b\b\b\b\b\b\b\b\b\b\b\b\b\b\b\b\b\b\b\b\b\b\b\b\b\b\b\b\b\b\b\b\b\b\b\b\b\b\b\b\b\b\b\b\b\b\b\b\b\b\b\b\b\b\b\b\b\b\b\b\b\b\b\b\b\b\b\b\b\b\b\b\b\b\b\b\b\b\b\b\b\b\b\b\b\b\b\b\b\b\b\b\b\b\b\b\b\b\b\b\b\b\b\b\b\b\b\b\b\b\b\b\b\b\b\b\b\b\b\b\b\b\b\b\b\b\b\b\b\b\b\b\b\b\b\b\b\b\b\b\b\b\b\b\b\b\b\b\b\b\b\b\b\b\b\b\b\b\b\b\b\b\b\b\b\b\b\b\b\b\b\b\b\b\b\b\b\b\b\b\b\b\b\b\b\b\b\b\b\b\b\b\b\b\b\b\b\b\b\b\b\b\b\b\b\b\b\b\b\b\b\b\b\b\b\b\b\b\b\b\b\b\b\b\b\b\b\b\b\b\b\b\b\b\b\b\b\b\b\b\b\b\b\b\b\b\b\b\b\b\b\b\b\b\b\b\b\b\b\b\b\b\b\b\b\b\b\b\b\b\b\b\b\b\b\b\b\b\b\b\b\b\b\b\b\b\b\b\b\b\b\b\b\b\b\b\b\b\b\b\b\b\b\b\b\b\b\b\b\b\b\b\b\b\b\b\b\b\b\b\b\b\b\b\b\b\b\b\b\b\b\b\b\b\b\b\b\b\b\b\b\b\b\b\b\b\b\b\b\b\b\b\b\b\b\b\b\b\b\b\b\b\b\b\b\b\b\b\b\b\b\b\b\b\b\b\b\b\b\b\b\b\b\b\b\b\b\b\b\b\b\b\b\b\b\b\b\b\b\b\b\b\b\b\b\b\b\b\b\b\b\b\b\b\b\b\b\b\b\b\b\b\b\b\b\b\b\b\b\b\b\b\b\b\b\b\b\b\b\b\b\b\b\b\b\b\b\b\b\b\b\b\b\b\b\b\b\b\b\b\b\b\b\b\b\b\b\b\b\b\b\b\b\b\b\b\b\b\b\b\b\b\b\b\b\b\b\b\b\b\b\b\b\b\b\b\b\b\b\b\b\b\b\b\b\b\b\b\b\b\b\b\b\b\b\b\b\b\b\b\b\b\b\b\b\b\b\b\b\b\b\b\b\b\b\b\b\b\b\b\b\b\b\b\b\b\b\b\b\b\b\b\b\b\b\b\b\b\b\b\b\b\b\b\b\b\b\b\b\b\b\b\b\b\b\b\b\b\b\b\b\b\b\b\b\b\b\b\b\b\b\b\b\b\b\b\b\b\b\b\b\b\b\b\b\b\b\b\b\b\b\b\b\b\b\b\b\b\b\b\b\b\b\b\b\b\b\b\b\b\b\b\b\b\b\b\b\b\b\b\b\b\b\b\b\b\b\b\b\b\b\b\b\b\b\b\b\b\b\b\b\b\b\b\b\b\b\b\b\b\b\b\b\b\b\b\b\b\b\b\b\b\b\b\b\b\b\b\b\b\b\b\b\b\b\b\b\b\b\b\b\b\b\b\b\b\b\b\b\b\b\b\b\b\b\b\b\b\b\b\b\b\b\b\b\b\b\b\b\b\b\b\b\b\b\b\b\b\b\b\b\b\b\b\b\b\b\b\b\b\b\b\b\b\b\b\b\b\b\b\b\b\b\b\b\b\b\b\b\b\b\b\b\b\b\b\b\b\b\b\b\b\b\b\b\b\b\b\b\b\b\b\b\b\b\b\b\b\b\b\b\b\b\b\b\b\b\b\b\b\b\b\b\b\b\b\b\b\b\b\b\b\b\b\b\b\b\b\b\b\b\b\b\b\b\b\b\b\b\b\b\b\b\b\b\b\b\b\b\b\b\b\b\b\b\b\b\b\b\b\b\b\b\b\b\b\b\b\b\b\b\b\b\b\b\b\b\b\b\b\b\b\b\b\b\b\b\b\b\b\b\b\b\b\b\b\b\b\b\b\b\b\b\b\b\b\b\b\b\b\b\b\b\b\b\b\b\b\b\b\b\b\b\b\b\b\b\b\b\b\b\b\b\b\b\b\b\b\b\b\b\b\b\b\b\b\b\b\b\b\b\b\b\b\b\b\b\b\b\b\b\b\b\b\b\b\b\b\b\b\b\b\b\b\b\b\b\b\b\b\b\b\b\b\b\b\b\b\b\b\b\b\b\n",
      "80/80 [==============================] - 0s 5ms/step - loss: 0.0866 - accuracy: 0.9720 - precision_201: 0.9547 - recall_201: 0.9805\b\b\b\b\b\b\b\b\b\b\b\b\b\b\b\b\b\b\b\b\b\b\b\b\b\b\b\b\b\b\b\b\b\b\b\b\b\b\b\b\b\b\b\b\b\b\b\b\b\b\b\b\b\b\b\b\b\b\b\b\b\b\b\b\b\b\b\b\b\b\b\b\b\b\b\b\b\b\b\b\b\b\b\b\b\b\b\b\b\b\b\b\b\b\b\b\b\b\b\b\b\b\b\b\b\b\b\b\b\b\b\b\b\b\b\b\b\b\b\b\b\b\b\b\b\b\b\b\b\b\b\b\b\b\b\b\b\b\b\b\b\b\b\b\b\b\b\b\b\b\b\b\b\b\b\b\b\b\b\b\b\b\b\b\b\b\b\b\b\b\b\b\b\b\b\b\b\b\b\b\b\b\b\b\b\b\b\b\b\b\b\b\b\b\b\b\b\b\b\b\b\b\b\b\b\b\b\b\b\b\b\b\b\b\b\b\b\b\b\b\b\b\b\b\b\b\b\b\b\b\b\b\b\b\b\b\b\b\b\b\b\b\b\b\b\b\b\b\b\b\b\b\b\b\b\b\b\b\b\b\b\b\b\b\b\b\b\b\b\b\b\b\b\b\b\b\b\b\b\b\b\b\b\b\b\b\b\b\b\b\b\b\b\b\b\b\b\b\b\b\b\b\b\b\b\b\b\b\b\b\b\b\b\b\b\b\b\b\b\b\b\b\b\b\b\b\b\b\b\b\b\b\b\b\b\b\b\b\b\b\b\b\b\b\b\b\b\b\b\b\b\b\b\b\b\b\b\b\b\b\b\b\b\b\b\b\b\b\b\b\b\b\b\b\b\b\b\b\b\b\b\b\b\b\b\b\b\b\b\b\b\b\b\b\b\b\b\b\b\b\b\b\b\b\b\b\b\b\b\b\b\b\b\b\b\b\b\b\b\b\b\b\b\b\b\b\b\b\b\b\b\b\b\b\b\b\b\b\b\b\b\b\b\b\b\b\b\b\b\b\b\b\b\b\b\b\b\b\b\b\b\b\b\b\b\b\b\b\b\b\b\b\b\b\b\b\b\b\b\b\b\b\b\b\b\b\b\b\b\b\b\b\b\b\b\b\b\b\b\b\b\b\b\b\b\b\b\b\b\b\b\b\b\b\b\b\b\b\b\b\b\b\b\b\b\b\b\b\b\b\b\b\b\b\b\b\b\b\b\b\b\b\b\b\b\b\b\b\b\b\b\b\b\b\b\b\b\b\b\b\b\b\b\b\b\b\b\b\b\b\b\b\b\b\b\b\b\b\b\b\b\b\b\b\b\b\b\b\b\b\b\b\b\b\b\b\b\b\b\b\b\b\b\b\b\b\b\b\b\b\b\b\b\b\b\b\b\b\b\b\b\b\b\b\b\b\b\b\b\b\b\b\b\b\b\b\b\b\b\b\b\b\b\b\b\b\b\b\b\b\b\b\b\b\b\b\b\b\b\b\b\b\b\b\b\b\b\b\b\b\b\b\b\b\b\b\b\b\b\b\b\b\b\b\b\b\b\b\b\b\b\b\b\b\b\b\b\b\b\b\b\b\b\b\b\b\b\b\b\b\b\b\b\b\b\b\b\b\b\b\b\b\b\b\b\b\b\b\b\b\b\b\b\b\b\b\b\b\b\b\b\b\b\b\b\b\b\b\b\b\b\b\b\b\b\b\b\b\b\b\b\b\b\b\b\b\b\b\b\b\b\b\b\b\b\b\b\b\b\b\b\b\b\b\b\b\b\b\b\b\b\b\b\b\b\b\b\b\b\b\b\b\b\b\b\b\b\b\b\b\b\b\b\b\b\b\b\b\b\b\b\b\b\b\b\b\b\b\b\b\b\b\b\b\b\b\b\b\b\b\b\b\b\b\b\b\b\b\b\b\b\b\b\b\b\b\b\b\b\b\b\b\b\b\b\b\b\b\b\b\b\b\b\b\b\b\b\b\b\b\b\b\b\b\b\b\b\b\b\b\b\b\b\b\b\b\b\b\b\b\b\b\b\b\b\b\b\b\b\b\b\b\b\b\b\b\b\b\b\b\b\b\b\b\b\b\b\b\b\b\b\b\b\b\b\b\b\b\b\b\b\b\b\b\b\b\b\b\b\b\b\b\b\b\b\b\b\b\b\b\b\b\b\b\b\b\b\b\b\b\b\b\b\b\b\b\b\b\b\b\b\b\b\b\b\b\b\b\b\b\b\b\b\b\b\b\b\b\b\b\b\b\b\b\b\b\b\b\b\b\b\b\n",
      ">>> Score: 0.7337\n",
      ">>> Time: 52.98 s\n",
      "\n",
      "> Model 1: 17222 23 73 40-5-3 88-5-3 31\n",
      "80/80 [==============================] - 1s 5ms/step - loss: 0.5609 - accuracy: 0.7667 - precision_202: 0.7390 - recall_202: 0.7162\b\b\b\b\b\b\b\b\b\b\b\b\b\b\b\b\b\b\b\b\b\b\b\b\b\b\b\b\b\b\b\b\b\b\b\b\b\b\b\b\b\b\b\b\b\b\b\b\b\b\b\b\b\b\b\b\b\b\b\b\b\b\b\b\b\b\b\b\b\b\b\b\b\b\b\b\b\b\b\b\b\b\b\b\b\b\b\b\b\b\b\b\b\b\b\b\b\b\b\b\b\b\b\b\b\b\b\b\b\b\b\b\b\b\b\b\b\b\b\b\b\b\b\b\b\b\b\b\b\b\b\b\b\b\b\b\b\b\b\b\b\b\b\b\b\b\b\b\b\b\b\b\b\b\b\b\b\b\b\b\b\b\b\b\b\b\b\b\b\b\b\b\b\b\b\b\b\b\b\b\b\b\b\b\b\b\b\b\b\b\b\b\b\b\b\b\b\b\b\b\b\b\b\b\b\b\b\b\b\b\b\b\b\b\b\b\b\b\b\b\b\b\b\b\b\b\b\b\b\b\b\b\b\b\b\b\b\b\b\b\b\b\b\b\b\b\b\b\b\b\b\b\b\b\b\b\b\b\b\b\b\b\b\b\b\b\b\b\b\b\b\b\b\b\b\b\b\b\b\b\b\b\b\b\b\b\b\b\b\b\b\b\b\b\b\b\b\b\b\b\b\b\b\b\b\b\b\b\b\b\b\b\b\b\b\b\b\b\b\b\b\b\b\b\b\b\b\b\b\b\b\b\b\b\b\b\b\b\b\b\b\b\b\b\b\b\b\b\b\b\b\b\b\b\b\b\b\b\b\b\b\b\b\b\b\b\b\b\b\b\b\b\b\b\b\b\b\b\b\b\b\b\b\b\b\b\b\b\b\b\b\b\b\b\b\b\b\b\b\b\b\b\b\b\b\b\b\b\b\b\b\b\b\b\b\b\b\b\b\b\b\b\b\b\b\b\b\b\b\b\b\b\b\b\b\b\b\b\b\b\b\b\b\b\b\b\b\b\b\b\b\b\b\b\b\b\b\b\b\b\b\b\b\b\b\b\b\b\b\b\b\b\b\b\b\b\b\b\b\b\b\b\b\b\b\b\b\b\b\b\b\b\b\b\b\b\b\b\b\b\b\b\b\b\b\b\b\b\b\b\b\b\b\b\b\b\b\b\b\b\b\b\b\b\b\b\b\b\b\b\b\b\b\b\b\b\b\b\b\b\b\b\b\b\b\b\b\b\b\b\b\b\b\b\b\b\b\b\b\b\b\b\b\b\b\b\b\b\b\b\b\b\b\b\b\b\b\b\b\b\b\b\b\b\b\b\b\b\b\b\b\b\b\b\b\b\b\b\b\b\b\b\b\b\b\b\b\b\b\b\b\b\b\b\b\b\b\b\b\b\b\b\b\b\b\b\b\b\b\b\b\b\b\b\b\b\b\b\b\b\b\b\b\b\b\b\b\b\b\b\b\b\b\b\b\b\b\b\b\b\b\b\b\b\b\b\b\b\b\b\b\b\b\b\b\b\b\b\b\b\b\b\b\b\b\b\b\b\b\b\b\b\b\b\b\b\b\b\b\b\b\b\b\b\b\b\b\b\b\b\b\b\b\b\b\b\b\b\b\b\b\b\b\b\b\b\b\b\b\b\b\b\b\b\b\b\b\b\b\b\b\b\b\b\b\b\b\b\b\b\b\b\b\b\b\b\b\b\b\b\b\b\b\b\b\b\b\b\b\b\b\b\b\b\b\b\b\b\b\b\b\b\b\b\b\b\b\b\b\b\b\b\b\b\b\b\b\b\b\b\b\b\b\b\b\b\b\b\b\b\b\b\b\b\b\b\b\b\b\b\b\b\b\b\b\b\b\b\b\b\b\b\b\b\b\b\b\b\b\b\b\b\b\b\b\b\b\b\b\b\b\b\b\b\b\b\b\b\b\b\b\b\b\b\b\b\b\b\b\b\b\b\b\b\b\b\b\b\b\b\b\b\b\b\b\b\b\n",
      "\n",
      "> Model 2: 23914 16 87 51-4-2 114-4-2 36\n",
      "\n",
      "> Model 3: 17735 27 90 41-4-2 64-3-2 40\n",
      "\n",
      "> Model 4: 18229 18 86 47-5-2 93-4-2 46\n",
      "\n",
      "> Model 5: 19879 19 79 36-4-2 90-4-2 32\n"
     ]
    },
    {
     "name": "stderr",
     "output_type": "stream",
     "text": [
      "Exception ignored in: <function WeakKeyDictionary.__init__.<locals>.remove at 0x7fcaa9420790>\n",
      "Traceback (most recent call last):\n",
      "  File \"/Users/athena/.conda/envs/tensorflow/lib/python3.8/weakref.py\", line 345, in remove\n",
      "    def remove(k, selfref=ref(self)):\n",
      "KeyboardInterrupt: \n",
      "Exception ignored in: <function ScopedTFFunction.__del__ at 0x7fcaa6b7ad30>\n",
      "Traceback (most recent call last):\n",
      "  File \"/Users/athena/.conda/envs/tensorflow/lib/python3.8/site-packages/tensorflow/python/framework/c_api_util.py\", line 108, in __del__\n",
      "    def __del__(self):\n",
      "KeyboardInterrupt: \n"
     ]
    },
    {
     "name": "stdout",
     "output_type": "stream",
     "text": [
      "\n",
      "> Model 6: 17552 22 78 36-3-3 61-5-3 45\n",
      "\n",
      "> Model 7: 18538 28 93 27-4-2 89-5-2 43\n",
      "\n",
      "> Model 8: 22878 25 83 47-5-2 89-4-2 41\n",
      "\n",
      "> Model 9: 19029 21 61 39-4-2 90-3-2 45\n",
      "\n",
      "> Model 10: 15779 22 113 34-3-2 109-5-2 39\n"
     ]
    },
    {
     "name": "stderr",
     "output_type": "stream",
     "text": [
      "Exception ignored in: <function IteratorResourceDeleter.__del__ at 0x7fcaa85fd310>\n",
      "Traceback (most recent call last):\n",
      "  File \"/Users/athena/.conda/envs/tensorflow/lib/python3.8/site-packages/tensorflow/python/data/ops/iterator_ops.py\", line 545, in __del__\n",
      "    gen_dataset_ops.delete_iterator(\n",
      "  File \"/Users/athena/.conda/envs/tensorflow/lib/python3.8/site-packages/tensorflow/python/ops/gen_dataset_ops.py\", line 1263, in delete_iterator\n",
      "    _result = pywrap_tfe.TFE_Py_FastPathExecute(\n",
      "KeyboardInterrupt: \n"
     ]
    }
   ],
   "source": [
    "n_generations = 10\n",
    "population_size = 20\n",
    "epochs = 3\n",
    "\n",
    "start = time.time()\n",
    "\n",
    "all_populations = []\n",
    "all_scores = []\n",
    "\n",
    "population = [params] * population_size\n",
    "\n",
    "for i in range(n_generations):\n",
    "    print('*'*20, \"Generation\", i, '*'*20)\n",
    "\n",
    "    generation_results = generation(population, epochs)\n",
    "    population = generation_results['population']\n",
    "    scores = generation_results['scores']\n",
    "\n",
    "    all_populations.append(population)\n",
    "    all_scores.append(scores)\n",
    "\n",
    "    print('> Average generation score:', round(np.mean(scores), 4))\n",
    "\n",
    "\n",
    "print(\"Total time:\", round(time.time() - start, 2), \"s\")"
   ],
   "metadata": {
    "collapsed": false,
    "pycharm": {
     "name": "#%%\n",
     "is_executing": true
    }
   }
  },
  {
   "cell_type": "markdown",
   "source": [
    "We can check the hyperparameters of the last generation of models:"
   ],
   "metadata": {
    "collapsed": false
   }
  },
  {
   "cell_type": "code",
   "execution_count": 86,
   "outputs": [
    {
     "data": {
      "text/plain": "[{'max_features': 18126,\n  'sequence_length': 21,\n  'embedding_dim': 122,\n  'conv_1_filters': 57,\n  'conv_1_kernel_size': 4,\n  'conv_1_strides': 2,\n  'conv_2_filters': 95,\n  'conv_2_kernel_size': 4,\n  'conv_2_strides': 2,\n  'dense_layer_size': 50},\n {'max_features': 18985,\n  'sequence_length': 22,\n  'embedding_dim': 80,\n  'conv_1_filters': 36,\n  'conv_1_kernel_size': 3,\n  'conv_1_strides': 2,\n  'conv_2_filters': 99,\n  'conv_2_kernel_size': 7,\n  'conv_2_strides': 3,\n  'dense_layer_size': 34},\n {'max_features': 13841,\n  'sequence_length': 17,\n  'embedding_dim': 77,\n  'conv_1_filters': 34,\n  'conv_1_kernel_size': 5,\n  'conv_1_strides': 3,\n  'conv_2_filters': 55,\n  'conv_2_kernel_size': 4,\n  'conv_2_strides': 2,\n  'dense_layer_size': 36},\n {'max_features': 21059,\n  'sequence_length': 23,\n  'embedding_dim': 79,\n  'conv_1_filters': 35,\n  'conv_1_kernel_size': 3,\n  'conv_1_strides': 2,\n  'conv_2_filters': 49,\n  'conv_2_kernel_size': 4,\n  'conv_2_strides': 2,\n  'dense_layer_size': 43},\n {'max_features': 25000,\n  'sequence_length': 20,\n  'embedding_dim': 107,\n  'conv_1_filters': 48,\n  'conv_1_kernel_size': 6,\n  'conv_1_strides': 1,\n  'conv_2_filters': 85,\n  'conv_2_kernel_size': 5,\n  'conv_2_strides': 2,\n  'dense_layer_size': 51},\n {'max_features': 23071,\n  'sequence_length': 26,\n  'embedding_dim': 105,\n  'conv_1_filters': 39,\n  'conv_1_kernel_size': 3,\n  'conv_1_strides': 2,\n  'conv_2_filters': 40,\n  'conv_2_kernel_size': 5,\n  'conv_2_strides': 3,\n  'dense_layer_size': 51},\n {'max_features': 20275,\n  'sequence_length': 22,\n  'embedding_dim': 89,\n  'conv_1_filters': 63,\n  'conv_1_kernel_size': 4,\n  'conv_1_strides': 2,\n  'conv_2_filters': 52,\n  'conv_2_kernel_size': 4,\n  'conv_2_strides': 2,\n  'dense_layer_size': 40},\n {'max_features': 22477,\n  'sequence_length': 17,\n  'embedding_dim': 104,\n  'conv_1_filters': 31,\n  'conv_1_kernel_size': 5,\n  'conv_1_strides': 2,\n  'conv_2_filters': 75,\n  'conv_2_kernel_size': 5,\n  'conv_2_strides': 2,\n  'dense_layer_size': 44},\n {'max_features': 19632,\n  'sequence_length': 25,\n  'embedding_dim': 121,\n  'conv_1_filters': 37,\n  'conv_1_kernel_size': 4,\n  'conv_1_strides': 2,\n  'conv_2_filters': 93,\n  'conv_2_kernel_size': 5,\n  'conv_2_strides': 2,\n  'dense_layer_size': 33},\n {'max_features': 25000,\n  'sequence_length': 30,\n  'embedding_dim': 84,\n  'conv_1_filters': 41,\n  'conv_1_kernel_size': 5,\n  'conv_1_strides': 2,\n  'conv_2_filters': 92,\n  'conv_2_kernel_size': 4,\n  'conv_2_strides': 2,\n  'dense_layer_size': 46},\n {'max_features': 20205,\n  'sequence_length': 25,\n  'embedding_dim': 104,\n  'conv_1_filters': 26,\n  'conv_1_kernel_size': 5,\n  'conv_1_strides': 2,\n  'conv_2_filters': 82,\n  'conv_2_kernel_size': 4,\n  'conv_2_strides': 2,\n  'dense_layer_size': 48},\n {'max_features': 17310,\n  'sequence_length': 21,\n  'embedding_dim': 78,\n  'conv_1_filters': 32,\n  'conv_1_kernel_size': 5,\n  'conv_1_strides': 2,\n  'conv_2_filters': 101,\n  'conv_2_kernel_size': 3,\n  'conv_2_strides': 2,\n  'dense_layer_size': 42},\n {'max_features': 23834,\n  'sequence_length': 19,\n  'embedding_dim': 85,\n  'conv_1_filters': 43,\n  'conv_1_kernel_size': 4,\n  'conv_1_strides': 2,\n  'conv_2_filters': 91,\n  'conv_2_kernel_size': 5,\n  'conv_2_strides': 2,\n  'dense_layer_size': 36},\n {'max_features': 23796,\n  'sequence_length': 16,\n  'embedding_dim': 85,\n  'conv_1_filters': 25,\n  'conv_1_kernel_size': 5,\n  'conv_1_strides': 2,\n  'conv_2_filters': 69,\n  'conv_2_kernel_size': 6,\n  'conv_2_strides': 2,\n  'dense_layer_size': 43},\n {'max_features': 16359,\n  'sequence_length': 23,\n  'embedding_dim': 95,\n  'conv_1_filters': 34,\n  'conv_1_kernel_size': 5,\n  'conv_1_strides': 2,\n  'conv_2_filters': 144,\n  'conv_2_kernel_size': 3,\n  'conv_2_strides': 2,\n  'dense_layer_size': 25},\n {'max_features': 17547,\n  'sequence_length': 14,\n  'embedding_dim': 78,\n  'conv_1_filters': 54,\n  'conv_1_kernel_size': 4,\n  'conv_1_strides': 3,\n  'conv_2_filters': 72,\n  'conv_2_kernel_size': 4,\n  'conv_2_strides': 2,\n  'dense_layer_size': 44},\n {'max_features': 17556,\n  'sequence_length': 23,\n  'embedding_dim': 88,\n  'conv_1_filters': 30,\n  'conv_1_kernel_size': 4,\n  'conv_1_strides': 2,\n  'conv_2_filters': 77,\n  'conv_2_kernel_size': 4,\n  'conv_2_strides': 2,\n  'dense_layer_size': 46},\n {'max_features': 19919,\n  'sequence_length': 18,\n  'embedding_dim': 67,\n  'conv_1_filters': 37,\n  'conv_1_kernel_size': 3,\n  'conv_1_strides': 3,\n  'conv_2_filters': 136,\n  'conv_2_kernel_size': 3,\n  'conv_2_strides': 2,\n  'dense_layer_size': 38},\n {'max_features': 21271,\n  'sequence_length': 23,\n  'embedding_dim': 89,\n  'conv_1_filters': 29,\n  'conv_1_kernel_size': 3,\n  'conv_1_strides': 2,\n  'conv_2_filters': 64,\n  'conv_2_kernel_size': 4,\n  'conv_2_strides': 3,\n  'dense_layer_size': 43},\n {'max_features': 21361,\n  'sequence_length': 10,\n  'embedding_dim': 62,\n  'conv_1_filters': 33,\n  'conv_1_kernel_size': 4,\n  'conv_1_strides': 4,\n  'conv_2_filters': 109,\n  'conv_2_kernel_size': 2,\n  'conv_2_strides': 2,\n  'dense_layer_size': 32}]"
     },
     "execution_count": 86,
     "metadata": {},
     "output_type": "execute_result"
    }
   ],
   "source": [
    "population"
   ],
   "metadata": {
    "collapsed": false,
    "pycharm": {
     "name": "#%%\n"
    }
   }
  },
  {
   "cell_type": "markdown",
   "source": [
    "And the average of their hyperparameters, to see if they have evolved significantly:"
   ],
   "metadata": {
    "collapsed": false
   }
  },
  {
   "cell_type": "code",
   "execution_count": 4,
   "outputs": [
    {
     "ename": "NameError",
     "evalue": "name 'params' is not defined",
     "output_type": "error",
     "traceback": [
      "\u001B[0;31m---------------------------------------------------------------------------\u001B[0m",
      "\u001B[0;31mNameError\u001B[0m                                 Traceback (most recent call last)",
      "\u001B[0;32m/var/folders/m0/ytk3_jy95pd69w7yb_vw87k00000gn/T/ipykernel_49388/2457024053.py\u001B[0m in \u001B[0;36m<module>\u001B[0;34m\u001B[0m\n\u001B[0;32m----> 1\u001B[0;31m \u001B[0;32mfor\u001B[0m \u001B[0mparam\u001B[0m \u001B[0;32min\u001B[0m \u001B[0mparams\u001B[0m\u001B[0;34m.\u001B[0m\u001B[0mkeys\u001B[0m\u001B[0;34m(\u001B[0m\u001B[0;34m)\u001B[0m\u001B[0;34m:\u001B[0m\u001B[0;34m\u001B[0m\u001B[0;34m\u001B[0m\u001B[0m\n\u001B[0m\u001B[1;32m      2\u001B[0m     \u001B[0mprint\u001B[0m\u001B[0;34m(\u001B[0m\u001B[0mparam\u001B[0m\u001B[0;34m,\u001B[0m \u001B[0mround\u001B[0m\u001B[0;34m(\u001B[0m\u001B[0mnp\u001B[0m\u001B[0;34m.\u001B[0m\u001B[0mmean\u001B[0m\u001B[0;34m(\u001B[0m\u001B[0;34m[\u001B[0m\u001B[0mgenotype\u001B[0m\u001B[0;34m[\u001B[0m\u001B[0mparam\u001B[0m\u001B[0;34m]\u001B[0m \u001B[0;32mfor\u001B[0m \u001B[0mgenotype\u001B[0m \u001B[0;32min\u001B[0m \u001B[0mpopulation\u001B[0m\u001B[0;34m]\u001B[0m\u001B[0;34m)\u001B[0m\u001B[0;34m)\u001B[0m\u001B[0;34m,\u001B[0m \u001B[0;34m\"(\"\u001B[0m\u001B[0;34m,\u001B[0m \u001B[0mparams\u001B[0m\u001B[0;34m[\u001B[0m\u001B[0mparam\u001B[0m\u001B[0;34m]\u001B[0m\u001B[0;34m,\u001B[0m \u001B[0;34m\")\"\u001B[0m\u001B[0;34m)\u001B[0m\u001B[0;34m\u001B[0m\u001B[0;34m\u001B[0m\u001B[0m\n",
      "\u001B[0;31mNameError\u001B[0m: name 'params' is not defined"
     ]
    }
   ],
   "source": [
    "for param in params.keys():\n",
    "    print(param, round(np.mean([genotype[param] for genotype in population])), \"(\", params[param], \")\")"
   ],
   "metadata": {
    "collapsed": false,
    "pycharm": {
     "name": "#%%\n"
    }
   }
  },
  {
   "cell_type": "markdown",
   "source": [
    "We plot the average score of each generation:"
   ],
   "metadata": {
    "collapsed": false
   }
  },
  {
   "cell_type": "code",
   "execution_count": 5,
   "outputs": [
    {
     "ename": "NameError",
     "evalue": "name 'all_scores' is not defined",
     "output_type": "error",
     "traceback": [
      "\u001B[0;31m---------------------------------------------------------------------------\u001B[0m",
      "\u001B[0;31mNameError\u001B[0m                                 Traceback (most recent call last)",
      "\u001B[0;32m/var/folders/m0/ytk3_jy95pd69w7yb_vw87k00000gn/T/ipykernel_49388/2986288844.py\u001B[0m in \u001B[0;36m<module>\u001B[0;34m\u001B[0m\n\u001B[0;32m----> 1\u001B[0;31m \u001B[0mgeneration_average_scores\u001B[0m \u001B[0;34m=\u001B[0m \u001B[0mnp\u001B[0m\u001B[0;34m.\u001B[0m\u001B[0mmean\u001B[0m\u001B[0;34m(\u001B[0m\u001B[0mall_scores\u001B[0m\u001B[0;34m,\u001B[0m \u001B[0maxis\u001B[0m\u001B[0;34m=\u001B[0m\u001B[0;36m1\u001B[0m\u001B[0;34m)\u001B[0m\u001B[0;34m\u001B[0m\u001B[0;34m\u001B[0m\u001B[0m\n\u001B[0m\u001B[1;32m      2\u001B[0m \u001B[0;34m\u001B[0m\u001B[0m\n\u001B[1;32m      3\u001B[0m \u001B[0mplt\u001B[0m\u001B[0;34m.\u001B[0m\u001B[0mplot\u001B[0m\u001B[0;34m(\u001B[0m\u001B[0mgeneration_average_scores\u001B[0m\u001B[0;34m)\u001B[0m\u001B[0;34m\u001B[0m\u001B[0;34m\u001B[0m\u001B[0m\n",
      "\u001B[0;31mNameError\u001B[0m: name 'all_scores' is not defined"
     ]
    }
   ],
   "source": [
    "generation_average_scores = np.mean(all_scores, axis=1)\n",
    "\n",
    "plt.plot(generation_average_scores)"
   ],
   "metadata": {
    "collapsed": false,
    "pycharm": {
     "name": "#%%\n"
    }
   }
  },
  {
   "cell_type": "markdown",
   "source": [
    "And also the maximum score for each generation:"
   ],
   "metadata": {
    "collapsed": false
   }
  },
  {
   "cell_type": "code",
   "execution_count": null,
   "outputs": [],
   "source": [
    "generation_max_scores = np.max(all_scores, axis=1)\n",
    "\n",
    "plt.plot(generation_max_scores)"
   ],
   "metadata": {
    "collapsed": false,
    "pycharm": {
     "name": "#%%\n"
    }
   }
  },
  {
   "cell_type": "markdown",
   "source": [
    "We can also plot the evolution of each hyperparameter over all generations:"
   ],
   "metadata": {
    "collapsed": false
   }
  },
  {
   "cell_type": "code",
   "execution_count": 90,
   "outputs": [
    {
     "data": {
      "text/plain": "<Figure size 864x1296 with 10 Axes>",
      "image/png": "[encoded data removed]"
     },
     "metadata": {
      "needs_background": "light"
     },
     "output_type": "display_data"
    }
   ],
   "source": [
    "x = np.array([i for i in range(n_generations) for j in range(population_size)])\n",
    "\n",
    "fig, axs = plt.subplots(5, 2, figsize=(12, 18))\n",
    "axs = axs.ravel()\n",
    "\n",
    "i = 0\n",
    "for param in params.keys():\n",
    "    y = np.array([genotype[param] for population in all_populations for genotype in population])\n",
    "    b, m = polyfit(x, y, deg=1)\n",
    "\n",
    "    axs[i].scatter(x, y, color='tab:blue')\n",
    "    axs[i].plot(x, m * x + b, color='tab:orange')\n",
    "    axs[i].set_title(param)\n",
    "    i += 1"
   ],
   "metadata": {
    "collapsed": false,
    "pycharm": {
     "name": "#%%\n"
    }
   }
  },
  {
   "cell_type": "markdown",
   "source": [
    "We finally take the best-performing model of the last generation and train it with all the available data:"
   ],
   "metadata": {
    "collapsed": false
   }
  },
  {
   "cell_type": "code",
   "execution_count": 91,
   "outputs": [
    {
     "name": "stdout",
     "output_type": "stream",
     "text": [
      "Epoch 1/3\n",
      "238/238 - 10s - loss: 0.6094 - accuracy: 0.6551 - precision_200: 0.7537 - recall_200: 0.2929\n",
      "Epoch 2/3\n",
      "238/238 - 12s - loss: 0.3750 - accuracy: 0.8421 - precision_200: 0.8559 - recall_200: 0.7606\n",
      "Epoch 3/3\n",
      "238/238 - 8s - loss: 0.2114 - accuracy: 0.9250 - precision_200: 0.9332 - recall_200: 0.8890\n",
      "238/238 - 1s - loss: 0.0898 - accuracy: 0.9724 - precision_200: 0.9740 - recall_200: 0.9615\n"
     ]
    },
    {
     "data": {
      "text/plain": "[0.08976244181394577,\n 0.9724156260490417,\n 0.9739857316017151,\n 0.961479663848877]"
     },
     "execution_count": 91,
     "metadata": {},
     "output_type": "execute_result"
    }
   ],
   "source": [
    "best_genotype = population[0]\n",
    "model = build_model(best_genotype)\n",
    "model.fit(train_text, train_label, epochs=3, verbose=2)\n",
    "\n",
    "model.evaluate(train_text, train_label, verbose=2)"
   ],
   "metadata": {
    "collapsed": false,
    "pycharm": {
     "name": "#%%\n"
    }
   }
  },
  {
   "cell_type": "markdown",
   "source": [
    "We generate the predictions for the test set:"
   ],
   "metadata": {
    "collapsed": false
   }
  },
  {
   "cell_type": "code",
   "execution_count": 92,
   "outputs": [
    {
     "data": {
      "text/plain": "array([1, 0, 1, ..., 1, 1, 1])"
     },
     "execution_count": 92,
     "metadata": {},
     "output_type": "execute_result"
    }
   ],
   "source": [
    "test_pred = model.predict(test_text)\n",
    "test_pred = np.round(test_pred).flatten().astype('int')\n",
    "\n",
    "test_pred"
   ],
   "metadata": {
    "collapsed": false,
    "pycharm": {
     "name": "#%%\n"
    }
   }
  },
  {
   "cell_type": "markdown",
   "source": [
    "And we save the predictions into a csv file ready for submission:"
   ],
   "metadata": {}
  },
  {
   "cell_type": "code",
   "source": [
    "output = pd.DataFrame({'id': test_data['id'], 'target': test_pred})\n",
    "output.to_csv('predictions/nnets.csv', index=False)\n",
    "print(\"Submission successfully saved!\")"
   ],
   "metadata": {
    "collapsed": false,
    "pycharm": {
     "name": "#%%\n"
    },
    "jupyter": {
     "outputs_hidden": false
    },
    "execution": {
     "iopub.status.busy": "2021-09-13T15:13:20.767477Z",
     "iopub.execute_input": "2021-09-13T15:13:20.767825Z",
     "iopub.status.idle": "2021-09-13T15:13:20.800558Z",
     "shell.execute_reply.started": "2021-09-13T15:13:20.767795Z",
     "shell.execute_reply": "2021-09-13T15:13:20.799077Z"
    },
    "trusted": true
   },
   "execution_count": 93,
   "outputs": [
    {
     "name": "stdout",
     "output_type": "stream",
     "text": [
      "Submission successfully saved!\n"
     ]
    }
   ]
  }
 ]
}