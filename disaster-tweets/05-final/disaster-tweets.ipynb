{
 "cells": [
  {
   "cell_type": "markdown",
   "source": [
    "# Disaster tweets\n",
    "\n",
    "*(Author: Aitor Pérez Pérez)*\n",
    "\n",
    "In this notebook we use different ML techniques in order to predict whether a given tweet refers to a natural catastrophe."
   ],
   "metadata": {
    "collapsed": false
   }
  },
  {
   "cell_type": "markdown",
   "source": [
    "## 1. Summary\n",
    "\n",
    "To see its limitation, we will only use the actual tweet, without the tweet metadata. The different steps we go trough are listed below, including some data preprocessing, exploration and several ML techniques in increasing order of complexity:\n",
    "\n",
    "* **Preprocessing and data exploration**\n",
    "    * Loading data\n",
    "    * Exploratory data analysis (EDA)\n",
    "    * Vectorization\n",
    "* **Model training and validation**\n",
    "    * Preparation\n",
    "    * Multinomial Naive Bayes\n",
    "    * Logistic regression\n",
    "    * Multilayer Perceptron (Simple neural network)\n",
    "    * Deep Neural Network\n",
    "    * Genetic algorithm"
   ],
   "metadata": {
    "collapsed": false
   }
  },
  {
   "cell_type": "markdown",
   "source": [
    "## 2. Preprocessing and data exploration\n",
    "### 2.1. Loading data\n",
    "We load the datasets using the common Python library *pandas*."
   ],
   "metadata": {
    "collapsed": false
   }
  },
  {
   "cell_type": "code",
   "execution_count": 39,
   "outputs": [
    {
     "data": {
      "text/plain": "                                                text  target\n0  Our Deeds are the Reason of this #earthquake M...       1\n1             Forest fire near La Ronge Sask. Canada       1\n2  All residents asked to 'shelter in place' are ...       1\n3  13,000 people receive #wildfires evacuation or...       1\n4  Just got sent this photo from Ruby #Alaska as ...       1",
      "text/html": "<div>\n<style scoped>\n    .dataframe tbody tr th:only-of-type {\n        vertical-align: middle;\n    }\n\n    .dataframe tbody tr th {\n        vertical-align: top;\n    }\n\n    .dataframe thead th {\n        text-align: right;\n    }\n</style>\n<table border=\"1\" class=\"dataframe\">\n  <thead>\n    <tr style=\"text-align: right;\">\n      <th></th>\n      <th>text</th>\n      <th>target</th>\n    </tr>\n  </thead>\n  <tbody>\n    <tr>\n      <th>0</th>\n      <td>Our Deeds are the Reason of this #earthquake M...</td>\n      <td>1</td>\n    </tr>\n    <tr>\n      <th>1</th>\n      <td>Forest fire near La Ronge Sask. Canada</td>\n      <td>1</td>\n    </tr>\n    <tr>\n      <th>2</th>\n      <td>All residents asked to 'shelter in place' are ...</td>\n      <td>1</td>\n    </tr>\n    <tr>\n      <th>3</th>\n      <td>13,000 people receive #wildfires evacuation or...</td>\n      <td>1</td>\n    </tr>\n    <tr>\n      <th>4</th>\n      <td>Just got sent this photo from Ruby #Alaska as ...</td>\n      <td>1</td>\n    </tr>\n  </tbody>\n</table>\n</div>"
     },
     "execution_count": 39,
     "metadata": {},
     "output_type": "execute_result"
    }
   ],
   "source": [
    "import numpy as np\n",
    "import pandas as pd\n",
    "import matplotlib.pyplot as plt\n",
    "import seaborn as sns\n",
    "\n",
    "train = pd.read_csv('../data/train.csv')\n",
    "test = pd.read_csv('../data/test.csv')\n",
    "\n",
    "# We drop the tweet metadata\n",
    "train = train.drop(['id', 'keyword', 'location'], axis=1)\n",
    "test = test.drop(['keyword', 'location'], axis=1)\n",
    "\n",
    "train.head()"
   ],
   "metadata": {
    "collapsed": false,
    "pycharm": {
     "name": "#%%\n"
    }
   }
  },
  {
   "cell_type": "markdown",
   "source": [
    "We check the total number of tweets."
   ],
   "metadata": {
    "collapsed": false
   }
  },
  {
   "cell_type": "code",
   "execution_count": 40,
   "outputs": [
    {
     "data": {
      "text/plain": "(7613, 2)"
     },
     "execution_count": 40,
     "metadata": {},
     "output_type": "execute_result"
    }
   ],
   "source": [
    "train.shape"
   ],
   "metadata": {
    "collapsed": false,
    "pycharm": {
     "name": "#%%\n"
    }
   }
  },
  {
   "cell_type": "markdown",
   "source": [
    "### 2.2. Exploratory data analysis (EDA)\n",
    "We now try to get acquainted with the dataset. In this case, the dataset is simple, however we need to check for missing values and duplicates. Additionally, as we are working with text we perform some cleanup."
   ],
   "metadata": {
    "collapsed": false
   }
  },
  {
   "cell_type": "markdown",
   "source": [
    "#### NA analysis\n",
    "\n",
    "We make sure we do not have NA values in our data."
   ],
   "metadata": {
    "collapsed": false
   }
  },
  {
   "cell_type": "code",
   "execution_count": 41,
   "outputs": [
    {
     "data": {
      "text/plain": "text      False\ntarget    False\ndtype: bool"
     },
     "execution_count": 41,
     "metadata": {},
     "output_type": "execute_result"
    }
   ],
   "source": [
    "train.isna().any()"
   ],
   "metadata": {
    "collapsed": false,
    "pycharm": {
     "name": "#%%\n"
    }
   }
  },
  {
   "cell_type": "markdown",
   "source": [
    "#### Duplicates\n",
    "\n",
    "Similarly, we check and remove duplicates. In this case, we see that even tweets with the same text are duplicated and labeled with both disaster and non-disaster labels."
   ],
   "metadata": {
    "collapsed": false
   }
  },
  {
   "cell_type": "code",
   "execution_count": 42,
   "outputs": [
    {
     "data": {
      "text/plain": "                                                   text  target\n48    Check these out: http://t.co/rOI2NSmEJJ http:/...       0\n115   320 [IR] ICEMOON [AFTERSHOCK] | http://t.co/vA...       0\n119   320 [IR] ICEMOON [AFTERSHOCK] | http://t.co/TH...       0\n164   Experts in France begin examining airplane deb...       1\n630                          To fight bioterrorism sir.       1\n...                                                 ...     ...\n7600  Evacuation order lifted for town of Roosevelt:...       1\n7607  #stormchase Violent Record Breaking EF-5 El Re...       1\n7609  @aria_ahrary @TheTawniest The out of control w...       1\n7610  M1.94 [01:04 UTC]?5km S of Volcano Hawaii. htt...       1\n7611  Police investigating after an e-bike collided ...       1\n\n[92 rows x 2 columns]",
      "text/html": "<div>\n<style scoped>\n    .dataframe tbody tr th:only-of-type {\n        vertical-align: middle;\n    }\n\n    .dataframe tbody tr th {\n        vertical-align: top;\n    }\n\n    .dataframe thead th {\n        text-align: right;\n    }\n</style>\n<table border=\"1\" class=\"dataframe\">\n  <thead>\n    <tr style=\"text-align: right;\">\n      <th></th>\n      <th>text</th>\n      <th>target</th>\n    </tr>\n  </thead>\n  <tbody>\n    <tr>\n      <th>48</th>\n      <td>Check these out: http://t.co/rOI2NSmEJJ http:/...</td>\n      <td>0</td>\n    </tr>\n    <tr>\n      <th>115</th>\n      <td>320 [IR] ICEMOON [AFTERSHOCK] | http://t.co/vA...</td>\n      <td>0</td>\n    </tr>\n    <tr>\n      <th>119</th>\n      <td>320 [IR] ICEMOON [AFTERSHOCK] | http://t.co/TH...</td>\n      <td>0</td>\n    </tr>\n    <tr>\n      <th>164</th>\n      <td>Experts in France begin examining airplane deb...</td>\n      <td>1</td>\n    </tr>\n    <tr>\n      <th>630</th>\n      <td>To fight bioterrorism sir.</td>\n      <td>1</td>\n    </tr>\n    <tr>\n      <th>...</th>\n      <td>...</td>\n      <td>...</td>\n    </tr>\n    <tr>\n      <th>7600</th>\n      <td>Evacuation order lifted for town of Roosevelt:...</td>\n      <td>1</td>\n    </tr>\n    <tr>\n      <th>7607</th>\n      <td>#stormchase Violent Record Breaking EF-5 El Re...</td>\n      <td>1</td>\n    </tr>\n    <tr>\n      <th>7609</th>\n      <td>@aria_ahrary @TheTawniest The out of control w...</td>\n      <td>1</td>\n    </tr>\n    <tr>\n      <th>7610</th>\n      <td>M1.94 [01:04 UTC]?5km S of Volcano Hawaii. htt...</td>\n      <td>1</td>\n    </tr>\n    <tr>\n      <th>7611</th>\n      <td>Police investigating after an e-bike collided ...</td>\n      <td>1</td>\n    </tr>\n  </tbody>\n</table>\n<p>92 rows × 2 columns</p>\n</div>"
     },
     "execution_count": 42,
     "metadata": {},
     "output_type": "execute_result"
    }
   ],
   "source": [
    "train[train.duplicated()]"
   ],
   "metadata": {
    "collapsed": false,
    "pycharm": {
     "name": "#%%\n"
    }
   }
  },
  {
   "cell_type": "code",
   "execution_count": 43,
   "outputs": [
    {
     "data": {
      "text/plain": "Empty DataFrame\nColumns: [id, text]\nIndex: []",
      "text/html": "<div>\n<style scoped>\n    .dataframe tbody tr th:only-of-type {\n        vertical-align: middle;\n    }\n\n    .dataframe tbody tr th {\n        vertical-align: top;\n    }\n\n    .dataframe thead th {\n        text-align: right;\n    }\n</style>\n<table border=\"1\" class=\"dataframe\">\n  <thead>\n    <tr style=\"text-align: right;\">\n      <th></th>\n      <th>id</th>\n      <th>text</th>\n    </tr>\n  </thead>\n  <tbody>\n  </tbody>\n</table>\n</div>"
     },
     "execution_count": 43,
     "metadata": {},
     "output_type": "execute_result"
    }
   ],
   "source": [
    "test[test.duplicated()]"
   ],
   "metadata": {
    "collapsed": false,
    "pycharm": {
     "name": "#%%\n"
    }
   }
  },
  {
   "cell_type": "code",
   "execution_count": 44,
   "outputs": [
    {
     "data": {
      "text/plain": "(7521, 2)"
     },
     "execution_count": 44,
     "metadata": {},
     "output_type": "execute_result"
    }
   ],
   "source": [
    "train = train.drop_duplicates(ignore_index=True)\n",
    "train.shape"
   ],
   "metadata": {
    "collapsed": false,
    "pycharm": {
     "name": "#%%\n"
    }
   }
  },
  {
   "cell_type": "markdown",
   "source": [
    "#### Total number of tweets per category level\n",
    "\n",
    "We now want to know whether we have unbalanced data, i.e. whether we have many more disaster tweets than non-disaster ones. This would change the way we approach the problem. In our case, we do not have a significant difference, so we proceed as planned."
   ],
   "metadata": {
    "collapsed": false
   }
  },
  {
   "cell_type": "code",
   "execution_count": 45,
   "outputs": [
    {
     "data": {
      "text/plain": "Text(0, 0.5, 'Number of tweets')"
     },
     "execution_count": 45,
     "metadata": {},
     "output_type": "execute_result"
    },
    {
     "data": {
      "text/plain": "<Figure size 432x288 with 1 Axes>",
      "image/png": "[encoded data removed]"
     },
     "metadata": {
      "needs_background": "light"
     },
     "output_type": "display_data"
    }
   ],
   "source": [
    "train_gp = train.groupby('target', as_index=False).count()\n",
    "\n",
    "fig, ax = plt.subplots()\n",
    "ax.bar(train_gp['target'].astype('string'), train_gp['text'], color=['tab:blue', 'tab:orange'], alpha=0.5)\n",
    "ax.set_title('Number of tweets per target category')\n",
    "ax.set_xlabel('Natural catastrophe')\n",
    "ax.set_ylabel('Number of tweets')"
   ],
   "metadata": {
    "collapsed": false,
    "pycharm": {
     "name": "#%%\n"
    }
   }
  },
  {
   "cell_type": "markdown",
   "source": [
    "#### Text cleanup\n",
    "\n",
    "Next, we will apply some standard text processing to the tweets, for instance removing common, rather meaningless words like \"a\" or \"the\" and some slang. To do so, we will use the *NLTK* library as well as the standard *string* Python library."
   ],
   "metadata": {
    "collapsed": false
   }
  },
  {
   "cell_type": "code",
   "execution_count": 46,
   "outputs": [
    {
     "data": {
      "text/plain": "                                                text  target  \\\n0  Our Deeds are the Reason of this #earthquake M...       1   \n1             Forest fire near La Ronge Sask. Canada       1   \n2  All residents asked to 'shelter in place' are ...       1   \n3  13,000 people receive #wildfires evacuation or...       1   \n4  Just got sent this photo from Ruby #Alaska as ...       1   \n\n                                          clean_text  \n0       deeds reason earthquake may allah forgive us  \n1              forest fire near la ronge sask canada  \n2  residents asked shelter place notified officer...  \n3  13000 people receive wildfires evacuation orde...  \n4  got sent photo ruby alaska smoke wildfires pou...  ",
      "text/html": "<div>\n<style scoped>\n    .dataframe tbody tr th:only-of-type {\n        vertical-align: middle;\n    }\n\n    .dataframe tbody tr th {\n        vertical-align: top;\n    }\n\n    .dataframe thead th {\n        text-align: right;\n    }\n</style>\n<table border=\"1\" class=\"dataframe\">\n  <thead>\n    <tr style=\"text-align: right;\">\n      <th></th>\n      <th>text</th>\n      <th>target</th>\n      <th>clean_text</th>\n    </tr>\n  </thead>\n  <tbody>\n    <tr>\n      <th>0</th>\n      <td>Our Deeds are the Reason of this #earthquake M...</td>\n      <td>1</td>\n      <td>deeds reason earthquake may allah forgive us</td>\n    </tr>\n    <tr>\n      <th>1</th>\n      <td>Forest fire near La Ronge Sask. Canada</td>\n      <td>1</td>\n      <td>forest fire near la ronge sask canada</td>\n    </tr>\n    <tr>\n      <th>2</th>\n      <td>All residents asked to 'shelter in place' are ...</td>\n      <td>1</td>\n      <td>residents asked shelter place notified officer...</td>\n    </tr>\n    <tr>\n      <th>3</th>\n      <td>13,000 people receive #wildfires evacuation or...</td>\n      <td>1</td>\n      <td>13000 people receive wildfires evacuation orde...</td>\n    </tr>\n    <tr>\n      <th>4</th>\n      <td>Just got sent this photo from Ruby #Alaska as ...</td>\n      <td>1</td>\n      <td>got sent photo ruby alaska smoke wildfires pou...</td>\n    </tr>\n  </tbody>\n</table>\n</div>"
     },
     "execution_count": 46,
     "metadata": {},
     "output_type": "execute_result"
    }
   ],
   "source": [
    "import string\n",
    "from nltk.corpus import stopwords\n",
    "\n",
    "def clean_text(raw):\n",
    "    # Remove punctuation characters\n",
    "    no_punct = [char for char in raw if char not in string.punctuation]\n",
    "    no_punct = ''.join(no_punct)\n",
    "\n",
    "    # Lowercase\n",
    "    lowercase = no_punct.lower()\n",
    "\n",
    "    # Remove stopwords\n",
    "    all_stopwords = stopwords.words('english') + ['im', 'u', 'ur', 'ure', '2', '4', 'amp', 'via']\n",
    "    no_stopwords = [word for word in lowercase.split() if word.lower() not in all_stopwords]\n",
    "    no_stopwords = ' '.join(no_stopwords)\n",
    "\n",
    "    return no_stopwords\n",
    "\n",
    "train['clean_text'] = train['text'].apply(clean_text)\n",
    "test['clean_text'] = test['text'].apply(clean_text)\n",
    "\n",
    "train.head()"
   ],
   "metadata": {
    "collapsed": false,
    "pycharm": {
     "name": "#%%\n"
    }
   }
  },
  {
   "cell_type": "markdown",
   "source": [
    "#### Most common words\n",
    "\n",
    "To have an intuitive idea of what both disaster and non-disaster tweets look like, let us have a look at the most common words for both of them. An intuitive way of visualize them is using word clouds."
   ],
   "metadata": {
    "collapsed": false
   }
  },
  {
   "cell_type": "code",
   "execution_count": 47,
   "outputs": [],
   "source": [
    "from collections import Counter\n",
    "\n",
    "disaster_terms = ' '.join(train['clean_text'][train['target'] == 1]).split()\n",
    "non_disaster_terms = ' '.join(train['clean_text'][train['target'] == 0]).split()\n",
    "\n",
    "disaster_top_terms = Counter(disaster_terms).most_common(10)\n",
    "non_disaster_top_terms = Counter(non_disaster_terms).most_common(10)"
   ],
   "metadata": {
    "collapsed": false,
    "pycharm": {
     "name": "#%%\n"
    }
   }
  },
  {
   "cell_type": "markdown",
   "source": [
    "We generate wordclouds with the most repeated terms for both disaster and non-disaster tweets."
   ],
   "metadata": {
    "collapsed": false
   }
  },
  {
   "cell_type": "code",
   "execution_count": 48,
   "outputs": [],
   "source": [
    "from wordcloud import WordCloud\n",
    "\n",
    "def gen_wordcloud(top_terms):\n",
    "    # Compute term frequencies based on inverse ranking\n",
    "    freqs = {}\n",
    "    n = len(top_terms)\n",
    "    i = 0\n",
    "    for term in top_terms:\n",
    "        freqs[term[0]] = n - i\n",
    "        i += 1\n",
    "\n",
    "    # Create and store word cloud\n",
    "    wc = WordCloud(background_color='white', colormap='tab20c')\n",
    "    return wc.generate_from_frequencies(freqs)"
   ],
   "metadata": {
    "collapsed": false,
    "pycharm": {
     "name": "#%%\n"
    }
   }
  },
  {
   "cell_type": "code",
   "execution_count": 49,
   "outputs": [
    {
     "data": {
      "text/plain": "<Figure size 1200x800 with 2 Axes>",
      "image/png": "[encoded data removed]"
     },
     "metadata": {
      "needs_background": "light"
     },
     "output_type": "display_data"
    }
   ],
   "source": [
    "titles = ['Disaster tweets', 'Non-disaster tweets']\n",
    "wordclouds = [\n",
    "    gen_wordcloud(disaster_top_terms),\n",
    "    gen_wordcloud(non_disaster_top_terms)\n",
    "]\n",
    "\n",
    "fig, axs = plt.subplots(1, 2, figsize=(6,4), dpi=200)\n",
    "for i in range(2):\n",
    "    axs[i].imshow(wordclouds[i])\n",
    "    axs[i].set_title(titles[i])\n",
    "    axs[i].axis('off')"
   ],
   "metadata": {
    "collapsed": false,
    "pycharm": {
     "name": "#%%\n"
    }
   }
  },
  {
   "cell_type": "markdown",
   "source": [
    "### 2.3. Vectorization\n",
    "\n",
    "We generate vector counts for both train and test data using scikit's *CountVectorizer*. In particular, we fit the vectorizer only with the train tokens, and use it to transform both train and test data. We use a simple approach by just counting the number of times the tokens appear in a tweet, and we consider tokens to be both 1 and 2-grams, i.e. words and sets of 2 consecutive words."
   ],
   "metadata": {
    "collapsed": false
   }
  },
  {
   "cell_type": "code",
   "execution_count": 50,
   "outputs": [
    {
     "data": {
      "text/plain": "((7521, 74578), (3263, 74578), (7521,))"
     },
     "execution_count": 50,
     "metadata": {},
     "output_type": "execute_result"
    }
   ],
   "source": [
    "from sklearn.feature_extraction.text import CountVectorizer\n",
    "\n",
    "cvec = CountVectorizer(ngram_range=(1, 2))\n",
    "cvec.fit(train['clean_text'])\n",
    "X_train = cvec.transform(train['clean_text'])\n",
    "X_test = cvec.transform(test['clean_text'])\n",
    "y_train = train['target']\n",
    "\n",
    "X_train.shape, X_test.shape, y_train.shape"
   ],
   "metadata": {
    "collapsed": false,
    "pycharm": {
     "name": "#%%\n"
    }
   }
  },
  {
   "cell_type": "markdown",
   "source": [
    "## 3. Model training and validation\n",
    "\n",
    "We may now start training different models and checking their performance. For each of them, we use cross validation to tune some of their hyperparameters and to have an idea of their accuracy. As metric, we use the F1-score, i.e. the harmonic mean of precision and recall."
   ],
   "metadata": {
    "collapsed": false
   }
  },
  {
   "cell_type": "markdown",
   "source": [
    "### 3.1. Preparation\n",
    "\n",
    "We define here some helper functions that we will use across the different models in order to simplify some recurrent tasks."
   ],
   "metadata": {
    "collapsed": false
   }
  },
  {
   "cell_type": "code",
   "execution_count": 51,
   "outputs": [],
   "source": [
    "from sklearn.model_selection import KFold\n",
    "from sklearn.model_selection import cross_val_score\n",
    "\n",
    "def cv_score(clf, X, y):\n",
    "    cv = KFold(n_splits=3, shuffle=True, random_state=0)\n",
    "    score = np.mean(cross_val_score(clf, X, y, cv=cv, scoring='f1'))\n",
    "    return score"
   ],
   "metadata": {
    "collapsed": false,
    "pycharm": {
     "name": "#%%\n"
    }
   }
  },
  {
   "cell_type": "code",
   "execution_count": 52,
   "outputs": [],
   "source": [
    "def plot_heatmap(models, param_grid, field):\n",
    "    hyperparams = list(param_grid.keys())\n",
    "\n",
    "    values = pd.DataFrame(\n",
    "        index=param_grid[hyperparams[0]][::-1],\n",
    "        columns=param_grid[hyperparams[1]],\n",
    "        dtype='float64'\n",
    "    )\n",
    "\n",
    "    for params in ParameterGrid(param_grid):\n",
    "        key = '-'.join([str(x) for x in params.values()])\n",
    "        values.loc[params[hyperparams[0]], params[hyperparams[1]]] = models[key][field]\n",
    "\n",
    "    sns.heatmap(values, annot=True, fmt='.4f', cmap='Blues')\n",
    "    plt.xlabel(hyperparams[1])\n",
    "    plt.ylabel(hyperparams[0])"
   ],
   "metadata": {
    "collapsed": false,
    "pycharm": {
     "name": "#%%\n"
    }
   }
  },
  {
   "cell_type": "markdown",
   "source": [
    "### 3.2. Multinomial Naive Bayes\n",
    "\n",
    "Because our features are word counts, they are integer and discrete. It is hence interesting to consider a multinomial Naive Bayes model to predict the target variable. We define a parameter grid upon which we will find the combination of parameters yielding the highest score."
   ],
   "metadata": {
    "collapsed": false
   }
  },
  {
   "cell_type": "code",
   "execution_count": 53,
   "outputs": [],
   "source": [
    "from sklearn.naive_bayes import MultinomialNB\n",
    "\n",
    "param_grid = {\n",
    "    'alpha': [0.1, 0.5, 1],\n",
    "    'fit_prior': [True, False]\n",
    "}"
   ],
   "metadata": {
    "collapsed": false,
    "pycharm": {
     "name": "#%%\n"
    }
   }
  },
  {
   "cell_type": "code",
   "execution_count": 54,
   "outputs": [],
   "source": [
    "from sklearn.model_selection import ParameterGrid\n",
    "\n",
    "models = {}\n",
    "for params in ParameterGrid(param_grid):\n",
    "    key = '-'.join([str(x) for x in params.values()])\n",
    "    models[key] = {}\n",
    "\n",
    "    models[key]['model'] = MultinomialNB(\n",
    "        alpha=params['alpha'],\n",
    "        fit_prior=params['fit_prior']\n",
    "    )\n",
    "\n",
    "    models[key]['score'] = cv_score(models[key]['model'], X_train, y_train)"
   ],
   "metadata": {
    "collapsed": false,
    "pycharm": {
     "name": "#%%\n"
    }
   }
  },
  {
   "cell_type": "code",
   "execution_count": 55,
   "outputs": [
    {
     "data": {
      "text/plain": "<Figure size 432x288 with 2 Axes>",
      "image/png": "[encoded data removed]"
     },
     "metadata": {
      "needs_background": "light"
     },
     "output_type": "display_data"
    }
   ],
   "source": [
    "plot_heatmap(models, param_grid, 'score')"
   ],
   "metadata": {
    "collapsed": false,
    "pycharm": {
     "name": "#%%\n"
    }
   }
  },
  {
   "cell_type": "markdown",
   "source": [
    "### 3.3. Logistic Regression\n",
    "Logistic regression is another ML technique used for classification. Provided that the size of our data is still moderate, we train some models using this approach."
   ],
   "metadata": {
    "collapsed": false
   }
  },
  {
   "cell_type": "code",
   "execution_count": 56,
   "outputs": [],
   "source": [
    "from sklearn.linear_model import LogisticRegression\n",
    "\n",
    "param_grid = {\n",
    "    'C': [1, 10, 100],\n",
    "    'solver': ['newton-cg', 'lbfgs', 'liblinear', 'saga']\n",
    "}"
   ],
   "metadata": {
    "collapsed": false,
    "pycharm": {
     "name": "#%%\n"
    }
   }
  },
  {
   "cell_type": "code",
   "execution_count": 57,
   "outputs": [],
   "source": [
    "%%capture --no-display\n",
    "\n",
    "models = {}\n",
    "for params in ParameterGrid(param_grid):\n",
    "    key = '-'.join([str(x) for x in params.values()])\n",
    "    models[key] = {}\n",
    "\n",
    "    models[key]['model'] = LogisticRegression(\n",
    "        solver=params['solver'],\n",
    "        C=params['C'],\n",
    "        max_iter=500\n",
    "    )\n",
    "\n",
    "    models[key]['score'] = cv_score(models[key]['model'], X_train, y_train)"
   ],
   "metadata": {
    "collapsed": false,
    "pycharm": {
     "name": "#%%\n"
    }
   }
  },
  {
   "cell_type": "code",
   "execution_count": 58,
   "outputs": [
    {
     "data": {
      "text/plain": "<Figure size 432x288 with 2 Axes>",
      "image/png": "[encoded data removed]"
     },
     "metadata": {
      "needs_background": "light"
     },
     "output_type": "display_data"
    }
   ],
   "source": [
    "plot_heatmap(models, param_grid, 'score')"
   ],
   "metadata": {
    "collapsed": false,
    "pycharm": {
     "name": "#%%\n"
    }
   }
  },
  {
   "cell_type": "markdown",
   "source": [
    "### 3.4. Multilayer perceptron (Simple neural network)\n",
    "\n",
    "Moving on to more complex techniques, we try a simple neural network with one single hidden layer. For that, we use scikit's *MLPClassifier*. At this stage, we revectorize the tweets by using scikit's *TfidfVectorizer*. This vectorizer not only takes the word counts into account but normalizes them by considering their global frequence. Later, we search in the parameter grid the best combination of parameters."
   ],
   "metadata": {
    "collapsed": false
   }
  },
  {
   "cell_type": "code",
   "execution_count": 59,
   "outputs": [],
   "source": [
    "from sklearn.feature_extraction.text import TfidfVectorizer\n",
    "\n",
    "tfidf_vec = TfidfVectorizer(ngram_range=(1, 2))\n",
    "tfidf_vec.fit(train['clean_text'])\n",
    "X_train = tfidf_vec.transform(train['clean_text'])\n",
    "X_test = tfidf_vec.transform(test['clean_text'])\n",
    "y_train = train['target']"
   ],
   "metadata": {
    "collapsed": false,
    "pycharm": {
     "name": "#%%\n"
    }
   }
  },
  {
   "cell_type": "code",
   "execution_count": 60,
   "outputs": [],
   "source": [
    "from sklearn.neural_network import MLPClassifier\n",
    "\n",
    "param_grid = {\n",
    "    'activation': ['tanh', 'relu'],\n",
    "    'hidden_layer_sizes': [10, 20, 40]\n",
    "}"
   ],
   "metadata": {
    "collapsed": false,
    "pycharm": {
     "name": "#%%\n"
    }
   }
  },
  {
   "cell_type": "code",
   "execution_count": 61,
   "outputs": [
    {
     "name": "stdout",
     "output_type": "stream",
     "text": [
      "Training tanh-10\n",
      "Training tanh-20\n",
      "Training tanh-40\n",
      "Training relu-10\n",
      "Training relu-20\n",
      "Training relu-40\n"
     ]
    }
   ],
   "source": [
    "models = {}\n",
    "for params in ParameterGrid(param_grid):\n",
    "    key = '-'.join([str(x) for x in params.values()])\n",
    "    models[key] = {}\n",
    "\n",
    "    print('Training', key)\n",
    "    models[key]['model'] = MLPClassifier(\n",
    "        activation=params['activation'],\n",
    "        hidden_layer_sizes=(params['hidden_layer_sizes'],),\n",
    "        max_iter=10000\n",
    "    )\n",
    "\n",
    "    models[key]['score'] = cv_score(models[key]['model'], X_train, y_train)"
   ],
   "metadata": {
    "collapsed": false,
    "pycharm": {
     "name": "#%%\n"
    }
   }
  },
  {
   "cell_type": "code",
   "execution_count": 62,
   "outputs": [
    {
     "data": {
      "text/plain": "<Figure size 432x288 with 2 Axes>",
      "image/png": "[encoded data removed]"
     },
     "metadata": {
      "needs_background": "light"
     },
     "output_type": "display_data"
    }
   ],
   "source": [
    "plot_heatmap(models, param_grid, 'score')"
   ],
   "metadata": {
    "collapsed": false,
    "pycharm": {
     "name": "#%%\n"
    }
   }
  },
  {
   "cell_type": "markdown",
   "source": [
    "### 3.5. Deep Neural Network\n",
    "\n",
    "We now want to implement a deep neural network with a more complex architecture, using the library *keras*. In particular, we use a common approach to NLP problems which includes the text vectorization. We set a first Embedding layer, followed by two one-dimensional convolutional layers and a GlobalMaxPooling layer, and we finally set a Dense layer. In between some of these steps, we use Dropout layers in order to prevent overfitting."
   ],
   "metadata": {
    "collapsed": false
   }
  },
  {
   "cell_type": "code",
   "execution_count": 63,
   "outputs": [
    {
     "name": "stderr",
     "output_type": "stream",
     "text": [
      "2021-11-12 19:50:14.028420: I tensorflow/core/platform/cpu_feature_guard.cc:142] This TensorFlow binary is optimized with oneAPI Deep Neural Network Library (oneDNN) to use the following CPU instructions in performance-critical operations:  AVX2 FMA\n",
      "To enable them in other operations, rebuild TensorFlow with the appropriate compiler flags.\n"
     ]
    }
   ],
   "source": [
    "%%capture --no-display\n",
    "\n",
    "import tensorflow as tf\n",
    "import tensorflow.keras as keras\n",
    "\n",
    "from keras.layers import TextVectorization\n",
    "from keras.layers import Embedding\n",
    "from keras.layers import Dropout\n",
    "from keras.layers import Conv1D\n",
    "from keras.layers import GlobalMaxPooling1D\n",
    "from keras.layers import Dense\n",
    "\n",
    "precision = keras.metrics.Precision()\n",
    "recall =  keras.metrics.Recall()\n",
    "\n",
    "train_text, train_label = np.array(train['clean_text']), np.array(train['target'])\n",
    "test_text = test['clean_text']\n",
    "\n",
    "print(train_text.shape)\n",
    "print(train_label.shape)\n",
    "print(test_text.shape)"
   ],
   "metadata": {
    "collapsed": false,
    "pycharm": {
     "name": "#%%\n"
    }
   }
  },
  {
   "cell_type": "markdown",
   "source": [
    "We create helper functions to build a model with a given set of hyperparameters and to train a given model."
   ],
   "metadata": {
    "collapsed": false
   }
  },
  {
   "cell_type": "code",
   "execution_count": 64,
   "outputs": [],
   "source": [
    "def build_model(params):\n",
    "    dropout_rate = 0.5\n",
    "\n",
    "    # Inputs are text strings, then we vectorize them\n",
    "    inputs = keras.Input(shape=(1,), dtype=tf.string, name='text')\n",
    "\n",
    "    vectorizer = TextVectorization(\n",
    "        standardize='lower_and_strip_punctuation',\n",
    "        max_tokens=params['max_features'],\n",
    "        output_mode='int',\n",
    "        output_sequence_length=params['sequence_length'],\n",
    "    )\n",
    "    vectorizer.adapt(train_text)\n",
    "    x = vectorizer(inputs)\n",
    "\n",
    "    # We use Embedding to map the vectorized text onto a space of dimension embedding_dim\n",
    "    x = Embedding(params['max_features'] + 1, params['embedding_dim'])(x)\n",
    "    x = Dropout(dropout_rate)(x)\n",
    "\n",
    "    # Conv1D + GlobalMaxPooling\n",
    "    x = Conv1D(params['conv_1_filters'], params['conv_1_kernel_size'], strides=params['conv_1_strides'], activation='relu')(x)\n",
    "    x = Conv1D(params['conv_2_filters'], params['conv_2_kernel_size'], strides=params['conv_2_strides'], activation='relu')(x)\n",
    "    x = GlobalMaxPooling1D()(x)\n",
    "\n",
    "    # Dense hidden layer\n",
    "    x = Dense(params['dense_layer_size'], activation='relu')(x)\n",
    "    x = Dropout(dropout_rate)(x)\n",
    "\n",
    "    # Output layer\n",
    "    outputs = Dense(1, activation='sigmoid', name='predictions')(x)\n",
    "\n",
    "    model = keras.Model(inputs, outputs)\n",
    "\n",
    "    # Compile the model with binary crossentropy loss and an adam optimizer.\n",
    "    model.compile(optimizer='adam', loss='binary_crossentropy', metrics=['accuracy', precision, recall])\n",
    "\n",
    "    return model"
   ],
   "metadata": {
    "collapsed": false,
    "pycharm": {
     "name": "#%%\n"
    }
   }
  },
  {
   "cell_type": "code",
   "execution_count": 65,
   "outputs": [],
   "source": [
    "def train_model(model, epochs, cv):\n",
    "    scores = []\n",
    "    for fold_train_indices, fold_val_indices in cv.split(train_text, train_label):\n",
    "        fold_train_text = train_text[fold_train_indices]\n",
    "        fold_train_label = train_label[fold_train_indices]\n",
    "        fold_val_text = train_text[fold_val_indices]\n",
    "        fold_val_label = train_label[fold_val_indices]\n",
    "\n",
    "        model.fit(fold_train_text, fold_train_label, epochs=epochs, verbose=-1)\n",
    "        fold_scores = model.evaluate(fold_val_text, fold_val_label)\n",
    "\n",
    "        p = fold_scores[2]\n",
    "        r = fold_scores[3]\n",
    "        fold_f1_score = 2/(1/p + 1/r)\n",
    "        fold_scores.append(fold_f1_score)\n",
    "\n",
    "        scores.append(fold_scores)\n",
    "\n",
    "    score = np.mean([fold_score[4] for fold_score in scores])\n",
    "\n",
    "    return score"
   ],
   "metadata": {
    "collapsed": false,
    "pycharm": {
     "name": "#%%\n"
    }
   }
  },
  {
   "cell_type": "markdown",
   "source": [
    "We are now ready to build a base model with the hyperparameters below."
   ],
   "metadata": {
    "collapsed": false
   }
  },
  {
   "cell_type": "code",
   "execution_count": 66,
   "outputs": [],
   "source": [
    "# Base model\n",
    "base_params = {\n",
    "    'max_features': 10000,\n",
    "    'sequence_length': 32,\n",
    "    'embedding_dim': 32,\n",
    "    'conv_1_filters': 32,\n",
    "    'conv_1_kernel_size': 3,\n",
    "    'conv_1_strides': 1,\n",
    "    'conv_2_filters': 32,\n",
    "    'conv_2_kernel_size': 3,\n",
    "    'conv_2_strides': 1,\n",
    "    'dense_layer_size': 32\n",
    "}"
   ],
   "metadata": {
    "collapsed": false,
    "pycharm": {
     "name": "#%%\n"
    }
   }
  },
  {
   "cell_type": "code",
   "execution_count": 67,
   "outputs": [
    {
     "name": "stderr",
     "output_type": "stream",
     "text": [
      "2021-11-12 19:50:14.271166: I tensorflow/compiler/mlir/mlir_graph_optimization_pass.cc:185] None of the MLIR Optimization Passes are enabled (registered 2)\n"
     ]
    },
    {
     "data": {
      "text/plain": "0.8293732528394505"
     },
     "execution_count": 67,
     "metadata": {},
     "output_type": "execute_result"
    }
   ],
   "source": [
    "%%capture --no-display\n",
    "\n",
    "base_model = build_model(base_params)\n",
    "epochs = 3\n",
    "cv = KFold(n_splits=3, shuffle=True, random_state=0)\n",
    "\n",
    "score = train_model(base_model, epochs, cv)\n",
    "score"
   ],
   "metadata": {
    "collapsed": false,
    "pycharm": {
     "name": "#%%\n"
    }
   }
  },
  {
   "cell_type": "markdown",
   "source": [
    "### 3.6. Genetic algorithm\n",
    "\n",
    "We now want to extend the previous approach in order to fine-tune the numerous parameters in the model. To do so, we could perform a cross-validated search as we have done above with the rest of models. Instead, we will follow an approach that uses a **genetic algorithm** to simulate a **natural selection** process with a population of deep neural networks.\n",
    "\n",
    "We do so by defining operations to combine (**reproduce**) and **mutate** the models, and simulate a number of generations, with better-performing models having more chances of having offspring than worse-performing ones."
   ],
   "metadata": {
    "collapsed": false
   }
  },
  {
   "cell_type": "markdown",
   "source": [
    "#### Helper functions\n",
    "\n",
    "The **mutate** function takes a *genotype* (a dictionary of the hyperparameters of a model) and *mutates* it by slightly perturbing its values. The function also clamps *sequence_length* and *max_features* to reasonable maxima, and corrects some hyperparameters from the convolutional layers in order to avoid unfeasible models."
   ],
   "metadata": {
    "collapsed": false
   }
  },
  {
   "cell_type": "code",
   "execution_count": 68,
   "outputs": [],
   "source": [
    "import math\n",
    "\n",
    "def mutate(genotype):\n",
    "    for param in genotype.keys():\n",
    "        # Random number r = 1 + |N(0, 0.2)|, we ensure r >= 1 and typically r < 1.5\n",
    "        r = 1 + np.abs(np.random.normal(0, 0.2))\n",
    "        # We decide at random with equal probability whether we take r or 1/r\n",
    "        perturbed_value = round(np.random.choice([genotype[param] * r, genotype[param] / r]))\n",
    "        genotype[param] = np.max([1, perturbed_value])\n",
    "\n",
    "    # Hard-coded maxima\n",
    "    genotype['sequence_length'] = np.min([32, genotype['sequence_length']])\n",
    "    genotype['max_features'] = np.min([30000, genotype['max_features']])\n",
    "\n",
    "    # Fix unfeasible genotypes\n",
    "    input_size_conv_1 = genotype['sequence_length']\n",
    "    genotype['conv_1_kernel_size'] = np.min([input_size_conv_1, genotype['conv_1_kernel_size']])\n",
    "\n",
    "    input_size_conv_2 = math.floor((input_size_conv_1 - (genotype['conv_1_kernel_size'] - genotype['conv_1_strides'])) / genotype['conv_1_strides'])\n",
    "    genotype['conv_2_kernel_size'] = np.min([input_size_conv_2, genotype['conv_2_kernel_size']])\n",
    "\n",
    "    # Convert numpy.int64 to int\n",
    "    for param in genotype.keys():\n",
    "        genotype[param] = genotype[param].item()\n",
    "\n",
    "    return genotype"
   ],
   "metadata": {
    "collapsed": false,
    "pycharm": {
     "name": "#%%\n"
    }
   }
  },
  {
   "cell_type": "markdown",
   "source": [
    "The **reproduce** function takes two *genotypes* and combines them by averaging all the parameters and mutating the resulting genotype with the *mutate* function."
   ],
   "metadata": {
    "collapsed": false
   }
  },
  {
   "cell_type": "code",
   "execution_count": 69,
   "outputs": [],
   "source": [
    "def reproduce(genotype_1, genotype_2):\n",
    "    genotype = {}\n",
    "    for param in base_params.keys():\n",
    "        genotype[param] = round(np.mean([genotype_1[param], genotype_2[param]]))\n",
    "\n",
    "    return mutate(genotype)"
   ],
   "metadata": {
    "collapsed": false,
    "pycharm": {
     "name": "#%%\n"
    }
   }
  },
  {
   "cell_type": "markdown",
   "source": [
    "We create a **print_genotype** function to display the parameters of a given model."
   ],
   "metadata": {
    "collapsed": false
   }
  },
  {
   "cell_type": "code",
   "execution_count": 70,
   "outputs": [],
   "source": [
    "def print_genotype(genotype):\n",
    "    s = str(genotype['max_features']) + ' '\n",
    "    s += str(genotype['sequence_length']) + ' '\n",
    "    s += str(genotype['embedding_dim']) + ' '\n",
    "    s += str(genotype['conv_1_filters']) + '-' + str(genotype['conv_1_kernel_size']) + '-' + str(genotype['conv_1_strides']) + ' '\n",
    "    s += str(genotype['conv_2_filters']) + '-' + str(genotype['conv_2_kernel_size']) + '-' + str(genotype['conv_2_strides']) + ' '\n",
    "    s += str(genotype['dense_layer_size'])\n",
    "    print(s)"
   ],
   "metadata": {
    "collapsed": false,
    "pycharm": {
     "name": "#%%\n"
    }
   }
  },
  {
   "cell_type": "markdown",
   "source": [
    "The **generation** function simulates one generation for a population of models, represented by their genotypes, by doing two things:\n",
    "1. Generates the descendant generation of genotypes, by choosing parents and reproducing them, with uneven probabilities so that better-performing models are more likely to be chosen.\n",
    "2. Trains all resulting models using cross-validation and obtaining a score for each of them. This score allows to sort them by performance and both the models' genotypes and scores are returned.\n",
    "\n",
    "\n",
    "**Assumption**: The *population* list contains the genotypes in descending order of score."
   ],
   "metadata": {
    "collapsed": false
   }
  },
  {
   "cell_type": "code",
   "execution_count": 71,
   "outputs": [],
   "source": [
    "def generation(population, epochs):\n",
    "    n = len(population)\n",
    "    probabilities = np.linspace(1.9, 0.1, n) / n\n",
    "\n",
    "    children = []\n",
    "    for i in range(n):\n",
    "        parents = np.random.choice(population, p=probabilities, size=2, replace=False)\n",
    "        child = reproduce(parents[0], parents[1])\n",
    "        children.append(child)\n",
    "\n",
    "    population = children\n",
    "\n",
    "    cv = KFold(n_splits=3, shuffle=True)\n",
    "\n",
    "    scores = []\n",
    "    for genotype in population:\n",
    "        print_genotype(genotype)\n",
    "        try:\n",
    "            model = build_model(genotype)\n",
    "            score = train_model(model, epochs, cv)\n",
    "        except:\n",
    "            score = 0\n",
    "        scores.append(score)\n",
    "        print()\n",
    "\n",
    "    sorted_tuples = sorted(zip(scores, population), reverse=True)\n",
    "    return {\n",
    "        'population': [genotype for _, genotype in sorted_tuples],\n",
    "        'scores': [score for score, _ in sorted_tuples]\n",
    "    }"
   ],
   "metadata": {
    "collapsed": false,
    "pycharm": {
     "name": "#%%\n"
    }
   }
  },
  {
   "cell_type": "markdown",
   "source": [
    "We are now ready to start the simulation for a number of generations, with the base parameters as starting point."
   ],
   "metadata": {
    "collapsed": false
   }
  },
  {
   "cell_type": "code",
   "execution_count": 72,
   "outputs": [
    {
     "name": "stdout",
     "output_type": "stream",
     "text": [
      "Generation 0\n",
      "8545 25 38 26-3-1 33-3-1 38\n",
      "Epoch 1/3\n",
      "Epoch 2/3\n",
      "Epoch 3/3\n",
      "79/79 [==============================] - 1s 3ms/step - loss: 0.5083 - accuracy: 0.7663 - precision: 0.7179 - recall: 0.7434\n",
      "Epoch 1/3\n",
      "Epoch 2/3\n",
      "Epoch 3/3\n",
      "79/79 [==============================] - 0s 4ms/step - loss: 0.2969 - accuracy: 0.8807 - precision: 0.8826 - recall: 0.8225\n",
      "Epoch 1/3\n",
      "Epoch 2/3\n",
      "Epoch 3/3\n",
      "79/79 [==============================] - 0s 2ms/step - loss: 0.2000 - accuracy: 0.9262 - precision: 0.9269 - recall: 0.9024\n",
      "\n",
      "9782 32 25 45-5-1 38-3-1 32\n",
      "Epoch 1/3\n",
      "Epoch 2/3\n",
      "Epoch 3/3\n",
      "79/79 [==============================] - 1s 3ms/step - loss: 0.4954 - accuracy: 0.7826 - precision: 0.7961 - recall: 0.6544\n",
      "Epoch 1/3\n",
      "Epoch 2/3\n",
      "Epoch 3/3\n",
      "79/79 [==============================] - 0s 3ms/step - loss: 0.2989 - accuracy: 0.8867 - precision: 0.9189 - recall: 0.8054\n",
      "Epoch 1/3\n",
      "Epoch 2/3\n",
      "Epoch 3/3\n",
      "79/79 [==============================] - 0s 3ms/step - loss: 0.1960 - accuracy: 0.9358 - precision: 0.9454 - recall: 0.9023\n",
      "\n",
      "9776 24 30 26-3-1 32-3-1 31\n",
      "Epoch 1/3\n",
      "Epoch 2/3\n",
      "Epoch 3/3\n",
      "79/79 [==============================] - 1s 3ms/step - loss: 0.5089 - accuracy: 0.7679 - precision: 0.7186 - recall: 0.7661\n",
      "Epoch 1/3\n",
      "Epoch 2/3\n",
      "Epoch 3/3\n",
      "79/79 [==============================] - 0s 2ms/step - loss: 0.3462 - accuracy: 0.8536 - precision: 0.8318 - recall: 0.8264\n",
      "Epoch 1/3\n",
      "Epoch 2/3\n",
      "Epoch 3/3\n",
      "79/79 [==============================] - 0s 3ms/step - loss: 0.1879 - accuracy: 0.9314 - precision: 0.9313 - recall: 0.9009\n",
      "\n",
      "11560 29 27 45-3-1 23-3-1 22\n",
      "Epoch 1/3\n",
      "Epoch 2/3\n",
      "Epoch 3/3\n",
      "79/79 [==============================] - 1s 2ms/step - loss: 0.4609 - accuracy: 0.7858 - precision: 0.7505 - recall: 0.7413\n",
      "Epoch 1/3\n",
      "Epoch 2/3\n",
      "Epoch 3/3\n",
      "79/79 [==============================] - 0s 2ms/step - loss: 0.3132 - accuracy: 0.8811 - precision: 0.8876 - recall: 0.8262\n",
      "Epoch 1/3\n",
      "Epoch 2/3\n",
      "Epoch 3/3\n",
      "79/79 [==============================] - 0s 2ms/step - loss: 0.1666 - accuracy: 0.9398 - precision: 0.9399 - recall: 0.9180\n",
      "\n",
      "6078 28 25 41-3-1 43-3-1 38\n",
      "Epoch 1/3\n",
      "Epoch 2/3\n",
      "Epoch 3/3\n",
      "79/79 [==============================] - 1s 3ms/step - loss: 0.4775 - accuracy: 0.7862 - precision: 0.8074 - recall: 0.6429\n",
      "Epoch 1/3\n",
      "Epoch 2/3\n",
      "Epoch 3/3\n",
      "79/79 [==============================] - 0s 3ms/step - loss: 0.3750 - accuracy: 0.8452 - precision: 0.8434 - recall: 0.7818\n",
      "Epoch 1/3\n",
      "Epoch 2/3\n",
      "Epoch 3/3\n",
      "79/79 [==============================] - 0s 3ms/step - loss: 0.2179 - accuracy: 0.9174 - precision: 0.9248 - recall: 0.8814\n",
      "\n",
      "9094 31 34 24-4-1 41-3-1 33\n",
      "Epoch 1/3\n",
      "Epoch 2/3\n",
      "Epoch 3/3\n",
      "79/79 [==============================] - 1s 3ms/step - loss: 0.4708 - accuracy: 0.7886 - precision: 0.7777 - recall: 0.7080\n",
      "Epoch 1/3\n",
      "Epoch 2/3\n",
      "Epoch 3/3\n",
      "79/79 [==============================] - 0s 2ms/step - loss: 0.3347 - accuracy: 0.8712 - precision: 0.8736 - recall: 0.8116\n",
      "Epoch 1/3\n",
      "Epoch 2/3\n",
      "Epoch 3/3\n",
      "79/79 [==============================] - 0s 3ms/step - loss: 0.1990 - accuracy: 0.9282 - precision: 0.9204 - recall: 0.9119\n",
      "\n",
      "10523 25 25 40-3-1 29-4-1 30\n",
      "Epoch 1/3\n",
      "Epoch 2/3\n",
      "Epoch 3/3\n",
      "79/79 [==============================] - 1s 2ms/step - loss: 0.4693 - accuracy: 0.7874 - precision: 0.7788 - recall: 0.6754\n",
      "Epoch 1/3\n",
      "Epoch 2/3\n",
      "Epoch 3/3\n",
      "79/79 [==============================] - 0s 2ms/step - loss: 0.3172 - accuracy: 0.8835 - precision: 0.9047 - recall: 0.8183\n",
      "Epoch 1/3\n",
      "Epoch 2/3\n",
      "Epoch 3/3\n",
      "79/79 [==============================] - 0s 3ms/step - loss: 0.2307 - accuracy: 0.9178 - precision: 0.9452 - recall: 0.8598\n",
      "\n",
      "10461 24 40 35-3-1 28-3-1 36\n",
      "Epoch 1/3\n",
      "Epoch 2/3\n",
      "Epoch 3/3\n",
      "79/79 [==============================] - 1s 2ms/step - loss: 0.4980 - accuracy: 0.7627 - precision: 0.7437 - recall: 0.6545\n",
      "Epoch 1/3\n",
      "Epoch 2/3\n",
      "Epoch 3/3\n",
      "79/79 [==============================] - 0s 2ms/step - loss: 0.3203 - accuracy: 0.8700 - precision: 0.8675 - recall: 0.8223\n",
      "Epoch 1/3\n",
      "Epoch 2/3\n",
      "Epoch 3/3\n",
      "79/79 [==============================] - 0s 2ms/step - loss: 0.1708 - accuracy: 0.9382 - precision: 0.9431 - recall: 0.9128\n",
      "\n",
      "13441 32 45 25-3-1 31-3-1 28\n",
      "Epoch 1/3\n",
      "Epoch 2/3\n",
      "Epoch 3/3\n",
      "79/79 [==============================] - 1s 3ms/step - loss: 0.4692 - accuracy: 0.7962 - precision: 0.7902 - recall: 0.7112\n",
      "Epoch 1/3\n",
      "Epoch 2/3\n",
      "Epoch 3/3\n",
      "79/79 [==============================] - 0s 2ms/step - loss: 0.2849 - accuracy: 0.8919 - precision: 0.8926 - recall: 0.8443\n",
      "Epoch 1/3\n",
      "Epoch 2/3\n",
      "Epoch 3/3\n",
      "79/79 [==============================] - 0s 3ms/step - loss: 0.1285 - accuracy: 0.9541 - precision: 0.9627 - recall: 0.9298\n",
      "\n",
      "8261 32 25 26-4-1 39-4-1 25\n",
      "Epoch 1/3\n",
      "Epoch 2/3\n",
      "Epoch 3/3\n",
      "79/79 [==============================] - 1s 2ms/step - loss: 0.4749 - accuracy: 0.7838 - precision: 0.7688 - recall: 0.7056\n",
      "Epoch 1/3\n",
      "Epoch 2/3\n",
      "Epoch 3/3\n",
      "79/79 [==============================] - 0s 2ms/step - loss: 0.3583 - accuracy: 0.8644 - precision: 0.8742 - recall: 0.7976\n",
      "Epoch 1/3\n",
      "Epoch 2/3\n",
      "Epoch 3/3\n",
      "79/79 [==============================] - 0s 3ms/step - loss: 0.2104 - accuracy: 0.9226 - precision: 0.9199 - recall: 0.8957\n",
      "\n",
      "Generation 1\n",
      "10316 32 35 31-4-1 29-2-1 37\n",
      "Epoch 1/3\n",
      "Epoch 2/3\n",
      "Epoch 3/3\n",
      "79/79 [==============================] - 1s 3ms/step - loss: 0.4790 - accuracy: 0.7878 - precision: 0.7568 - recall: 0.7340\n",
      "Epoch 1/3\n",
      "Epoch 2/3\n",
      "Epoch 3/3\n",
      "79/79 [==============================] - 0s 2ms/step - loss: 0.3131 - accuracy: 0.8771 - precision: 0.8983 - recall: 0.8024\n",
      "Epoch 1/3\n",
      "Epoch 2/3\n",
      "Epoch 3/3\n",
      "79/79 [==============================] - 0s 2ms/step - loss: 0.1912 - accuracy: 0.9338 - precision: 0.9444 - recall: 0.8989\n",
      "\n",
      "9726 32 22 45-3-1 29-4-1 29\n",
      "Epoch 1/3\n",
      "Epoch 2/3\n",
      "Epoch 3/3\n",
      "79/79 [==============================] - 1s 3ms/step - loss: 0.4894 - accuracy: 0.7647 - precision: 0.7250 - recall: 0.7343\n",
      "Epoch 1/3\n",
      "Epoch 2/3\n",
      "Epoch 3/3\n",
      "79/79 [==============================] - 0s 3ms/step - loss: 0.3348 - accuracy: 0.8771 - precision: 0.8873 - recall: 0.8095\n",
      "Epoch 1/3\n",
      "Epoch 2/3\n",
      "Epoch 3/3\n",
      "79/79 [==============================] - 0s 3ms/step - loss: 0.2320 - accuracy: 0.9146 - precision: 0.8980 - recall: 0.9030\n",
      "\n",
      "9985 25 40 24-3-1 32-2-1 36\n",
      "Epoch 1/3\n",
      "Epoch 2/3\n",
      "Epoch 3/3\n",
      "79/79 [==============================] - 1s 3ms/step - loss: 0.4929 - accuracy: 0.7714 - precision: 0.7307 - recall: 0.7244\n",
      "Epoch 1/3\n",
      "Epoch 2/3\n",
      "Epoch 3/3\n",
      "79/79 [==============================] - 0s 3ms/step - loss: 0.3181 - accuracy: 0.8755 - precision: 0.8679 - recall: 0.8390\n",
      "Epoch 1/3\n",
      "Epoch 2/3\n",
      "Epoch 3/3\n",
      "79/79 [==============================] - 0s 3ms/step - loss: 0.1756 - accuracy: 0.9410 - precision: 0.9493 - recall: 0.9102\n",
      "\n",
      "10213 32 36 28-3-1 29-4-1 37\n",
      "Epoch 1/3\n",
      "Epoch 2/3\n",
      "Epoch 3/3\n",
      "79/79 [==============================] - 1s 3ms/step - loss: 0.4707 - accuracy: 0.7882 - precision: 0.7627 - recall: 0.7231\n",
      "Epoch 1/3\n",
      "Epoch 2/3\n",
      "Epoch 3/3\n",
      "79/79 [==============================] - 0s 4ms/step - loss: 0.3312 - accuracy: 0.8668 - precision: 0.9145 - recall: 0.7682\n",
      "Epoch 1/3\n",
      "Epoch 2/3\n",
      "Epoch 3/3\n",
      "79/79 [==============================] - 0s 3ms/step - loss: 0.2098 - accuracy: 0.9238 - precision: 0.9298 - recall: 0.8845\n",
      "\n",
      "10699 32 29 32-4-1 34-3-1 31\n",
      "Epoch 1/3\n",
      "Epoch 2/3\n",
      "Epoch 3/3\n",
      "79/79 [==============================] - 1s 2ms/step - loss: 0.4936 - accuracy: 0.7671 - precision: 0.7219 - recall: 0.7246\n",
      "Epoch 1/3\n",
      "Epoch 2/3\n",
      "Epoch 3/3\n",
      "79/79 [==============================] - 0s 3ms/step - loss: 0.3169 - accuracy: 0.8755 - precision: 0.9058 - recall: 0.7881\n",
      "Epoch 1/3\n",
      "Epoch 2/3\n",
      "Epoch 3/3\n",
      "79/79 [==============================] - 0s 3ms/step - loss: 0.2035 - accuracy: 0.9350 - precision: 0.9427 - recall: 0.9056\n",
      "\n",
      "10825 32 39 46-4-1 27-3-1 36\n",
      "Epoch 1/3\n",
      "Epoch 2/3\n",
      "Epoch 3/3\n",
      "79/79 [==============================] - 1s 2ms/step - loss: 0.4880 - accuracy: 0.7770 - precision: 0.7541 - recall: 0.7186\n",
      "Epoch 1/3\n",
      "Epoch 2/3\n",
      "Epoch 3/3\n",
      "79/79 [==============================] - 0s 4ms/step - loss: 0.2928 - accuracy: 0.8919 - precision: 0.8993 - recall: 0.8456\n",
      "Epoch 1/3\n",
      "Epoch 2/3\n",
      "Epoch 3/3\n",
      "79/79 [==============================] - 0s 4ms/step - loss: 0.1520 - accuracy: 0.9533 - precision: 0.9500 - recall: 0.9362\n",
      "\n",
      "10256 29 24 31-3-1 39-3-1 32\n",
      "Epoch 1/3\n",
      "Epoch 2/3\n",
      "Epoch 3/3\n",
      "79/79 [==============================] - 1s 4ms/step - loss: 0.4875 - accuracy: 0.7770 - precision: 0.7820 - recall: 0.6767\n",
      "Epoch 1/3\n",
      "Epoch 2/3\n",
      "Epoch 3/3\n",
      "79/79 [==============================] - 0s 3ms/step - loss: 0.3167 - accuracy: 0.8775 - precision: 0.9118 - recall: 0.7758\n",
      "Epoch 1/3\n",
      "Epoch 2/3\n",
      "Epoch 3/3\n",
      "79/79 [==============================] - 0s 3ms/step - loss: 0.1807 - accuracy: 0.9322 - precision: 0.9322 - recall: 0.9099\n",
      "\n",
      "11210 30 51 34-3-1 29-4-1 27\n",
      "Epoch 1/3\n",
      "Epoch 2/3\n",
      "Epoch 3/3\n",
      "79/79 [==============================] - 1s 3ms/step - loss: 0.4813 - accuracy: 0.7894 - precision: 0.8002 - recall: 0.6554\n",
      "Epoch 1/3\n",
      "Epoch 2/3\n",
      "Epoch 3/3\n",
      "79/79 [==============================] - 0s 3ms/step - loss: 0.2887 - accuracy: 0.8847 - precision: 0.9059 - recall: 0.8227\n",
      "Epoch 1/3\n",
      "Epoch 2/3\n",
      "Epoch 3/3\n",
      "79/79 [==============================] - 0s 3ms/step - loss: 0.1646 - accuracy: 0.9418 - precision: 0.9519 - recall: 0.9091\n",
      "\n",
      "8399 32 39 40-4-1 28-3-1 33\n",
      "Epoch 1/3\n",
      "Epoch 2/3\n",
      "Epoch 3/3\n",
      "79/79 [==============================] - 1s 2ms/step - loss: 0.4628 - accuracy: 0.7846 - precision: 0.7840 - recall: 0.6895\n",
      "Epoch 1/3\n",
      "Epoch 2/3\n",
      "Epoch 3/3\n",
      "79/79 [==============================] - 0s 2ms/step - loss: 0.3061 - accuracy: 0.8787 - precision: 0.8755 - recall: 0.8346\n",
      "Epoch 1/3\n",
      "Epoch 2/3\n",
      "Epoch 3/3\n",
      "79/79 [==============================] - 0s 3ms/step - loss: 0.1869 - accuracy: 0.9306 - precision: 0.9384 - recall: 0.8940\n",
      "\n",
      "8091 30 40 25-3-1 33-4-1 21\n",
      "Epoch 1/3\n",
      "Epoch 2/3\n",
      "Epoch 3/3\n",
      "79/79 [==============================] - 1s 2ms/step - loss: 0.4797 - accuracy: 0.7910 - precision: 0.7629 - recall: 0.7234\n",
      "Epoch 1/3\n",
      "Epoch 2/3\n",
      "Epoch 3/3\n",
      "79/79 [==============================] - 0s 2ms/step - loss: 0.3421 - accuracy: 0.8572 - precision: 0.8520 - recall: 0.8041\n",
      "Epoch 1/3\n",
      "Epoch 2/3\n",
      "Epoch 3/3\n",
      "79/79 [==============================] - 0s 2ms/step - loss: 0.2048 - accuracy: 0.9162 - precision: 0.9465 - recall: 0.8565\n",
      "\n",
      "Generation 2\n",
      "12641 28 27 27-3-1 29-3-1 42\n",
      "Epoch 1/3\n",
      "Epoch 2/3\n",
      "Epoch 3/3\n",
      "79/79 [==============================] - 1s 2ms/step - loss: 0.4943 - accuracy: 0.7834 - precision: 0.8113 - recall: 0.6485\n",
      "Epoch 1/3\n",
      "Epoch 2/3\n",
      "Epoch 3/3\n",
      "79/79 [==============================] - 0s 2ms/step - loss: 0.3045 - accuracy: 0.8843 - precision: 0.9174 - recall: 0.8006\n",
      "Epoch 1/3\n",
      "Epoch 2/3\n",
      "Epoch 3/3\n",
      "79/79 [==============================] - 0s 3ms/step - loss: 0.1858 - accuracy: 0.9358 - precision: 0.9498 - recall: 0.8950\n",
      "\n",
      "10699 30 24 41-2-1 36-2-1 31\n",
      "Epoch 1/3\n",
      "Epoch 2/3\n",
      "Epoch 3/3\n",
      "79/79 [==============================] - 1s 2ms/step - loss: 0.4513 - accuracy: 0.7986 - precision: 0.7845 - recall: 0.7200\n",
      "Epoch 1/3\n",
      "Epoch 2/3\n",
      "Epoch 3/3\n",
      "79/79 [==============================] - 0s 3ms/step - loss: 0.3520 - accuracy: 0.8544 - precision: 0.8790 - recall: 0.7651\n",
      "Epoch 1/3\n",
      "Epoch 2/3\n",
      "Epoch 3/3\n",
      "79/79 [==============================] - 0s 2ms/step - loss: 0.2256 - accuracy: 0.9142 - precision: 0.9309 - recall: 0.8643\n",
      "\n",
      "10975 25 34 34-2-1 29-3-1 26\n",
      "Epoch 1/3\n",
      "Epoch 2/3\n",
      "Epoch 3/3\n",
      "79/79 [==============================] - 1s 2ms/step - loss: 0.4960 - accuracy: 0.7663 - precision: 0.7144 - recall: 0.7493\n",
      "Epoch 1/3\n",
      "Epoch 2/3\n",
      "Epoch 3/3\n",
      "79/79 [==============================] - 0s 3ms/step - loss: 0.3095 - accuracy: 0.8736 - precision: 0.8913 - recall: 0.8068\n",
      "Epoch 1/3\n",
      "Epoch 2/3\n",
      "Epoch 3/3\n",
      "79/79 [==============================] - 0s 2ms/step - loss: 0.1820 - accuracy: 0.9302 - precision: 0.9135 - recall: 0.9213\n",
      "\n",
      "9603 31 41 42-3-1 29-3-1 38\n",
      "Epoch 1/3\n",
      "Epoch 2/3\n",
      "Epoch 3/3\n",
      "79/79 [==============================] - 1s 3ms/step - loss: 0.4848 - accuracy: 0.7698 - precision: 0.7334 - recall: 0.7231\n",
      "Epoch 1/3\n",
      "Epoch 2/3\n",
      "Epoch 3/3\n",
      "79/79 [==============================] - 0s 2ms/step - loss: 0.3356 - accuracy: 0.8660 - precision: 0.8846 - recall: 0.7886\n",
      "Epoch 1/3\n",
      "Epoch 2/3\n",
      "Epoch 3/3\n",
      "79/79 [==============================] - 0s 3ms/step - loss: 0.1904 - accuracy: 0.9274 - precision: 0.9360 - recall: 0.8904\n",
      "\n",
      "13192 24 29 42-3-1 29-4-1 22\n",
      "Epoch 1/3\n",
      "Epoch 2/3\n",
      "Epoch 3/3\n",
      "79/79 [==============================] - 1s 2ms/step - loss: 0.4717 - accuracy: 0.7786 - precision: 0.7421 - recall: 0.7202\n",
      "Epoch 1/3\n",
      "Epoch 2/3\n",
      "Epoch 3/3\n",
      "79/79 [==============================] - 0s 2ms/step - loss: 0.3383 - accuracy: 0.8688 - precision: 0.8592 - recall: 0.8364\n",
      "Epoch 1/3\n",
      "Epoch 2/3\n",
      "Epoch 3/3\n",
      "79/79 [==============================] - 0s 2ms/step - loss: 0.1736 - accuracy: 0.9394 - precision: 0.9489 - recall: 0.9061\n",
      "\n",
      "9320 27 28 42-2-1 32-2-1 31\n",
      "Epoch 1/3\n",
      "Epoch 2/3\n",
      "Epoch 3/3\n",
      "79/79 [==============================] - 1s 2ms/step - loss: 0.4806 - accuracy: 0.7758 - precision: 0.7731 - recall: 0.6802\n",
      "Epoch 1/3\n",
      "Epoch 2/3\n",
      "Epoch 3/3\n",
      "79/79 [==============================] - 0s 3ms/step - loss: 0.3643 - accuracy: 0.8420 - precision: 0.8115 - recall: 0.8037\n",
      "Epoch 1/3\n",
      "Epoch 2/3\n",
      "Epoch 3/3\n",
      "79/79 [==============================] - 0s 3ms/step - loss: 0.2266 - accuracy: 0.9162 - precision: 0.9255 - recall: 0.8780\n",
      "\n",
      "11867 32 31 33-3-1 26-2-1 26\n",
      "Epoch 1/3\n",
      "Epoch 2/3\n",
      "Epoch 3/3\n",
      "79/79 [==============================] - 1s 2ms/step - loss: 0.4984 - accuracy: 0.7675 - precision: 0.7714 - recall: 0.6618\n",
      "Epoch 1/3\n",
      "Epoch 2/3\n",
      "Epoch 3/3\n",
      "79/79 [==============================] - 0s 2ms/step - loss: 0.3399 - accuracy: 0.8664 - precision: 0.8596 - recall: 0.8128\n",
      "Epoch 1/3\n",
      "Epoch 2/3\n",
      "Epoch 3/3\n",
      "79/79 [==============================] - 0s 3ms/step - loss: 0.2033 - accuracy: 0.9362 - precision: 0.9469 - recall: 0.9007\n",
      "\n",
      "9753 32 35 32-3-1 34-4-1 39\n",
      "Epoch 1/3\n",
      "Epoch 2/3\n",
      "Epoch 3/3\n",
      "79/79 [==============================] - 1s 2ms/step - loss: 0.5093 - accuracy: 0.7778 - precision: 0.7334 - recall: 0.7369\n",
      "Epoch 1/3\n",
      "Epoch 2/3\n",
      "Epoch 3/3\n",
      "79/79 [==============================] - 0s 2ms/step - loss: 0.2850 - accuracy: 0.8899 - precision: 0.9182 - recall: 0.8183\n",
      "Epoch 1/3\n",
      "Epoch 2/3\n",
      "Epoch 3/3\n",
      "79/79 [==============================] - 0s 3ms/step - loss: 0.2039 - accuracy: 0.9250 - precision: 0.9300 - recall: 0.8919\n",
      "\n",
      "7703 32 36 35-3-1 32-2-1 27\n",
      "Epoch 1/3\n",
      "Epoch 2/3\n",
      "Epoch 3/3\n",
      "79/79 [==============================] - 1s 2ms/step - loss: 0.4719 - accuracy: 0.7854 - precision: 0.8041 - recall: 0.6586\n",
      "Epoch 1/3\n",
      "Epoch 2/3\n",
      "Epoch 3/3\n",
      "79/79 [==============================] - 0s 2ms/step - loss: 0.3289 - accuracy: 0.8668 - precision: 0.8647 - recall: 0.8144\n",
      "Epoch 1/3\n",
      "Epoch 2/3\n",
      "Epoch 3/3\n",
      "79/79 [==============================] - 0s 3ms/step - loss: 0.1877 - accuracy: 0.9294 - precision: 0.9295 - recall: 0.9025\n",
      "\n",
      "7854 28 27 40-2-1 32-3-1 39\n",
      "Epoch 1/3\n",
      "Epoch 2/3\n",
      "Epoch 3/3\n",
      "79/79 [==============================] - 1s 2ms/step - loss: 0.4668 - accuracy: 0.7834 - precision: 0.7831 - recall: 0.6948\n",
      "Epoch 1/3\n",
      "Epoch 2/3\n",
      "Epoch 3/3\n",
      "79/79 [==============================] - 0s 2ms/step - loss: 0.3598 - accuracy: 0.8508 - precision: 0.8606 - recall: 0.7831\n",
      "Epoch 1/3\n",
      "Epoch 2/3\n",
      "Epoch 3/3\n",
      "79/79 [==============================] - 0s 2ms/step - loss: 0.2366 - accuracy: 0.9047 - precision: 0.9121 - recall: 0.8491\n",
      "\n",
      "Generation 3\n",
      "11482 31 25 35-4-1 29-3-1 34\n",
      "Epoch 1/3\n",
      "Epoch 2/3\n",
      "Epoch 3/3\n",
      "79/79 [==============================] - 1s 2ms/step - loss: 0.4852 - accuracy: 0.7770 - precision: 0.7681 - recall: 0.7045\n",
      "Epoch 1/3\n",
      "Epoch 2/3\n",
      "Epoch 3/3\n",
      "79/79 [==============================] - 0s 3ms/step - loss: 0.3108 - accuracy: 0.8799 - precision: 0.8727 - recall: 0.8316\n",
      "Epoch 1/3\n",
      "Epoch 2/3\n",
      "Epoch 3/3\n",
      "79/79 [==============================] - 0s 2ms/step - loss: 0.1968 - accuracy: 0.9326 - precision: 0.9517 - recall: 0.8866\n",
      "\n",
      "11347 32 37 39-2-1 26-2-1 39\n",
      "Epoch 1/3\n",
      "Epoch 2/3\n",
      "Epoch 3/3\n",
      "79/79 [==============================] - 1s 2ms/step - loss: 0.4949 - accuracy: 0.7798 - precision: 0.7697 - recall: 0.6824\n",
      "Epoch 1/3\n",
      "Epoch 2/3\n",
      "Epoch 3/3\n",
      "79/79 [==============================] - 0s 3ms/step - loss: 0.3089 - accuracy: 0.8775 - precision: 0.8702 - recall: 0.8349\n",
      "Epoch 1/3\n",
      "Epoch 2/3\n",
      "Epoch 3/3\n",
      "79/79 [==============================] - 0s 3ms/step - loss: 0.1704 - accuracy: 0.9390 - precision: 0.9500 - recall: 0.9072\n",
      "\n",
      "9537 31 24 31-3-1 35-3-1 39\n",
      "Epoch 1/3\n",
      "Epoch 2/3\n",
      "Epoch 3/3\n",
      "79/79 [==============================] - 1s 2ms/step - loss: 0.4762 - accuracy: 0.7854 - precision: 0.7839 - recall: 0.6973\n",
      "Epoch 1/3\n",
      "Epoch 2/3\n",
      "Epoch 3/3\n",
      "79/79 [==============================] - 0s 2ms/step - loss: 0.3514 - accuracy: 0.8632 - precision: 0.8560 - recall: 0.8150\n",
      "Epoch 1/3\n",
      "Epoch 2/3\n",
      "Epoch 3/3\n",
      "79/79 [==============================] - 0s 2ms/step - loss: 0.2058 - accuracy: 0.9254 - precision: 0.9109 - recall: 0.9118\n",
      "\n",
      "9726 32 25 24-3-1 25-3-1 26\n",
      "Epoch 1/3\n",
      "Epoch 2/3\n",
      "Epoch 3/3\n",
      "79/79 [==============================] - 1s 3ms/step - loss: 0.4951 - accuracy: 0.7643 - precision: 0.7180 - recall: 0.7605\n",
      "Epoch 1/3\n",
      "Epoch 2/3\n",
      "Epoch 3/3\n",
      "79/79 [==============================] - 0s 3ms/step - loss: 0.3276 - accuracy: 0.8712 - precision: 0.8848 - recall: 0.7987\n",
      "Epoch 1/3\n",
      "Epoch 2/3\n",
      "Epoch 3/3\n",
      "79/79 [==============================] - 0s 2ms/step - loss: 0.2095 - accuracy: 0.9286 - precision: 0.9274 - recall: 0.9000\n",
      "\n",
      "13172 32 34 36-3-1 28-3-1 42\n",
      "Epoch 1/3\n",
      "Epoch 2/3\n",
      "Epoch 3/3\n",
      "79/79 [==============================] - 1s 2ms/step - loss: 0.5023 - accuracy: 0.7651 - precision: 0.7132 - recall: 0.7396\n",
      "Epoch 1/3\n",
      "Epoch 2/3\n",
      "Epoch 3/3\n",
      "79/79 [==============================] - 0s 3ms/step - loss: 0.3062 - accuracy: 0.8851 - precision: 0.8869 - recall: 0.8391\n",
      "Epoch 1/3\n",
      "Epoch 2/3\n",
      "Epoch 3/3\n",
      "79/79 [==============================] - 0s 3ms/step - loss: 0.1744 - accuracy: 0.9386 - precision: 0.9555 - recall: 0.8986\n",
      "\n",
      "12959 27 40 38-3-1 25-3-1 36\n",
      "Epoch 1/3\n",
      "Epoch 2/3\n",
      "Epoch 3/3\n",
      "79/79 [==============================] - 1s 3ms/step - loss: 0.4780 - accuracy: 0.7874 - precision: 0.7657 - recall: 0.7265\n",
      "Epoch 1/3\n",
      "Epoch 2/3\n",
      "Epoch 3/3\n",
      "79/79 [==============================] - 0s 2ms/step - loss: 0.3041 - accuracy: 0.8819 - precision: 0.8870 - recall: 0.8269\n",
      "Epoch 1/3\n",
      "Epoch 2/3\n",
      "Epoch 3/3\n",
      "79/79 [==============================] - 0s 2ms/step - loss: 0.1938 - accuracy: 0.9354 - precision: 0.9398 - recall: 0.9064\n",
      "\n",
      "9553 24 40 26-3-2 29-3-1 35\n",
      "Epoch 1/3\n",
      "Epoch 2/3\n",
      "Epoch 3/3\n",
      "79/79 [==============================] - 1s 3ms/step - loss: 0.4794 - accuracy: 0.7874 - precision: 0.8070 - recall: 0.6657\n",
      "Epoch 1/3\n",
      "Epoch 2/3\n",
      "Epoch 3/3\n",
      "79/79 [==============================] - 0s 2ms/step - loss: 0.2886 - accuracy: 0.8899 - precision: 0.9032 - recall: 0.8327\n",
      "Epoch 1/3\n",
      "Epoch 2/3\n",
      "Epoch 3/3\n",
      "79/79 [==============================] - 0s 2ms/step - loss: 0.1905 - accuracy: 0.9362 - precision: 0.9380 - recall: 0.9076\n",
      "\n",
      "8466 32 24 35-2-1 32-3-1 27\n",
      "Epoch 1/3\n",
      "Epoch 2/3\n",
      "Epoch 3/3\n",
      "79/79 [==============================] - 1s 2ms/step - loss: 0.4894 - accuracy: 0.7774 - precision: 0.7411 - recall: 0.7369\n",
      "Epoch 1/3\n",
      "Epoch 2/3\n",
      "Epoch 3/3\n",
      "79/79 [==============================] - 0s 2ms/step - loss: 0.3615 - accuracy: 0.8548 - precision: 0.8902 - recall: 0.7438\n",
      "Epoch 1/3\n",
      "Epoch 2/3\n",
      "Epoch 3/3\n",
      "79/79 [==============================] - 0s 3ms/step - loss: 0.2223 - accuracy: 0.9178 - precision: 0.9315 - recall: 0.8750\n",
      "\n",
      "11089 32 30 32-3-1 31-3-1 25\n",
      "Epoch 1/3\n",
      "Epoch 2/3\n",
      "Epoch 3/3\n",
      "79/79 [==============================] - 1s 2ms/step - loss: 0.4942 - accuracy: 0.7694 - precision: 0.7201 - recall: 0.7405\n",
      "Epoch 1/3\n",
      "Epoch 2/3\n",
      "Epoch 3/3\n",
      "79/79 [==============================] - 0s 2ms/step - loss: 0.3421 - accuracy: 0.8704 - precision: 0.8717 - recall: 0.8114\n",
      "Epoch 1/3\n",
      "Epoch 2/3\n",
      "Epoch 3/3\n",
      "79/79 [==============================] - 0s 2ms/step - loss: 0.2034 - accuracy: 0.9302 - precision: 0.9449 - recall: 0.8922\n",
      "\n",
      "6842 32 30 36-3-1 38-3-1 39\n",
      "Epoch 1/3\n",
      "Epoch 2/3\n",
      "Epoch 3/3\n",
      "79/79 [==============================] - 1s 2ms/step - loss: 0.4713 - accuracy: 0.7902 - precision: 0.8083 - recall: 0.6623\n",
      "Epoch 1/3\n",
      "Epoch 2/3\n",
      "Epoch 3/3\n",
      "79/79 [==============================] - 0s 2ms/step - loss: 0.3520 - accuracy: 0.8624 - precision: 0.8550 - recall: 0.8141\n",
      "Epoch 1/3\n",
      "Epoch 2/3\n",
      "Epoch 3/3\n",
      "79/79 [==============================] - 0s 3ms/step - loss: 0.2305 - accuracy: 0.9122 - precision: 0.9206 - recall: 0.8711\n",
      "\n",
      "Generation 4\n",
      "11107 32 37 29-3-1 27-3-1 25\n",
      "Epoch 1/3\n",
      "Epoch 2/3\n",
      "Epoch 3/3\n",
      "79/79 [==============================] - 1s 3ms/step - loss: 0.4817 - accuracy: 0.7730 - precision: 0.7215 - recall: 0.7333\n",
      "Epoch 1/3\n",
      "Epoch 2/3\n",
      "Epoch 3/3\n",
      "79/79 [==============================] - 0s 3ms/step - loss: 0.3206 - accuracy: 0.8728 - precision: 0.9016 - recall: 0.7904\n",
      "Epoch 1/3\n",
      "Epoch 2/3\n",
      "Epoch 3/3\n",
      "79/79 [==============================] - 0s 2ms/step - loss: 0.1996 - accuracy: 0.9306 - precision: 0.9466 - recall: 0.8911\n",
      "\n",
      "8347 32 31 29-3-1 27-3-1 36\n",
      "Epoch 1/3\n",
      "Epoch 2/3\n",
      "Epoch 3/3\n",
      "79/79 [==============================] - 1s 2ms/step - loss: 0.5099 - accuracy: 0.7567 - precision: 0.6882 - recall: 0.7582\n",
      "Epoch 1/3\n",
      "Epoch 2/3\n",
      "Epoch 3/3\n",
      "79/79 [==============================] - 0s 3ms/step - loss: 0.3362 - accuracy: 0.8616 - precision: 0.8828 - recall: 0.7799\n",
      "Epoch 1/3\n",
      "Epoch 2/3\n",
      "Epoch 3/3\n",
      "79/79 [==============================] - 0s 3ms/step - loss: 0.2368 - accuracy: 0.9083 - precision: 0.9074 - recall: 0.8791\n",
      "\n",
      "11355 28 27 38-4-1 41-3-1 32\n",
      "Epoch 1/3\n",
      "Epoch 2/3\n",
      "Epoch 3/3\n",
      "79/79 [==============================] - 1s 3ms/step - loss: 0.4923 - accuracy: 0.7742 - precision: 0.7762 - recall: 0.6528\n",
      "Epoch 1/3\n",
      "Epoch 2/3\n",
      "Epoch 3/3\n",
      "79/79 [==============================] - 0s 4ms/step - loss: 0.3186 - accuracy: 0.8740 - precision: 0.8978 - recall: 0.7930\n",
      "Epoch 1/3\n",
      "Epoch 2/3\n",
      "Epoch 3/3\n",
      "79/79 [==============================] - 0s 3ms/step - loss: 0.1523 - accuracy: 0.9438 - precision: 0.9307 - recall: 0.9401\n",
      "\n",
      "11704 27 32 37-3-1 37-3-1 23\n",
      "Epoch 1/3\n",
      "Epoch 2/3\n",
      "Epoch 3/3\n",
      "79/79 [==============================] - 1s 3ms/step - loss: 0.4884 - accuracy: 0.7794 - precision: 0.7675 - recall: 0.6840\n",
      "Epoch 1/3\n",
      "Epoch 2/3\n",
      "Epoch 3/3\n",
      "79/79 [==============================] - 0s 4ms/step - loss: 0.3020 - accuracy: 0.8831 - precision: 0.8842 - recall: 0.8393\n",
      "Epoch 1/3\n",
      "Epoch 2/3\n",
      "Epoch 3/3\n",
      "79/79 [==============================] - 0s 3ms/step - loss: 0.1675 - accuracy: 0.9394 - precision: 0.9437 - recall: 0.9118\n",
      "\n",
      "9860 31 34 34-3-1 26-3-1 26\n",
      "Epoch 1/3\n",
      "Epoch 2/3\n",
      "Epoch 3/3\n",
      "79/79 [==============================] - 1s 3ms/step - loss: 0.4731 - accuracy: 0.7822 - precision: 0.7553 - recall: 0.7123\n",
      "Epoch 1/3\n",
      "Epoch 2/3\n",
      "Epoch 3/3\n",
      "79/79 [==============================] - 0s 4ms/step - loss: 0.3390 - accuracy: 0.8596 - precision: 0.8604 - recall: 0.8083\n",
      "Epoch 1/3\n",
      "Epoch 2/3\n",
      "Epoch 3/3\n",
      "79/79 [==============================] - 0s 3ms/step - loss: 0.2158 - accuracy: 0.9234 - precision: 0.9274 - recall: 0.8890\n",
      "\n",
      "11927 30 28 25-3-1 38-3-1 37\n",
      "Epoch 1/3\n",
      "Epoch 2/3\n",
      "Epoch 3/3\n",
      "79/79 [==============================] - 1s 3ms/step - loss: 0.4842 - accuracy: 0.7714 - precision: 0.7193 - recall: 0.7460\n",
      "Epoch 1/3\n",
      "Epoch 2/3\n",
      "Epoch 3/3\n",
      "79/79 [==============================] - 0s 3ms/step - loss: 0.3165 - accuracy: 0.8807 - precision: 0.9023 - recall: 0.8113\n",
      "Epoch 1/3\n",
      "Epoch 2/3\n",
      "Epoch 3/3\n",
      "79/79 [==============================] - 0s 4ms/step - loss: 0.1801 - accuracy: 0.9394 - precision: 0.9484 - recall: 0.9078\n",
      "\n",
      "11237 32 39 32-3-1 31-3-1 29\n",
      "Epoch 1/3\n",
      "Epoch 2/3\n",
      "Epoch 3/3\n",
      "79/79 [==============================] - 1s 3ms/step - loss: 0.5032 - accuracy: 0.7663 - precision: 0.7406 - recall: 0.6859\n",
      "Epoch 1/3\n",
      "Epoch 2/3\n",
      "Epoch 3/3\n",
      "79/79 [==============================] - 0s 2ms/step - loss: 0.3304 - accuracy: 0.8732 - precision: 0.8440 - recall: 0.8629\n",
      "Epoch 1/3\n",
      "Epoch 2/3\n",
      "Epoch 3/3\n",
      "79/79 [==============================] - 0s 3ms/step - loss: 0.1870 - accuracy: 0.9302 - precision: 0.9085 - recall: 0.9313\n",
      "\n",
      "7479 32 31 33-3-1 38-3-1 35\n",
      "Epoch 1/3\n",
      "Epoch 2/3\n",
      "Epoch 3/3\n",
      "79/79 [==============================] - 1s 3ms/step - loss: 0.4555 - accuracy: 0.8010 - precision: 0.8009 - recall: 0.6867\n",
      "Epoch 1/3\n",
      "Epoch 2/3\n",
      "Epoch 3/3\n",
      "79/79 [==============================] - 0s 3ms/step - loss: 0.3299 - accuracy: 0.8648 - precision: 0.9045 - recall: 0.7713\n",
      "Epoch 1/3\n",
      "Epoch 2/3\n",
      "Epoch 3/3\n",
      "79/79 [==============================] - 0s 3ms/step - loss: 0.2238 - accuracy: 0.9099 - precision: 0.8927 - recall: 0.8993\n",
      "\n",
      "13779 32 36 34-3-1 34-3-1 34\n",
      "Epoch 1/3\n",
      "Epoch 2/3\n",
      "Epoch 3/3\n",
      "79/79 [==============================] - 1s 3ms/step - loss: 0.5110 - accuracy: 0.7587 - precision: 0.7030 - recall: 0.7498\n",
      "Epoch 1/3\n",
      "Epoch 2/3\n",
      "Epoch 3/3\n",
      "79/79 [==============================] - 0s 3ms/step - loss: 0.2955 - accuracy: 0.8851 - precision: 0.8832 - recall: 0.8419\n",
      "Epoch 1/3\n",
      "Epoch 2/3\n",
      "Epoch 3/3\n",
      "79/79 [==============================] - 0s 3ms/step - loss: 0.1945 - accuracy: 0.9306 - precision: 0.9088 - recall: 0.9308\n",
      "\n",
      "8454 32 38 33-3-1 35-4-1 24\n",
      "Epoch 1/3\n",
      "Epoch 2/3\n",
      "Epoch 3/3\n",
      "79/79 [==============================] - 1s 3ms/step - loss: 0.4871 - accuracy: 0.7714 - precision: 0.7208 - recall: 0.7500\n",
      "Epoch 1/3\n",
      "Epoch 2/3\n",
      "Epoch 3/3\n",
      "79/79 [==============================] - 0s 3ms/step - loss: 0.3317 - accuracy: 0.8700 - precision: 0.8833 - recall: 0.8091\n",
      "Epoch 1/3\n",
      "Epoch 2/3\n",
      "Epoch 3/3\n",
      "79/79 [==============================] - 0s 4ms/step - loss: 0.1843 - accuracy: 0.9278 - precision: 0.9191 - recall: 0.9077\n",
      "\n",
      "Generation 5\n",
      "13166 25 24 25-3-1 37-3-1 24\n",
      "Epoch 1/3\n",
      "Epoch 2/3\n",
      "Epoch 3/3\n",
      "79/79 [==============================] - 1s 3ms/step - loss: 0.4788 - accuracy: 0.7794 - precision: 0.7973 - recall: 0.6587\n",
      "Epoch 1/3\n",
      "Epoch 2/3\n",
      "Epoch 3/3\n",
      "79/79 [==============================] - 0s 3ms/step - loss: 0.3458 - accuracy: 0.8604 - precision: 0.8667 - recall: 0.7894\n",
      "Epoch 1/3\n",
      "Epoch 2/3\n",
      "Epoch 3/3\n",
      "79/79 [==============================] - 0s 4ms/step - loss: 0.1844 - accuracy: 0.9362 - precision: 0.9432 - recall: 0.9042\n",
      "\n",
      "10135 24 43 35-3-1 36-3-1 34\n",
      "Epoch 1/3\n",
      "Epoch 2/3\n",
      "Epoch 3/3\n",
      "79/79 [==============================] - 1s 3ms/step - loss: 0.4874 - accuracy: 0.7782 - precision: 0.7779 - recall: 0.6717\n",
      "Epoch 1/3\n",
      "Epoch 2/3\n",
      "Epoch 3/3\n",
      "79/79 [==============================] - 0s 3ms/step - loss: 0.3047 - accuracy: 0.8835 - precision: 0.9168 - recall: 0.8113\n",
      "Epoch 1/3\n",
      "Epoch 2/3\n",
      "Epoch 3/3\n",
      "79/79 [==============================] - 0s 3ms/step - loss: 0.1944 - accuracy: 0.9302 - precision: 0.9258 - recall: 0.9014\n",
      "\n",
      "10307 28 28 27-3-1 33-4-1 22\n",
      "Epoch 1/3\n",
      "Epoch 2/3\n",
      "Epoch 3/3\n",
      "79/79 [==============================] - 1s 3ms/step - loss: 0.4864 - accuracy: 0.7762 - precision: 0.7579 - recall: 0.6976\n",
      "Epoch 1/3\n",
      "Epoch 2/3\n",
      "Epoch 3/3\n",
      "79/79 [==============================] - 0s 4ms/step - loss: 0.3292 - accuracy: 0.8648 - precision: 0.8768 - recall: 0.7917\n",
      "Epoch 1/3\n",
      "Epoch 2/3\n",
      "Epoch 3/3\n",
      "79/79 [==============================] - 0s 3ms/step - loss: 0.1862 - accuracy: 0.9294 - precision: 0.9190 - recall: 0.9164\n",
      "\n",
      "11482 32 34 42-2-1 30-3-1 43\n",
      "Epoch 1/3\n",
      "Epoch 2/3\n",
      "Epoch 3/3\n",
      "79/79 [==============================] - 1s 3ms/step - loss: 0.4731 - accuracy: 0.7878 - precision: 0.7833 - recall: 0.6887\n",
      "Epoch 1/3\n",
      "Epoch 2/3\n",
      "Epoch 3/3\n",
      "79/79 [==============================] - 0s 3ms/step - loss: 0.3162 - accuracy: 0.8787 - precision: 0.8750 - recall: 0.8395\n",
      "Epoch 1/3\n",
      "Epoch 2/3\n",
      "Epoch 3/3\n",
      "79/79 [==============================] - 0s 3ms/step - loss: 0.1670 - accuracy: 0.9398 - precision: 0.9427 - recall: 0.9134\n",
      "\n",
      "10658 29 27 41-3-1 30-3-1 34\n",
      "Epoch 1/3\n",
      "Epoch 2/3\n",
      "Epoch 3/3\n",
      "79/79 [==============================] - 1s 3ms/step - loss: 0.4863 - accuracy: 0.7810 - precision: 0.7348 - recall: 0.7426\n",
      "Epoch 1/3\n",
      "Epoch 2/3\n",
      "Epoch 3/3\n",
      "79/79 [==============================] - 0s 3ms/step - loss: 0.3329 - accuracy: 0.8652 - precision: 0.8870 - recall: 0.7933\n",
      "Epoch 1/3\n",
      "Epoch 2/3\n",
      "Epoch 3/3\n",
      "79/79 [==============================] - 0s 3ms/step - loss: 0.1961 - accuracy: 0.9326 - precision: 0.9637 - recall: 0.8739\n",
      "\n",
      "13042 29 25 32-3-1 26-4-1 42\n",
      "Epoch 1/3\n",
      "Epoch 2/3\n",
      "Epoch 3/3\n",
      "79/79 [==============================] - 1s 2ms/step - loss: 0.4519 - accuracy: 0.8014 - precision: 0.8264 - recall: 0.6550\n",
      "Epoch 1/3\n",
      "Epoch 2/3\n",
      "Epoch 3/3\n",
      "79/79 [==============================] - 0s 4ms/step - loss: 0.3082 - accuracy: 0.8732 - precision: 0.8971 - recall: 0.8024\n",
      "Epoch 1/3\n",
      "Epoch 2/3\n",
      "Epoch 3/3\n",
      "79/79 [==============================] - 0s 3ms/step - loss: 0.1839 - accuracy: 0.9362 - precision: 0.9589 - recall: 0.8894\n",
      "\n",
      "13592 31 26 36-4-1 32-3-1 29\n",
      "Epoch 1/3\n",
      "Epoch 2/3\n",
      "Epoch 3/3\n",
      "79/79 [==============================] - 1s 2ms/step - loss: 0.4858 - accuracy: 0.7774 - precision: 0.7335 - recall: 0.7376\n",
      "Epoch 1/3\n",
      "Epoch 2/3\n",
      "Epoch 3/3\n",
      "79/79 [==============================] - 0s 3ms/step - loss: 0.3215 - accuracy: 0.8819 - precision: 0.9198 - recall: 0.7927\n",
      "Epoch 1/3\n",
      "Epoch 2/3\n",
      "Epoch 3/3\n",
      "79/79 [==============================] - 0s 3ms/step - loss: 0.1674 - accuracy: 0.9410 - precision: 0.9448 - recall: 0.9169\n",
      "\n",
      "10661 31 29 27-3-1 34-3-1 27\n",
      "Epoch 1/3\n",
      "Epoch 2/3\n",
      "Epoch 3/3\n",
      "79/79 [==============================] - 1s 3ms/step - loss: 0.4812 - accuracy: 0.7786 - precision: 0.7418 - recall: 0.7521\n",
      "Epoch 1/3\n",
      "Epoch 2/3\n",
      "Epoch 3/3\n",
      "79/79 [==============================] - 0s 3ms/step - loss: 0.3393 - accuracy: 0.8628 - precision: 0.8605 - recall: 0.8126\n",
      "Epoch 1/3\n",
      "Epoch 2/3\n",
      "Epoch 3/3\n",
      "79/79 [==============================] - 0s 3ms/step - loss: 0.1930 - accuracy: 0.9322 - precision: 0.9349 - recall: 0.8989\n",
      "\n",
      "12759 29 23 33-3-1 33-3-1 24\n",
      "Epoch 1/3\n",
      "Epoch 2/3\n",
      "Epoch 3/3\n",
      "79/79 [==============================] - 1s 3ms/step - loss: 0.4469 - accuracy: 0.8014 - precision: 0.8004 - recall: 0.7139\n",
      "Epoch 1/3\n",
      "Epoch 2/3\n",
      "Epoch 3/3\n",
      "79/79 [==============================] - 0s 3ms/step - loss: 0.3171 - accuracy: 0.8791 - precision: 0.8738 - recall: 0.8406\n",
      "Epoch 1/3\n",
      "Epoch 2/3\n",
      "Epoch 3/3\n",
      "79/79 [==============================] - 0s 3ms/step - loss: 0.1609 - accuracy: 0.9402 - precision: 0.9529 - recall: 0.9023\n",
      "\n",
      "10851 32 28 41-4-1 30-2-1 32\n",
      "Epoch 1/3\n",
      "Epoch 2/3\n",
      "Epoch 3/3\n",
      "79/79 [==============================] - 1s 3ms/step - loss: 0.4950 - accuracy: 0.7754 - precision: 0.7541 - recall: 0.6950\n",
      "Epoch 1/3\n",
      "Epoch 2/3\n",
      "Epoch 3/3\n",
      "79/79 [==============================] - 0s 3ms/step - loss: 0.2820 - accuracy: 0.8923 - precision: 0.8941 - recall: 0.8390\n",
      "Epoch 1/3\n",
      "Epoch 2/3\n",
      "Epoch 3/3\n",
      "79/79 [==============================] - 0s 4ms/step - loss: 0.1934 - accuracy: 0.9278 - precision: 0.9576 - recall: 0.8757\n",
      "\n",
      "Generation 6\n",
      "8506 29 30 34-2-1 23-3-1 34\n",
      "Epoch 1/3\n",
      "Epoch 2/3\n",
      "Epoch 3/3\n",
      "79/79 [==============================] - 1s 3ms/step - loss: 0.4914 - accuracy: 0.7671 - precision: 0.7259 - recall: 0.7148\n",
      "Epoch 1/3\n",
      "Epoch 2/3\n",
      "Epoch 3/3\n",
      "79/79 [==============================] - 0s 3ms/step - loss: 0.3463 - accuracy: 0.8568 - precision: 0.8669 - recall: 0.7951\n",
      "Epoch 1/3\n",
      "Epoch 2/3\n",
      "Epoch 3/3\n",
      "79/79 [==============================] - 0s 3ms/step - loss: 0.2048 - accuracy: 0.9242 - precision: 0.9356 - recall: 0.8807\n",
      "\n",
      "7342 32 30 30-3-1 25-4-1 34\n",
      "Epoch 1/3\n",
      "Epoch 2/3\n",
      "Epoch 3/3\n",
      "79/79 [==============================] - 1s 2ms/step - loss: 0.4770 - accuracy: 0.7914 - precision: 0.7953 - recall: 0.6891\n",
      "Epoch 1/3\n",
      "Epoch 2/3\n",
      "Epoch 3/3\n",
      "79/79 [==============================] - 0s 3ms/step - loss: 0.3586 - accuracy: 0.8592 - precision: 0.8867 - recall: 0.7633\n",
      "Epoch 1/3\n",
      "Epoch 2/3\n",
      "Epoch 3/3\n",
      "79/79 [==============================] - 0s 3ms/step - loss: 0.1924 - accuracy: 0.9274 - precision: 0.9376 - recall: 0.8906\n",
      "\n",
      "9954 32 28 33-3-1 36-3-1 41\n",
      "Epoch 1/3\n",
      "Epoch 2/3\n",
      "Epoch 3/3\n",
      "79/79 [==============================] - 1s 3ms/step - loss: 0.4645 - accuracy: 0.7942 - precision: 0.8052 - recall: 0.7032\n",
      "Epoch 1/3\n",
      "Epoch 2/3\n",
      "Epoch 3/3\n",
      "79/79 [==============================] - 0s 3ms/step - loss: 0.3342 - accuracy: 0.8704 - precision: 0.8626 - recall: 0.8149\n",
      "Epoch 1/3\n",
      "Epoch 2/3\n",
      "Epoch 3/3\n",
      "79/79 [==============================] - 0s 4ms/step - loss: 0.1662 - accuracy: 0.9386 - precision: 0.9386 - recall: 0.9158\n",
      "\n",
      "9144 31 32 24-3-1 29-3-1 24\n",
      "Epoch 1/3\n",
      "Epoch 2/3\n",
      "Epoch 3/3\n",
      "79/79 [==============================] - 1s 3ms/step - loss: 0.4672 - accuracy: 0.7898 - precision: 0.7550 - recall: 0.7654\n",
      "Epoch 1/3\n",
      "Epoch 2/3\n",
      "Epoch 3/3\n",
      "79/79 [==============================] - 0s 4ms/step - loss: 0.3462 - accuracy: 0.8608 - precision: 0.8529 - recall: 0.8048\n",
      "Epoch 1/3\n",
      "Epoch 2/3\n",
      "Epoch 3/3\n",
      "79/79 [==============================] - 0s 3ms/step - loss: 0.2004 - accuracy: 0.9306 - precision: 0.9308 - recall: 0.9047\n",
      "\n",
      "8289 32 41 33-2-1 38-3-1 35\n",
      "Epoch 1/3\n",
      "Epoch 2/3\n",
      "Epoch 3/3\n",
      "79/79 [==============================] - 1s 3ms/step - loss: 0.5063 - accuracy: 0.7555 - precision: 0.6931 - recall: 0.8025\n",
      "Epoch 1/3\n",
      "Epoch 2/3\n",
      "Epoch 3/3\n",
      "79/79 [==============================] - 0s 3ms/step - loss: 0.3215 - accuracy: 0.8676 - precision: 0.8616 - recall: 0.8139\n",
      "Epoch 1/3\n",
      "Epoch 2/3\n",
      "Epoch 3/3\n",
      "79/79 [==============================] - 0s 3ms/step - loss: 0.2029 - accuracy: 0.9238 - precision: 0.9149 - recall: 0.9018\n",
      "\n",
      "10388 27 43 27-3-1 23-3-1 43\n",
      "Epoch 1/3\n",
      "Epoch 2/3\n",
      "Epoch 3/3\n",
      "79/79 [==============================] - 1s 2ms/step - loss: 0.4914 - accuracy: 0.7726 - precision: 0.7541 - recall: 0.7114\n",
      "Epoch 1/3\n",
      "Epoch 2/3\n",
      "Epoch 3/3\n",
      "79/79 [==============================] - 0s 4ms/step - loss: 0.3046 - accuracy: 0.8783 - precision: 0.8577 - recall: 0.8536\n",
      "Epoch 1/3\n",
      "Epoch 2/3\n",
      "Epoch 3/3\n",
      "79/79 [==============================] - 0s 3ms/step - loss: 0.1689 - accuracy: 0.9410 - precision: 0.9297 - recall: 0.9297\n",
      "\n",
      "11542 26 39 37-4-1 37-3-1 36\n",
      "Epoch 1/3\n",
      "Epoch 2/3\n",
      "Epoch 3/3\n",
      "79/79 [==============================] - 1s 3ms/step - loss: 0.5019 - accuracy: 0.7555 - precision: 0.6894 - recall: 0.7471\n",
      "Epoch 1/3\n",
      "Epoch 2/3\n",
      "Epoch 3/3\n",
      "79/79 [==============================] - 0s 5ms/step - loss: 0.3252 - accuracy: 0.8736 - precision: 0.8577 - recall: 0.8490\n",
      "Epoch 1/3\n",
      "Epoch 2/3\n",
      "Epoch 3/3\n",
      "79/79 [==============================] - 0s 6ms/step - loss: 0.1914 - accuracy: 0.9342 - precision: 0.9534 - recall: 0.8907\n",
      "\n",
      "8454 32 39 29-3-1 32-4-1 42\n",
      "Epoch 1/3\n",
      "Epoch 2/3\n",
      "Epoch 3/3\n",
      "79/79 [==============================] - 1s 3ms/step - loss: 0.5151 - accuracy: 0.7563 - precision: 0.7040 - recall: 0.7364\n",
      "Epoch 1/3\n",
      "Epoch 2/3\n",
      "Epoch 3/3\n",
      "79/79 [==============================] - 0s 4ms/step - loss: 0.3173 - accuracy: 0.8700 - precision: 0.8869 - recall: 0.7976\n",
      "Epoch 1/3\n",
      "Epoch 2/3\n",
      "Epoch 3/3\n",
      "79/79 [==============================] - 0s 3ms/step - loss: 0.2034 - accuracy: 0.9274 - precision: 0.9475 - recall: 0.8783\n",
      "\n",
      "8464 32 30 29-3-1 29-3-1 36\n",
      "Epoch 1/3\n",
      "Epoch 2/3\n",
      "Epoch 3/3\n",
      "79/79 [==============================] - 1s 2ms/step - loss: 0.4798 - accuracy: 0.7754 - precision: 0.7913 - recall: 0.6443\n",
      "Epoch 1/3\n",
      "Epoch 2/3\n",
      "Epoch 3/3\n",
      "79/79 [==============================] - 0s 3ms/step - loss: 0.3573 - accuracy: 0.8472 - precision: 0.8291 - recall: 0.8032\n",
      "Epoch 1/3\n",
      "Epoch 2/3\n",
      "Epoch 3/3\n",
      "79/79 [==============================] - 0s 4ms/step - loss: 0.2438 - accuracy: 0.9071 - precision: 0.9415 - recall: 0.8358\n",
      "\n",
      "6877 32 36 49-2-1 42-4-1 27\n",
      "Epoch 1/3\n",
      "Epoch 2/3\n",
      "Epoch 3/3\n",
      "79/79 [==============================] - 1s 3ms/step - loss: 0.4703 - accuracy: 0.7882 - precision: 0.7901 - recall: 0.6929\n",
      "Epoch 1/3\n",
      "Epoch 2/3\n",
      "Epoch 3/3\n",
      "79/79 [==============================] - 0s 4ms/step - loss: 0.3384 - accuracy: 0.8660 - precision: 0.8677 - recall: 0.7994\n",
      "Epoch 1/3\n",
      "Epoch 2/3\n",
      "Epoch 3/3\n",
      "79/79 [==============================] - 0s 3ms/step - loss: 0.2139 - accuracy: 0.9174 - precision: 0.9195 - recall: 0.8864\n",
      "\n",
      "Generation 7\n",
      "9781 32 31 26-2-1 30-3-1 35\n",
      "Epoch 1/3\n",
      "Epoch 2/3\n",
      "Epoch 3/3\n",
      "79/79 [==============================] - 1s 3ms/step - loss: 0.5111 - accuracy: 0.7571 - precision: 0.6946 - recall: 0.7457\n",
      "Epoch 1/3\n",
      "Epoch 2/3\n",
      "Epoch 3/3\n",
      "79/79 [==============================] - 0s 3ms/step - loss: 0.3256 - accuracy: 0.8728 - precision: 0.8619 - recall: 0.8318\n",
      "Epoch 1/3\n",
      "Epoch 2/3\n",
      "Epoch 3/3\n",
      "79/79 [==============================] - 0s 3ms/step - loss: 0.2261 - accuracy: 0.9154 - precision: 0.9222 - recall: 0.8820\n",
      "\n",
      "9409 32 38 31-4-1 24-3-1 46\n",
      "Epoch 1/3\n",
      "Epoch 2/3\n",
      "Epoch 3/3\n",
      "79/79 [==============================] - 1s 3ms/step - loss: 0.5015 - accuracy: 0.7714 - precision: 0.7419 - recall: 0.6853\n",
      "Epoch 1/3\n",
      "Epoch 2/3\n",
      "Epoch 3/3\n",
      "79/79 [==============================] - 0s 4ms/step - loss: 0.3245 - accuracy: 0.8728 - precision: 0.8997 - recall: 0.7991\n",
      "Epoch 1/3\n",
      "Epoch 2/3\n",
      "Epoch 3/3\n",
      "79/79 [==============================] - 0s 3ms/step - loss: 0.1924 - accuracy: 0.9346 - precision: 0.9398 - recall: 0.9047\n",
      "\n",
      "13216 32 34 34-5-1 31-2-1 30\n",
      "Epoch 1/3\n",
      "Epoch 2/3\n",
      "Epoch 3/3\n",
      "79/79 [==============================] - 1s 4ms/step - loss: 0.4755 - accuracy: 0.7846 - precision: 0.7703 - recall: 0.7164\n",
      "Epoch 1/3\n",
      "Epoch 2/3\n",
      "Epoch 3/3\n",
      "79/79 [==============================] - 0s 3ms/step - loss: 0.2906 - accuracy: 0.8915 - precision: 0.8788 - recall: 0.8604\n",
      "Epoch 1/3\n",
      "Epoch 2/3\n",
      "Epoch 3/3\n",
      "79/79 [==============================] - 0s 3ms/step - loss: 0.1384 - accuracy: 0.9541 - precision: 0.9595 - recall: 0.9316\n",
      "\n",
      "12951 29 26 25-3-1 40-2-1 31\n",
      "Epoch 1/3\n",
      "Epoch 2/3\n",
      "Epoch 3/3\n",
      "79/79 [==============================] - 1s 2ms/step - loss: 0.4966 - accuracy: 0.7690 - precision: 0.7366 - recall: 0.7167\n",
      "Epoch 1/3\n",
      "Epoch 2/3\n",
      "Epoch 3/3\n",
      "79/79 [==============================] - 0s 3ms/step - loss: 0.3239 - accuracy: 0.8708 - precision: 0.8633 - recall: 0.8204\n",
      "Epoch 1/3\n",
      "Epoch 2/3\n",
      "Epoch 3/3\n",
      "79/79 [==============================] - 0s 5ms/step - loss: 0.1589 - accuracy: 0.9422 - precision: 0.9401 - recall: 0.9254\n",
      "\n",
      "9621 32 23 32-3-1 45-3-1 40\n",
      "Epoch 1/3\n",
      "Epoch 2/3\n",
      "Epoch 3/3\n",
      "79/79 [==============================] - 1s 3ms/step - loss: 0.4763 - accuracy: 0.7782 - precision: 0.7585 - recall: 0.6938\n",
      "Epoch 1/3\n",
      "Epoch 2/3\n",
      "Epoch 3/3\n",
      "79/79 [==============================] - 0s 3ms/step - loss: 0.3197 - accuracy: 0.8724 - precision: 0.9032 - recall: 0.7823\n",
      "Epoch 1/3\n",
      "Epoch 2/3\n",
      "Epoch 3/3\n",
      "79/79 [==============================] - 0s 3ms/step - loss: 0.2164 - accuracy: 0.9166 - precision: 0.9105 - recall: 0.8963\n",
      "\n",
      "9242 32 32 33-4-1 41-2-1 29\n",
      "Epoch 1/3\n",
      "Epoch 2/3\n",
      "Epoch 3/3\n",
      "79/79 [==============================] - 1s 3ms/step - loss: 0.4854 - accuracy: 0.7774 - precision: 0.7801 - recall: 0.6664\n",
      "Epoch 1/3\n",
      "Epoch 2/3\n",
      "Epoch 3/3\n",
      "79/79 [==============================] - 0s 3ms/step - loss: 0.3383 - accuracy: 0.8704 - precision: 0.8813 - recall: 0.7938\n",
      "Epoch 1/3\n",
      "Epoch 2/3\n",
      "Epoch 3/3\n",
      "79/79 [==============================] - 0s 3ms/step - loss: 0.2178 - accuracy: 0.9186 - precision: 0.9533 - recall: 0.8561\n",
      "\n",
      "7135 27 26 31-4-1 24-3-1 40\n",
      "Epoch 1/3\n",
      "Epoch 2/3\n",
      "Epoch 3/3\n",
      "79/79 [==============================] - 1s 3ms/step - loss: 0.4828 - accuracy: 0.7726 - precision: 0.7520 - recall: 0.7046\n",
      "Epoch 1/3\n",
      "Epoch 2/3\n",
      "Epoch 3/3\n",
      "79/79 [==============================] - 0s 4ms/step - loss: 0.3458 - accuracy: 0.8552 - precision: 0.8823 - recall: 0.7628\n",
      "Epoch 1/3\n",
      "Epoch 2/3\n",
      "Epoch 3/3\n",
      "79/79 [==============================] - 0s 3ms/step - loss: 0.2350 - accuracy: 0.9114 - precision: 0.9095 - recall: 0.8768\n",
      "\n",
      "10355 32 22 31-3-1 35-3-1 34\n",
      "Epoch 1/3\n",
      "Epoch 2/3\n",
      "Epoch 3/3\n",
      "79/79 [==============================] - 1s 3ms/step - loss: 0.4931 - accuracy: 0.7774 - precision: 0.7540 - recall: 0.7088\n",
      "Epoch 1/3\n",
      "Epoch 2/3\n",
      "Epoch 3/3\n",
      "79/79 [==============================] - 0s 3ms/step - loss: 0.3357 - accuracy: 0.8664 - precision: 0.8428 - recall: 0.8436\n",
      "Epoch 1/3\n",
      "Epoch 2/3\n",
      "Epoch 3/3\n",
      "79/79 [==============================] - 0s 3ms/step - loss: 0.1976 - accuracy: 0.9246 - precision: 0.9306 - recall: 0.8897\n",
      "\n",
      "9156 27 32 38-4-1 26-4-1 32\n",
      "Epoch 1/3\n",
      "Epoch 2/3\n",
      "Epoch 3/3\n",
      "79/79 [==============================] - 1s 3ms/step - loss: 0.4871 - accuracy: 0.7718 - precision: 0.7907 - recall: 0.6509\n",
      "Epoch 1/3\n",
      "Epoch 2/3\n",
      "Epoch 3/3\n",
      "79/79 [==============================] - 0s 3ms/step - loss: 0.2948 - accuracy: 0.8839 - precision: 0.8893 - recall: 0.8238\n",
      "Epoch 1/3\n",
      "Epoch 2/3\n",
      "Epoch 3/3\n",
      "79/79 [==============================] - 0s 4ms/step - loss: 0.2129 - accuracy: 0.9234 - precision: 0.9076 - recall: 0.9127\n",
      "\n",
      "7036 26 27 43-3-1 30-3-1 40\n",
      "Epoch 1/3\n",
      "Epoch 2/3\n",
      "Epoch 3/3\n",
      "79/79 [==============================] - 1s 3ms/step - loss: 0.4726 - accuracy: 0.7826 - precision: 0.7464 - recall: 0.7387\n",
      "Epoch 1/3\n",
      "Epoch 2/3\n",
      "Epoch 3/3\n",
      "79/79 [==============================] - 0s 3ms/step - loss: 0.3459 - accuracy: 0.8504 - precision: 0.8303 - recall: 0.8265\n",
      "Epoch 1/3\n",
      "Epoch 2/3\n",
      "Epoch 3/3\n",
      "79/79 [==============================] - 0s 4ms/step - loss: 0.2158 - accuracy: 0.9162 - precision: 0.9075 - recall: 0.8902\n",
      "\n",
      "Generation 8\n",
      "11495 25 38 37-4-1 41-3-1 28\n",
      "Epoch 1/3\n",
      "Epoch 2/3\n",
      "Epoch 3/3\n",
      "79/79 [==============================] - 1s 2ms/step - loss: 0.5114 - accuracy: 0.7643 - precision: 0.7382 - recall: 0.6977\n",
      "Epoch 1/3\n",
      "Epoch 2/3\n",
      "Epoch 3/3\n",
      "79/79 [==============================] - 0s 3ms/step - loss: 0.2865 - accuracy: 0.8879 - precision: 0.8861 - recall: 0.8395\n",
      "Epoch 1/3\n",
      "Epoch 2/3\n",
      "Epoch 3/3\n",
      "79/79 [==============================] - 0s 3ms/step - loss: 0.1636 - accuracy: 0.9402 - precision: 0.9516 - recall: 0.9077\n",
      "\n",
      "9740 32 35 40-3-1 37-3-1 36\n",
      "Epoch 1/3\n",
      "Epoch 2/3\n",
      "Epoch 3/3\n",
      "79/79 [==============================] - 1s 3ms/step - loss: 0.4788 - accuracy: 0.7730 - precision: 0.7352 - recall: 0.7507\n",
      "Epoch 1/3\n",
      "Epoch 2/3\n",
      "Epoch 3/3\n",
      "79/79 [==============================] - 0s 3ms/step - loss: 0.3161 - accuracy: 0.8740 - precision: 0.8874 - recall: 0.8013\n",
      "Epoch 1/3\n",
      "Epoch 2/3\n",
      "Epoch 3/3\n",
      "79/79 [==============================] - 0s 3ms/step - loss: 0.1699 - accuracy: 0.9354 - precision: 0.9203 - recall: 0.9273\n",
      "\n",
      "9880 32 38 30-3-1 24-3-1 33\n",
      "Epoch 1/3\n",
      "Epoch 2/3\n",
      "Epoch 3/3\n",
      "79/79 [==============================] - 1s 3ms/step - loss: 0.4900 - accuracy: 0.7667 - precision: 0.7182 - recall: 0.7392\n",
      "Epoch 1/3\n",
      "Epoch 2/3\n",
      "Epoch 3/3\n",
      "79/79 [==============================] - 0s 2ms/step - loss: 0.3558 - accuracy: 0.8604 - precision: 0.8610 - recall: 0.8050\n",
      "Epoch 1/3\n",
      "Epoch 2/3\n",
      "Epoch 3/3\n",
      "79/79 [==============================] - 0s 3ms/step - loss: 0.1556 - accuracy: 0.9446 - precision: 0.9514 - recall: 0.9166\n",
      "\n",
      "12941 32 37 27-2-1 30-3-1 28\n",
      "Epoch 1/3\n",
      "Epoch 2/3\n",
      "Epoch 3/3\n",
      "79/79 [==============================] - 1s 2ms/step - loss: 0.4678 - accuracy: 0.7798 - precision: 0.7505 - recall: 0.7209\n",
      "Epoch 1/3\n",
      "Epoch 2/3\n",
      "Epoch 3/3\n",
      "79/79 [==============================] - 0s 3ms/step - loss: 0.3538 - accuracy: 0.8656 - precision: 0.8969 - recall: 0.7786\n",
      "Epoch 1/3\n",
      "Epoch 2/3\n",
      "Epoch 3/3\n",
      "79/79 [==============================] - 0s 4ms/step - loss: 0.1933 - accuracy: 0.9254 - precision: 0.9175 - recall: 0.9045\n",
      "\n",
      "9517 32 40 27-2-1 46-4-1 37\n",
      "Epoch 1/3\n",
      "Epoch 2/3\n",
      "Epoch 3/3\n",
      "79/79 [==============================] - 1s 2ms/step - loss: 0.4823 - accuracy: 0.7647 - precision: 0.7202 - recall: 0.7582\n",
      "Epoch 1/3\n",
      "Epoch 2/3\n",
      "Epoch 3/3\n",
      "79/79 [==============================] - 0s 4ms/step - loss: 0.3441 - accuracy: 0.8560 - precision: 0.8060 - recall: 0.8637\n",
      "Epoch 1/3\n",
      "Epoch 2/3\n",
      "Epoch 3/3\n",
      "79/79 [==============================] - 0s 3ms/step - loss: 0.2038 - accuracy: 0.9202 - precision: 0.8885 - recall: 0.9272\n",
      "\n",
      "13646 32 30 25-2-1 26-3-1 30\n",
      "Epoch 1/3\n",
      "Epoch 2/3\n",
      "Epoch 3/3\n",
      "79/79 [==============================] - 1s 3ms/step - loss: 0.5038 - accuracy: 0.7555 - precision: 0.7060 - recall: 0.7253\n",
      "Epoch 1/3\n",
      "Epoch 2/3\n",
      "Epoch 3/3\n",
      "79/79 [==============================] - 0s 3ms/step - loss: 0.3415 - accuracy: 0.8688 - precision: 0.8533 - recall: 0.8281\n",
      "Epoch 1/3\n",
      "Epoch 2/3\n",
      "Epoch 3/3\n",
      "79/79 [==============================] - 0s 3ms/step - loss: 0.1680 - accuracy: 0.9426 - precision: 0.9424 - recall: 0.9252\n",
      "\n",
      "12588 25 36 30-2-1 40-4-1 24\n",
      "Epoch 1/3\n",
      "Epoch 2/3\n",
      "Epoch 3/3\n",
      "79/79 [==============================] - 1s 3ms/step - loss: 0.5017 - accuracy: 0.7814 - precision: 0.8163 - recall: 0.6326\n",
      "Epoch 1/3\n",
      "Epoch 2/3\n",
      "Epoch 3/3\n",
      "79/79 [==============================] - 0s 3ms/step - loss: 0.2812 - accuracy: 0.8867 - precision: 0.8983 - recall: 0.8298\n",
      "Epoch 1/3\n",
      "Epoch 2/3\n",
      "Epoch 3/3\n",
      "79/79 [==============================] - 0s 4ms/step - loss: 0.1361 - accuracy: 0.9533 - precision: 0.9476 - recall: 0.9413\n",
      "\n",
      "8615 30 31 27-3-1 38-3-1 35\n",
      "Epoch 1/3\n",
      "Epoch 2/3\n",
      "Epoch 3/3\n",
      "79/79 [==============================] - 1s 4ms/step - loss: 0.4812 - accuracy: 0.7810 - precision: 0.7215 - recall: 0.7746\n",
      "Epoch 1/3\n",
      "Epoch 2/3\n",
      "Epoch 3/3\n",
      "79/79 [==============================] - 0s 3ms/step - loss: 0.3673 - accuracy: 0.8540 - precision: 0.8743 - recall: 0.7724\n",
      "Epoch 1/3\n",
      "Epoch 2/3\n",
      "Epoch 3/3\n",
      "79/79 [==============================] - 0s 3ms/step - loss: 0.1993 - accuracy: 0.9274 - precision: 0.9187 - recall: 0.9119\n",
      "\n",
      "8857 30 34 39-3-1 24-3-1 35\n",
      "Epoch 1/3\n",
      "Epoch 2/3\n",
      "Epoch 3/3\n",
      "79/79 [==============================] - 1s 3ms/step - loss: 0.4880 - accuracy: 0.7758 - precision: 0.7711 - recall: 0.6711\n",
      "Epoch 1/3\n",
      "Epoch 2/3\n",
      "Epoch 3/3\n",
      "79/79 [==============================] - 0s 3ms/step - loss: 0.3222 - accuracy: 0.8716 - precision: 0.8637 - recall: 0.8350\n",
      "Epoch 1/3\n",
      "Epoch 2/3\n",
      "Epoch 3/3\n",
      "79/79 [==============================] - 0s 3ms/step - loss: 0.2137 - accuracy: 0.9286 - precision: 0.9338 - recall: 0.8940\n",
      "\n",
      "7358 32 25 28-4-1 23-3-1 36\n",
      "Epoch 1/3\n",
      "Epoch 2/3\n",
      "Epoch 3/3\n",
      "79/79 [==============================] - 1s 3ms/step - loss: 0.4695 - accuracy: 0.7874 - precision: 0.8123 - recall: 0.6772\n",
      "Epoch 1/3\n",
      "Epoch 2/3\n",
      "Epoch 3/3\n",
      "79/79 [==============================] - 0s 4ms/step - loss: 0.3605 - accuracy: 0.8480 - precision: 0.8170 - recall: 0.8162\n",
      "Epoch 1/3\n",
      "Epoch 2/3\n",
      "Epoch 3/3\n",
      "79/79 [==============================] - 0s 3ms/step - loss: 0.2102 - accuracy: 0.9202 - precision: 0.9448 - recall: 0.8607\n",
      "\n",
      "Generation 9\n",
      "13033 31 29 31-3-1 34-2-1 29\n",
      "Epoch 1/3\n",
      "Epoch 2/3\n",
      "Epoch 3/3\n",
      "79/79 [==============================] - 1s 3ms/step - loss: 0.4942 - accuracy: 0.7778 - precision: 0.7943 - recall: 0.6502\n",
      "Epoch 1/3\n",
      "Epoch 2/3\n",
      "Epoch 3/3\n",
      "79/79 [==============================] - 0s 3ms/step - loss: 0.2935 - accuracy: 0.8855 - precision: 0.8867 - recall: 0.8355\n",
      "Epoch 1/3\n",
      "Epoch 2/3\n",
      "Epoch 3/3\n",
      "79/79 [==============================] - 0s 3ms/step - loss: 0.1535 - accuracy: 0.9481 - precision: 0.9564 - recall: 0.9208\n",
      "\n",
      "7900 32 42 29-3-1 27-3-1 51\n",
      "Epoch 1/3\n",
      "Epoch 2/3\n",
      "Epoch 3/3\n",
      "79/79 [==============================] - 1s 3ms/step - loss: 0.4775 - accuracy: 0.7914 - precision: 0.7666 - recall: 0.7298\n",
      "Epoch 1/3\n",
      "Epoch 2/3\n",
      "Epoch 3/3\n",
      "79/79 [==============================] - 0s 3ms/step - loss: 0.3312 - accuracy: 0.8688 - precision: 0.8638 - recall: 0.8152\n",
      "Epoch 1/3\n",
      "Epoch 2/3\n",
      "Epoch 3/3\n",
      "79/79 [==============================] - 0s 4ms/step - loss: 0.1946 - accuracy: 0.9254 - precision: 0.9477 - recall: 0.8775\n",
      "\n",
      "8227 27 27 45-4-1 34-4-1 25\n",
      "Epoch 1/3\n",
      "Epoch 2/3\n",
      "Epoch 3/3\n",
      "79/79 [==============================] - 1s 3ms/step - loss: 0.4655 - accuracy: 0.7834 - precision: 0.7947 - recall: 0.6827\n",
      "Epoch 1/3\n",
      "Epoch 2/3\n",
      "Epoch 3/3\n",
      "79/79 [==============================] - 0s 3ms/step - loss: 0.3663 - accuracy: 0.8580 - precision: 0.8420 - recall: 0.8096\n",
      "Epoch 1/3\n",
      "Epoch 2/3\n",
      "Epoch 3/3\n",
      "79/79 [==============================] - 0s 3ms/step - loss: 0.2011 - accuracy: 0.9258 - precision: 0.9382 - recall: 0.8837\n",
      "\n",
      "15163 32 25 41-3-1 27-3-1 24\n",
      "Epoch 1/3\n",
      "Epoch 2/3\n",
      "Epoch 3/3\n",
      "79/79 [==============================] - 1s 3ms/step - loss: 0.4973 - accuracy: 0.7671 - precision: 0.7403 - recall: 0.7059\n",
      "Epoch 1/3\n",
      "Epoch 2/3\n",
      "Epoch 3/3\n",
      "79/79 [==============================] - 0s 3ms/step - loss: 0.3407 - accuracy: 0.8668 - precision: 0.8951 - recall: 0.7799\n",
      "Epoch 1/3\n",
      "Epoch 2/3\n",
      "Epoch 3/3\n",
      "79/79 [==============================] - 0s 3ms/step - loss: 0.1630 - accuracy: 0.9426 - precision: 0.9653 - recall: 0.8958\n",
      "\n",
      "11368 28 28 36-3-1 28-3-1 33\n",
      "Epoch 1/3\n",
      "Epoch 2/3\n",
      "Epoch 3/3\n",
      "79/79 [==============================] - 1s 3ms/step - loss: 0.4744 - accuracy: 0.7926 - precision: 0.8389 - recall: 0.6461\n",
      "Epoch 1/3\n",
      "Epoch 2/3\n",
      "Epoch 3/3\n",
      "79/79 [==============================] - 0s 3ms/step - loss: 0.3429 - accuracy: 0.8680 - precision: 0.8751 - recall: 0.7930\n",
      "Epoch 1/3\n",
      "Epoch 2/3\n",
      "Epoch 3/3\n",
      "79/79 [==============================] - 0s 3ms/step - loss: 0.1821 - accuracy: 0.9302 - precision: 0.9443 - recall: 0.8911\n",
      "\n",
      "10333 32 31 28-3-1 33-4-1 24\n",
      "Epoch 1/3\n",
      "Epoch 2/3\n",
      "Epoch 3/3\n",
      "79/79 [==============================] - 1s 3ms/step - loss: 0.4749 - accuracy: 0.7834 - precision: 0.7392 - recall: 0.7399\n",
      "Epoch 1/3\n",
      "Epoch 2/3\n",
      "Epoch 3/3\n",
      "79/79 [==============================] - 0s 4ms/step - loss: 0.3108 - accuracy: 0.8767 - precision: 0.9101 - recall: 0.7907\n",
      "Epoch 1/3\n",
      "Epoch 2/3\n",
      "Epoch 3/3\n",
      "79/79 [==============================] - 0s 3ms/step - loss: 0.1955 - accuracy: 0.9334 - precision: 0.9349 - recall: 0.9100\n",
      "\n",
      "7492 25 35 24-3-1 37-3-1 27\n",
      "Epoch 1/3\n",
      "Epoch 2/3\n",
      "Epoch 3/3\n",
      "79/79 [==============================] - 1s 2ms/step - loss: 0.4845 - accuracy: 0.7734 - precision: 0.7605 - recall: 0.6884\n",
      "Epoch 1/3\n",
      "Epoch 2/3\n",
      "Epoch 3/3\n",
      "79/79 [==============================] - 0s 3ms/step - loss: 0.3547 - accuracy: 0.8508 - precision: 0.8707 - recall: 0.7674\n",
      "Epoch 1/3\n",
      "Epoch 2/3\n",
      "Epoch 3/3\n",
      "79/79 [==============================] - 0s 3ms/step - loss: 0.2314 - accuracy: 0.9099 - precision: 0.9232 - recall: 0.8565\n",
      "\n",
      "14304 32 29 22-4-1 22-2-1 31\n",
      "Epoch 1/3\n",
      "Epoch 2/3\n",
      "Epoch 3/3\n",
      "79/79 [==============================] - 1s 2ms/step - loss: 0.5003 - accuracy: 0.7623 - precision: 0.7172 - recall: 0.7332\n",
      "Epoch 1/3\n",
      "Epoch 2/3\n",
      "Epoch 3/3\n",
      "79/79 [==============================] - 0s 3ms/step - loss: 0.3387 - accuracy: 0.8604 - precision: 0.8219 - recall: 0.8516\n",
      "Epoch 1/3\n",
      "Epoch 2/3\n",
      "Epoch 3/3\n",
      "79/79 [==============================] - 0s 3ms/step - loss: 0.1495 - accuracy: 0.9434 - precision: 0.9352 - recall: 0.9335\n",
      "\n",
      "12770 29 26 34-4-1 40-4-1 33\n",
      "Epoch 1/3\n",
      "Epoch 2/3\n",
      "Epoch 3/3\n",
      "79/79 [==============================] - 1s 3ms/step - loss: 0.4691 - accuracy: 0.7886 - precision: 0.7883 - recall: 0.6790\n",
      "Epoch 1/3\n",
      "Epoch 2/3\n",
      "Epoch 3/3\n",
      "79/79 [==============================] - 0s 3ms/step - loss: 0.3000 - accuracy: 0.8887 - precision: 0.9004 - recall: 0.8347\n",
      "Epoch 1/3\n",
      "Epoch 2/3\n",
      "Epoch 3/3\n",
      "79/79 [==============================] - 0s 4ms/step - loss: 0.1795 - accuracy: 0.9350 - precision: 0.9348 - recall: 0.9112\n",
      "\n",
      "9472 32 41 28-4-1 37-4-1 36\n",
      "Epoch 1/3\n",
      "Epoch 2/3\n",
      "Epoch 3/3\n",
      "79/79 [==============================] - 1s 3ms/step - loss: 0.4827 - accuracy: 0.7762 - precision: 0.7558 - recall: 0.6983\n",
      "Epoch 1/3\n",
      "Epoch 2/3\n",
      "Epoch 3/3\n",
      "79/79 [==============================] - 0s 4ms/step - loss: 0.3367 - accuracy: 0.8656 - precision: 0.8676 - recall: 0.8159\n",
      "Epoch 1/3\n",
      "Epoch 2/3\n",
      "Epoch 3/3\n",
      "79/79 [==============================] - 0s 3ms/step - loss: 0.2124 - accuracy: 0.9306 - precision: 0.9109 - recall: 0.9248\n",
      "\n"
     ]
    }
   ],
   "source": [
    "n_generations = 10\n",
    "population_size = 10\n",
    "epochs = 3\n",
    "\n",
    "all_populations = []\n",
    "all_scores = []\n",
    "\n",
    "population = [base_params] * population_size\n",
    "\n",
    "for i in range(n_generations):\n",
    "    print('Generation', i)\n",
    "\n",
    "    # Simulate a generation\n",
    "    generation_results = generation(population, epochs)\n",
    "\n",
    "    # Store the results of the generation\n",
    "    all_populations.append(generation_results['population'])\n",
    "    all_scores.append(generation_results['scores'])"
   ],
   "metadata": {
    "collapsed": false,
    "pycharm": {
     "name": "#%%\n"
    }
   }
  },
  {
   "cell_type": "markdown",
   "source": [
    "#### Results\n",
    "\n",
    "We may now analyze the results of the simulation. For instance, we may plot the evolution of the average and maximum scores over all generations."
   ],
   "metadata": {
    "collapsed": false
   }
  },
  {
   "cell_type": "code",
   "execution_count": 73,
   "outputs": [
    {
     "data": {
      "text/plain": "<matplotlib.legend.Legend at 0x7fb383916100>"
     },
     "execution_count": 73,
     "metadata": {},
     "output_type": "execute_result"
    },
    {
     "data": {
      "text/plain": "<Figure size 432x288 with 1 Axes>",
      "image/png": "[encoded data removed]"
     },
     "metadata": {
      "needs_background": "light"
     },
     "output_type": "display_data"
    }
   ],
   "source": [
    "generation_average_scores = np.mean(all_scores, axis=1)\n",
    "generation_max_scores = np.max(all_scores, axis=1)\n",
    "\n",
    "fig, ax = plt.subplots()\n",
    "ax.plot(generation_average_scores, color='tab:blue', label='Average score')\n",
    "ax.plot(generation_max_scores, color='tab:orange', label='Max score')\n",
    "ax.set_xlabel('Generation')\n",
    "ax.set_ylabel('Score')\n",
    "ax.set_title('Average and maximum scores per generation')\n",
    "ax.legend()"
   ],
   "metadata": {
    "collapsed": false,
    "pycharm": {
     "name": "#%%\n"
    }
   }
  },
  {
   "cell_type": "markdown",
   "source": [
    "For more details, we may also plot the evolution of each hyperparameter over all generations."
   ],
   "metadata": {
    "collapsed": false
   }
  },
  {
   "cell_type": "code",
   "execution_count": 74,
   "outputs": [
    {
     "data": {
      "text/plain": "<Figure size 864x1296 with 10 Axes>",
      "image/png": "[encoded data removed]"
     },
     "metadata": {
      "needs_background": "light"
     },
     "output_type": "display_data"
    }
   ],
   "source": [
    "from numpy.polynomial.polynomial import polyfit\n",
    "\n",
    "x = np.array([i for i in range(n_generations) for j in range(population_size)])\n",
    "\n",
    "fig, axs = plt.subplots(5, 2, figsize=(12, 18))\n",
    "plt.subplots_adjust(left=0.1,\n",
    "                    bottom=0.1,\n",
    "                    right=0.9,\n",
    "                    top=0.9,\n",
    "                    wspace=0.4,\n",
    "                    hspace=0.4)\n",
    "axs = axs.ravel()\n",
    "\n",
    "i = 0\n",
    "for param in base_params.keys():\n",
    "    y = np.array([genotype[param] for population in all_populations for genotype in population])\n",
    "    mean_x = np.array(range(n_generations))\n",
    "    mean_y = np.array([np.mean([genotype[param] for genotype in population]) for population in all_populations])\n",
    "    b, m = polyfit(x, y, deg=1)\n",
    "\n",
    "    axs[i].scatter(x, y, s=2, color='tab:blue', label='Value per model')\n",
    "    axs[i].plot(mean_x, mean_y, color='tab:orange', label='Average per generation')\n",
    "    axs[i].plot(x, m * x + b, color='tab:green', label='All history regression')\n",
    "    axs[i].set_xlabel('Generation')\n",
    "    axs[i].set_ylabel(param)\n",
    "    axs[i].set_title(param + ' per generation')\n",
    "    axs[i].legend()\n",
    "    i += 1"
   ],
   "metadata": {
    "collapsed": false,
    "pycharm": {
     "name": "#%%\n"
    }
   }
  }
 ],
 "metadata": {
  "kernelspec": {
   "display_name": "Python 3",
   "language": "python",
   "name": "python3"
  },
  "language_info": {
   "codemirror_mode": {
    "name": "ipython",
    "version": 2
   },
   "file_extension": ".py",
   "mimetype": "text/x-python",
   "name": "python",
   "nbconvert_exporter": "python",
   "pygments_lexer": "ipython2",
   "version": "2.7.6"
  }
 },
 "nbformat": 4,
 "nbformat_minor": 0
}