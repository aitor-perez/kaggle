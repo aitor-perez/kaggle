{
 "cells": [
  {
   "cell_type": "markdown",
   "source": [
    "# 02 Linear regression\n",
    "\n",
    "In this notebook we slightly refine our previous approach of predicting the sales by performing linear regression on the monthly item counts."
   ],
   "metadata": {
    "collapsed": false
   }
  },
  {
   "cell_type": "markdown",
   "source": [
    "## Reading data\n",
    "\n",
    "We read the datasets from the csv files."
   ],
   "metadata": {
    "collapsed": false
   }
  },
  {
   "cell_type": "code",
   "execution_count": 26,
   "metadata": {
    "collapsed": true
   },
   "outputs": [
    {
     "data": {
      "text/plain": "         date  date_block_num  shop_id  item_id  item_price  item_cnt_day\n0  02.01.2013               0       59    22154      999.00           1.0\n1  03.01.2013               0       25     2552      899.00           1.0\n2  05.01.2013               0       25     2552      899.00          -1.0\n3  06.01.2013               0       25     2554     1709.05           1.0\n4  15.01.2013               0       25     2555     1099.00           1.0",
      "text/html": "<div>\n<style scoped>\n    .dataframe tbody tr th:only-of-type {\n        vertical-align: middle;\n    }\n\n    .dataframe tbody tr th {\n        vertical-align: top;\n    }\n\n    .dataframe thead th {\n        text-align: right;\n    }\n</style>\n<table border=\"1\" class=\"dataframe\">\n  <thead>\n    <tr style=\"text-align: right;\">\n      <th></th>\n      <th>date</th>\n      <th>date_block_num</th>\n      <th>shop_id</th>\n      <th>item_id</th>\n      <th>item_price</th>\n      <th>item_cnt_day</th>\n    </tr>\n  </thead>\n  <tbody>\n    <tr>\n      <th>0</th>\n      <td>02.01.2013</td>\n      <td>0</td>\n      <td>59</td>\n      <td>22154</td>\n      <td>999.00</td>\n      <td>1.0</td>\n    </tr>\n    <tr>\n      <th>1</th>\n      <td>03.01.2013</td>\n      <td>0</td>\n      <td>25</td>\n      <td>2552</td>\n      <td>899.00</td>\n      <td>1.0</td>\n    </tr>\n    <tr>\n      <th>2</th>\n      <td>05.01.2013</td>\n      <td>0</td>\n      <td>25</td>\n      <td>2552</td>\n      <td>899.00</td>\n      <td>-1.0</td>\n    </tr>\n    <tr>\n      <th>3</th>\n      <td>06.01.2013</td>\n      <td>0</td>\n      <td>25</td>\n      <td>2554</td>\n      <td>1709.05</td>\n      <td>1.0</td>\n    </tr>\n    <tr>\n      <th>4</th>\n      <td>15.01.2013</td>\n      <td>0</td>\n      <td>25</td>\n      <td>2555</td>\n      <td>1099.00</td>\n      <td>1.0</td>\n    </tr>\n  </tbody>\n</table>\n</div>"
     },
     "execution_count": 26,
     "metadata": {},
     "output_type": "execute_result"
    }
   ],
   "source": [
    "import numpy as np\n",
    "import pandas as pd\n",
    "\n",
    "import matplotlib.pyplot as plt\n",
    "\n",
    "from numpy.polynomial.polynomial import polyfit\n",
    "\n",
    "train_data = pd.read_csv('data/sales_train.csv')\n",
    "test_data = pd.read_csv('data/test.csv')\n",
    "\n",
    "train_data.head()"
   ]
  },
  {
   "cell_type": "markdown",
   "source": [
    "We convert the date into a datetime object."
   ],
   "metadata": {
    "collapsed": false
   }
  },
  {
   "cell_type": "code",
   "execution_count": 27,
   "outputs": [
    {
     "data": {
      "text/plain": "        date  date_block_num  shop_id  item_id  item_price  item_cnt_day\n0 2013-01-02               0       59    22154      999.00           1.0\n1 2013-01-03               0       25     2552      899.00           1.0\n2 2013-01-05               0       25     2552      899.00          -1.0\n3 2013-01-06               0       25     2554     1709.05           1.0\n4 2013-01-15               0       25     2555     1099.00           1.0",
      "text/html": "<div>\n<style scoped>\n    .dataframe tbody tr th:only-of-type {\n        vertical-align: middle;\n    }\n\n    .dataframe tbody tr th {\n        vertical-align: top;\n    }\n\n    .dataframe thead th {\n        text-align: right;\n    }\n</style>\n<table border=\"1\" class=\"dataframe\">\n  <thead>\n    <tr style=\"text-align: right;\">\n      <th></th>\n      <th>date</th>\n      <th>date_block_num</th>\n      <th>shop_id</th>\n      <th>item_id</th>\n      <th>item_price</th>\n      <th>item_cnt_day</th>\n    </tr>\n  </thead>\n  <tbody>\n    <tr>\n      <th>0</th>\n      <td>2013-01-02</td>\n      <td>0</td>\n      <td>59</td>\n      <td>22154</td>\n      <td>999.00</td>\n      <td>1.0</td>\n    </tr>\n    <tr>\n      <th>1</th>\n      <td>2013-01-03</td>\n      <td>0</td>\n      <td>25</td>\n      <td>2552</td>\n      <td>899.00</td>\n      <td>1.0</td>\n    </tr>\n    <tr>\n      <th>2</th>\n      <td>2013-01-05</td>\n      <td>0</td>\n      <td>25</td>\n      <td>2552</td>\n      <td>899.00</td>\n      <td>-1.0</td>\n    </tr>\n    <tr>\n      <th>3</th>\n      <td>2013-01-06</td>\n      <td>0</td>\n      <td>25</td>\n      <td>2554</td>\n      <td>1709.05</td>\n      <td>1.0</td>\n    </tr>\n    <tr>\n      <th>4</th>\n      <td>2013-01-15</td>\n      <td>0</td>\n      <td>25</td>\n      <td>2555</td>\n      <td>1099.00</td>\n      <td>1.0</td>\n    </tr>\n  </tbody>\n</table>\n</div>"
     },
     "execution_count": 27,
     "metadata": {},
     "output_type": "execute_result"
    }
   ],
   "source": [
    "train_data['date'] = pd.to_datetime(train_data['date'], format=\"%d.%m.%Y\")\n",
    "\n",
    "train_data.head()"
   ],
   "metadata": {
    "collapsed": false,
    "pycharm": {
     "name": "#%%\n"
    }
   }
  },
  {
   "cell_type": "markdown",
   "source": [
    "## Linear regression\n",
    "\n",
    "In this case, we are going to perform linear regression on the monthly item counts, for every shop and item. In order to validate our predictions, we split the train dataset into the first months and the last one."
   ],
   "metadata": {
    "collapsed": false
   }
  },
  {
   "cell_type": "code",
   "execution_count": 55,
   "outputs": [
    {
     "data": {
      "text/plain": "((2882335, 6), (53514, 6))"
     },
     "execution_count": 55,
     "metadata": {},
     "output_type": "execute_result"
    }
   ],
   "source": [
    "# Number of months in the training dataset\n",
    "n_months = 33\n",
    "\n",
    "# Split dataset into training and validation\n",
    "last_month = train_data[train_data['date_block_num'] == n_months]\n",
    "first_months = train_data[train_data['date_block_num'] < n_months]\n",
    "\n",
    "first_months.shape, last_month.shape"
   ],
   "metadata": {
    "collapsed": false,
    "pycharm": {
     "name": "#%%\n"
    }
   }
  },
  {
   "cell_type": "markdown",
   "source": [
    "Now we aggregate the data by adding up all the daily item counts over each month."
   ],
   "metadata": {
    "collapsed": false
   }
  },
  {
   "cell_type": "code",
   "execution_count": 141,
   "outputs": [
    {
     "data": {
      "text/plain": "   shop_id  item_id  date_block_num  item_cnt_month\n0        0       30               1            31.0\n1        0       31               1            11.0\n2        0       32               0             6.0\n3        0       32               1            10.0\n4        0       33               0             3.0",
      "text/html": "<div>\n<style scoped>\n    .dataframe tbody tr th:only-of-type {\n        vertical-align: middle;\n    }\n\n    .dataframe tbody tr th {\n        vertical-align: top;\n    }\n\n    .dataframe thead th {\n        text-align: right;\n    }\n</style>\n<table border=\"1\" class=\"dataframe\">\n  <thead>\n    <tr style=\"text-align: right;\">\n      <th></th>\n      <th>shop_id</th>\n      <th>item_id</th>\n      <th>date_block_num</th>\n      <th>item_cnt_month</th>\n    </tr>\n  </thead>\n  <tbody>\n    <tr>\n      <th>0</th>\n      <td>0</td>\n      <td>30</td>\n      <td>1</td>\n      <td>31.0</td>\n    </tr>\n    <tr>\n      <th>1</th>\n      <td>0</td>\n      <td>31</td>\n      <td>1</td>\n      <td>11.0</td>\n    </tr>\n    <tr>\n      <th>2</th>\n      <td>0</td>\n      <td>32</td>\n      <td>0</td>\n      <td>6.0</td>\n    </tr>\n    <tr>\n      <th>3</th>\n      <td>0</td>\n      <td>32</td>\n      <td>1</td>\n      <td>10.0</td>\n    </tr>\n    <tr>\n      <th>4</th>\n      <td>0</td>\n      <td>33</td>\n      <td>0</td>\n      <td>3.0</td>\n    </tr>\n  </tbody>\n</table>\n</div>"
     },
     "execution_count": 141,
     "metadata": {},
     "output_type": "execute_result"
    }
   ],
   "source": [
    "# Aggregate datasets per month\n",
    "first_agg_month = first_months.groupby(['shop_id', 'item_id', 'date_block_num'], as_index=False)['item_cnt_day'].sum().rename(columns={'item_cnt_day': 'item_cnt_month'})\n",
    "last_agg_month = last_month.groupby(['shop_id', 'item_id', 'date_block_num'], as_index=False)['item_cnt_day'].sum().rename(columns={'item_cnt_day': 'item_cnt_month'})\n",
    "\n",
    "first_agg_month.head()"
   ],
   "metadata": {
    "collapsed": false,
    "pycharm": {
     "name": "#%%\n"
    }
   }
  },
  {
   "cell_type": "markdown",
   "source": [
    "We now create a new dataframe containing, for each shop and item, the coefficients of the linear regression."
   ],
   "metadata": {
    "collapsed": false
   }
  },
  {
   "cell_type": "code",
   "execution_count": 182,
   "outputs": [
    {
     "name": "stdout",
     "output_type": "stream",
     "text": [
      "0 1 2 3 4 5 6 7 8 9 10 11 12 13 14 15 16 17 18 19 20 21 22 23 24 25 26 27 28 29 30 31 32 33 34 35 37 38 39 40 41 42 43 44 45 46 47 48 49 50 51 52 53 54 55 56 57 58 59 "
     ]
    }
   ],
   "source": [
    "# Create constant series with all date_block_nums\n",
    "date_block_nums = pd.Series(range(n_months), name='date_block_num')\n",
    "\n",
    "# Empty dataframe to store the results of the linear regression\n",
    "first_agg_all_time = pd.DataFrame()\n",
    "\n",
    "# Iterate over shops\n",
    "shop_ids = first_agg_month['shop_id'].unique()\n",
    "for shop_id in shop_ids:\n",
    "    first_agg_month_shop = first_agg_month[first_agg_month['shop_id'] == shop_id]\n",
    "\n",
    "    print(shop_id, end=' ')\n",
    "\n",
    "    # Iterate over the items of the given shop\n",
    "    item_ids = first_agg_month_shop['item_id'].unique()\n",
    "    for item_id in item_ids:\n",
    "        first_agg_month_shop_item = first_agg_month_shop[first_agg_month_shop['item_id'] == item_id]\n",
    "\n",
    "        # Merge the dataframe so it has zeros for months with no item counts\n",
    "        x = pd.merge(date_block_nums, first_agg_month_shop_item, how='left').fillna(0)\n",
    "        # Fit the linear regression coefficients\n",
    "        b, m = polyfit(x['date_block_num'], x['item_cnt_month'], deg=1)\n",
    "\n",
    "        # Append a new row to the aggregated dataframe\n",
    "        row = pd.DataFrame([[shop_id, item_id, b, m]], columns=['shop_id', 'item_id', 'lr_b', 'lr_m'])\n",
    "        first_agg_all_time = first_agg_all_time.append(row)"
   ],
   "metadata": {
    "collapsed": false,
    "pycharm": {
     "name": "#%%\n"
    }
   }
  },
  {
   "cell_type": "markdown",
   "source": [
    "We reset the indices and compute our predictions."
   ],
   "metadata": {
    "collapsed": false
   }
  },
  {
   "cell_type": "code",
   "execution_count": 217,
   "outputs": [
    {
     "data": {
      "text/plain": "   shop_id  item_id      lr_b      lr_m  pred_33\n0        0       30  3.426025 -0.155414      0.0\n1        0       31  1.215686 -0.055147      0.0\n2        0       32  1.800357 -0.082219      0.0\n3        0       33  0.679144 -0.031083      0.0\n4        0       35  1.663102 -0.075535      0.0",
      "text/html": "<div>\n<style scoped>\n    .dataframe tbody tr th:only-of-type {\n        vertical-align: middle;\n    }\n\n    .dataframe tbody tr th {\n        vertical-align: top;\n    }\n\n    .dataframe thead th {\n        text-align: right;\n    }\n</style>\n<table border=\"1\" class=\"dataframe\">\n  <thead>\n    <tr style=\"text-align: right;\">\n      <th></th>\n      <th>shop_id</th>\n      <th>item_id</th>\n      <th>lr_b</th>\n      <th>lr_m</th>\n      <th>pred_33</th>\n    </tr>\n  </thead>\n  <tbody>\n    <tr>\n      <th>0</th>\n      <td>0</td>\n      <td>30</td>\n      <td>3.426025</td>\n      <td>-0.155414</td>\n      <td>0.0</td>\n    </tr>\n    <tr>\n      <th>1</th>\n      <td>0</td>\n      <td>31</td>\n      <td>1.215686</td>\n      <td>-0.055147</td>\n      <td>0.0</td>\n    </tr>\n    <tr>\n      <th>2</th>\n      <td>0</td>\n      <td>32</td>\n      <td>1.800357</td>\n      <td>-0.082219</td>\n      <td>0.0</td>\n    </tr>\n    <tr>\n      <th>3</th>\n      <td>0</td>\n      <td>33</td>\n      <td>0.679144</td>\n      <td>-0.031083</td>\n      <td>0.0</td>\n    </tr>\n    <tr>\n      <th>4</th>\n      <td>0</td>\n      <td>35</td>\n      <td>1.663102</td>\n      <td>-0.075535</td>\n      <td>0.0</td>\n    </tr>\n  </tbody>\n</table>\n</div>"
     },
     "execution_count": 217,
     "metadata": {},
     "output_type": "execute_result"
    }
   ],
   "source": [
    "first_agg_all_time = first_agg_all_time.reset_index(drop=True)\n",
    "\n",
    "first_agg_all_time['pred_33'] = first_agg_all_time['lr_b'] + first_agg_all_time['lr_m'] * 33\n",
    "first_agg_all_time['pred_33'] = first_agg_all_time['pred_33'].clip(lower=0)\n",
    "\n",
    "first_agg_all_time.head()"
   ],
   "metadata": {
    "collapsed": false,
    "pycharm": {
     "name": "#%%\n"
    }
   }
  },
  {
   "cell_type": "markdown",
   "source": [
    "And we finally put together in the same dataframe our predictions with the ground truth."
   ],
   "metadata": {
    "collapsed": false
   }
  },
  {
   "cell_type": "code",
   "execution_count": 218,
   "outputs": [
    {
     "data": {
      "text/plain": "   shop_id  item_id  pred_33  true_item_cnt   se\n0        0       30      0.0            0.0  0.0\n1        0       31      0.0            0.0  0.0\n2        0       32      0.0            0.0  0.0\n3        0       33      0.0            0.0  0.0\n4        0       35      0.0            0.0  0.0",
      "text/html": "<div>\n<style scoped>\n    .dataframe tbody tr th:only-of-type {\n        vertical-align: middle;\n    }\n\n    .dataframe tbody tr th {\n        vertical-align: top;\n    }\n\n    .dataframe thead th {\n        text-align: right;\n    }\n</style>\n<table border=\"1\" class=\"dataframe\">\n  <thead>\n    <tr style=\"text-align: right;\">\n      <th></th>\n      <th>shop_id</th>\n      <th>item_id</th>\n      <th>pred_33</th>\n      <th>true_item_cnt</th>\n      <th>se</th>\n    </tr>\n  </thead>\n  <tbody>\n    <tr>\n      <th>0</th>\n      <td>0</td>\n      <td>30</td>\n      <td>0.0</td>\n      <td>0.0</td>\n      <td>0.0</td>\n    </tr>\n    <tr>\n      <th>1</th>\n      <td>0</td>\n      <td>31</td>\n      <td>0.0</td>\n      <td>0.0</td>\n      <td>0.0</td>\n    </tr>\n    <tr>\n      <th>2</th>\n      <td>0</td>\n      <td>32</td>\n      <td>0.0</td>\n      <td>0.0</td>\n      <td>0.0</td>\n    </tr>\n    <tr>\n      <th>3</th>\n      <td>0</td>\n      <td>33</td>\n      <td>0.0</td>\n      <td>0.0</td>\n      <td>0.0</td>\n    </tr>\n    <tr>\n      <th>4</th>\n      <td>0</td>\n      <td>35</td>\n      <td>0.0</td>\n      <td>0.0</td>\n      <td>0.0</td>\n    </tr>\n  </tbody>\n</table>\n</div>"
     },
     "execution_count": 218,
     "metadata": {},
     "output_type": "execute_result"
    }
   ],
   "source": [
    "predictions = pd.merge(first_agg_all_time[['shop_id', 'item_id', 'pred_33']], last_agg_month[['shop_id', 'item_id','item_cnt_month']], on=['shop_id', 'item_id'], how='left').rename(columns={'item_cnt_month': 'true_item_cnt'}).fillna(0)\n",
    "\n",
    "# Compute the squared error\n",
    "predictions['se'] = (predictions['pred_33'] - predictions['true_item_cnt'])**2\n",
    "\n",
    "predictions.head()"
   ],
   "metadata": {
    "collapsed": false,
    "pycharm": {
     "name": "#%%\n"
    }
   }
  },
  {
   "cell_type": "markdown",
   "source": [
    "The rooted mean square error is the metric we are considering for the error. Its value is rather high, this is due to the naive approach for the predictions."
   ],
   "metadata": {
    "collapsed": false
   }
  },
  {
   "cell_type": "code",
   "execution_count": 219,
   "outputs": [
    {
     "data": {
      "text/plain": "3.447228314471813"
     },
     "execution_count": 219,
     "metadata": {},
     "output_type": "execute_result"
    }
   ],
   "source": [
    "# Compute the rooted mean squared error\n",
    "rmse = np.sqrt(predictions['se'].mean())\n",
    "\n",
    "rmse"
   ],
   "metadata": {
    "collapsed": false,
    "pycharm": {
     "name": "#%%\n"
    }
   }
  },
  {
   "cell_type": "markdown",
   "source": [
    "## Submission\n",
    "\n",
    "We are now ready to submit our predictions. To avoid repeating the training with the whole dataset, we will abuse the data and use the linear regression coefficients for the first 33 months instead of the first 34."
   ],
   "metadata": {
    "collapsed": false
   }
  },
  {
   "cell_type": "code",
   "execution_count": 220,
   "outputs": [
    {
     "data": {
      "text/plain": "   shop_id  item_id      lr_b      lr_m  pred_33  pred_34\n0        0       30  3.426025 -0.155414      0.0      0.0\n1        0       31  1.215686 -0.055147      0.0      0.0\n2        0       32  1.800357 -0.082219      0.0      0.0\n3        0       33  0.679144 -0.031083      0.0      0.0\n4        0       35  1.663102 -0.075535      0.0      0.0",
      "text/html": "<div>\n<style scoped>\n    .dataframe tbody tr th:only-of-type {\n        vertical-align: middle;\n    }\n\n    .dataframe tbody tr th {\n        vertical-align: top;\n    }\n\n    .dataframe thead th {\n        text-align: right;\n    }\n</style>\n<table border=\"1\" class=\"dataframe\">\n  <thead>\n    <tr style=\"text-align: right;\">\n      <th></th>\n      <th>shop_id</th>\n      <th>item_id</th>\n      <th>lr_b</th>\n      <th>lr_m</th>\n      <th>pred_33</th>\n      <th>pred_34</th>\n    </tr>\n  </thead>\n  <tbody>\n    <tr>\n      <th>0</th>\n      <td>0</td>\n      <td>30</td>\n      <td>3.426025</td>\n      <td>-0.155414</td>\n      <td>0.0</td>\n      <td>0.0</td>\n    </tr>\n    <tr>\n      <th>1</th>\n      <td>0</td>\n      <td>31</td>\n      <td>1.215686</td>\n      <td>-0.055147</td>\n      <td>0.0</td>\n      <td>0.0</td>\n    </tr>\n    <tr>\n      <th>2</th>\n      <td>0</td>\n      <td>32</td>\n      <td>1.800357</td>\n      <td>-0.082219</td>\n      <td>0.0</td>\n      <td>0.0</td>\n    </tr>\n    <tr>\n      <th>3</th>\n      <td>0</td>\n      <td>33</td>\n      <td>0.679144</td>\n      <td>-0.031083</td>\n      <td>0.0</td>\n      <td>0.0</td>\n    </tr>\n    <tr>\n      <th>4</th>\n      <td>0</td>\n      <td>35</td>\n      <td>1.663102</td>\n      <td>-0.075535</td>\n      <td>0.0</td>\n      <td>0.0</td>\n    </tr>\n  </tbody>\n</table>\n</div>"
     },
     "execution_count": 220,
     "metadata": {},
     "output_type": "execute_result"
    }
   ],
   "source": [
    "first_agg_all_time['pred_34'] = first_agg_all_time['lr_b'] + first_agg_all_time['lr_m'] * 34\n",
    "first_agg_all_time['pred_34'] = first_agg_all_time['pred_34'].clip(lower=0)\n",
    "\n",
    "first_agg_all_time.head()"
   ],
   "metadata": {
    "collapsed": false,
    "pycharm": {
     "name": "#%%\n"
    }
   }
  },
  {
   "cell_type": "markdown",
   "source": [
    "We finally generate the csv file ready for submission."
   ],
   "metadata": {
    "collapsed": false
   }
  },
  {
   "cell_type": "code",
   "execution_count": 221,
   "outputs": [],
   "source": [
    "def generate_submission_file(data, pred_field, filename='submission.csv'):\n",
    "    predictions = pd.merge(test_data, data, on=['shop_id', 'item_id'], how='left').fillna(0)\n",
    "\n",
    "    output = pd.DataFrame({'ID': predictions['ID'], 'item_cnt_month': predictions[pred_field]})\n",
    "    output.to_csv('predictions/' + filename, index=False)\n",
    "    print(\"Submission successfully saved!\")"
   ],
   "metadata": {
    "collapsed": false,
    "pycharm": {
     "name": "#%%\n"
    }
   }
  },
  {
   "cell_type": "code",
   "execution_count": 222,
   "outputs": [
    {
     "name": "stdout",
     "output_type": "stream",
     "text": [
      "Submission successfully saved!\n"
     ]
    }
   ],
   "source": [
    "generate_submission_file(first_agg_all_time, 'pred_34')"
   ],
   "metadata": {
    "collapsed": false,
    "pycharm": {
     "name": "#%%\n"
    }
   }
  }
 ],
 "metadata": {
  "kernelspec": {
   "display_name": "Python 3",
   "language": "python",
   "name": "python3"
  },
  "language_info": {
   "codemirror_mode": {
    "name": "ipython",
    "version": 2
   },
   "file_extension": ".py",
   "mimetype": "text/x-python",
   "name": "python",
   "nbconvert_exporter": "python",
   "pygments_lexer": "ipython2",
   "version": "2.7.6"
  }
 },
 "nbformat": 4,
 "nbformat_minor": 0
}