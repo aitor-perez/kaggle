{
 "cells": [
  {
   "cell_type": "markdown",
   "metadata": {},
   "source": [
    "# 04 Hyperparameter tuning\n",
    "\n",
    "In this notebook we tune the hyperparameters of the models to maximize their performance."
   ]
  },
  {
   "cell_type": "markdown",
   "metadata": {},
   "source": [
    "## Reading data\n",
    "\n",
    "We read the preprocessed data from the pickle file we created in step 03."
   ]
  },
  {
   "cell_type": "code",
   "execution_count": 1,
   "metadata": {},
   "outputs": [],
   "source": [
    "# Basic packages\n",
    "import numpy as np\n",
    "import pandas as pd\n",
    "\n",
    "import matplotlib.pyplot as plt\n",
    "import seaborn as sns\n",
    "\n",
    "# Catboost\n",
    "import catboost\n",
    "from catboost import CatBoostRegressor\n",
    "from catboost import Pool\n",
    "\n",
    "# XGBoost\n",
    "from xgboost import XGBRegressor\n",
    "from xgboost import plot_importance\n",
    "\n",
    "# Random Forest\n",
    "from sklearn.ensemble import RandomForestRegressor\n",
    "\n",
    "# Linear regression\n",
    "from sklearn.linear_model import LinearRegression\n",
    "\n",
    "# Linear SVR\n",
    "from sklearn.svm import LinearSVR\n",
    "\n",
    "# Utils\n",
    "from sklearn.model_selection import ParameterGrid\n",
    "from sklearn.preprocessing import StandardScaler, MinMaxScaler\n",
    "from sklearn.metrics import mean_squared_error\n",
    "import pickle\n",
    "import time\n",
    "import itertools"
   ]
  },
  {
   "cell_type": "code",
   "execution_count": 2,
   "outputs": [],
   "source": [
    "file = open('data/processed-data.pickle', 'rb')\n",
    "data = pickle.load(file)\n",
    "\n",
    "X_train = data['X_train']\n",
    "y_train = data['y_train']\n",
    "X_validation = data['X_validation']\n",
    "y_validation = data['y_validation']\n",
    "X_test = data['X_test']\n",
    "test = data['test']"
   ],
   "metadata": {
    "collapsed": false,
    "pycharm": {
     "name": "#%%\n"
    }
   }
  },
  {
   "cell_type": "markdown",
   "source": [
    "## Feature selection"
   ],
   "metadata": {
    "collapsed": false
   }
  },
  {
   "cell_type": "code",
   "execution_count": 3,
   "outputs": [],
   "source": [
    "# Fixed hyperparameters for feature selection\n",
    "n_estimators = 20\n",
    "max_depth = 5\n",
    "\n",
    "base_features = ['shop_id', 'item_id', 'item_cnt']\n",
    "\n",
    "rf_feature_groups = [\n",
    "    ['mean_item_cnt'],\n",
    "    ['transactions'],\n",
    "    ['year', 'month'],\n",
    "    ['item_cnt_prev_month_1', 'item_cnt_prev_month_2', 'item_cnt_prev_month_3'],\n",
    "    ['item_cnt_prev_min', 'item_cnt_prev_max'],\n",
    "    ['item_cnt_prev_mean', 'item_cnt_prev_std'],\n",
    "    ['item_trend'],\n",
    "    ['shop_mean', 'item_mean', 'shop_item_mean', 'year_mean']\n",
    "]\n",
    "\n",
    "rf_feature_errors = []"
   ],
   "metadata": {
    "collapsed": false,
    "pycharm": {
     "name": "#%%\n"
    }
   }
  },
  {
   "cell_type": "code",
   "execution_count": 66,
   "outputs": [
    {
     "name": "stdout",
     "output_type": "stream",
     "text": [
      "Training...\n",
      "1 2 3 4 5 6 7 8 9 10 11 12 13 14 15 16 17 18 19 20\n",
      "21 22 23 24 25 26 27 28 29 30 31 32 33 34 35 36 "
     ]
    }
   ],
   "source": [
    "i = 0\n",
    "\n",
    "print('Training...')\n",
    "for n in range(1, 3):\n",
    "    for comb in itertools.combinations(rf_feature_groups, n):\n",
    "        i += 1\n",
    "        print(i, end='\\n' if i%20 == 0 else ' ')\n",
    "\n",
    "        rf_features = base_features + [feature for feature_gp in comb for feature in feature_gp]\n",
    "\n",
    "        rf_train = X_train[rf_features]\n",
    "        rf_val = X_validation[rf_features]\n",
    "        rf_test = X_test[rf_features]\n",
    "\n",
    "        rf_model = RandomForestRegressor(\n",
    "            n_estimators=n_estimators,\n",
    "            max_depth=max_depth,\n",
    "            random_state=0\n",
    "        )\n",
    "\n",
    "        rf_model.fit(rf_train, y_train)\n",
    "\n",
    "        rf_preds = rf_model.predict(rf_val)\n",
    "        rf_error = np.sqrt(mean_squared_error(y_validation, rf_preds))\n",
    "\n",
    "        rf_feature_errors.append([rf_features, rf_error])"
   ],
   "metadata": {
    "collapsed": false,
    "pycharm": {
     "name": "#%%\n"
    }
   }
  },
  {
   "cell_type": "code",
   "execution_count": 110,
   "outputs": [
    {
     "data": {
      "text/plain": "[Text(0, 1, 'mean_item_cnt'),\n Text(1, 1, 'transactions'),\n Text(2, 1, 'year'),\n Text(3, 1, 'item_cnt_prev_month_1'),\n Text(4, 1, 'item_cnt_prev_min'),\n Text(5, 1, 'item_cnt_prev_mean'),\n Text(6, 1, 'item_trend'),\n Text(7, 1, 'shop_mean')]"
     },
     "execution_count": 110,
     "metadata": {},
     "output_type": "execute_result"
    },
    {
     "data": {
      "text/plain": "<Figure size 432x432 with 1 Axes>",
      "image/png": "[encoded data removed]"
     },
     "metadata": {
      "needs_background": "light"
     },
     "output_type": "display_data"
    }
   ],
   "source": [
    "performances = pd.DataFrame(rf_feature_errors, columns=['features', 'error']).sort_values(by='error')\n",
    "\n",
    "for feature_gp in rf_feature_groups:\n",
    "    performances[feature_gp[0]] = performances['features'].apply(lambda features: set(feature_gp) <= set(features))\n",
    "\n",
    "fig, ax = plt.subplots(figsize=(6, 6))\n",
    "ax.matshow(performances.drop(['features', 'error'], axis=1), aspect='auto')\n",
    "ax.set_xticks(range(8))\n",
    "ax.set_xticklabels([feature_gp[0] for feature_gp in rf_feature_groups], rotation = 90)"
   ],
   "metadata": {
    "collapsed": false,
    "pycharm": {
     "name": "#%%\n"
    }
   }
  },
  {
   "cell_type": "markdown",
   "source": [
    "We decide to exclude the groups of features which perform worse. In this case, we drop the following features:\n",
    "* mean_item_cnt\n",
    "* transactions\n",
    "* shop_mean\n",
    "* item_mean\n",
    "* shop_item_mean\n",
    "* year_mean"
   ],
   "metadata": {
    "collapsed": false
   }
  },
  {
   "cell_type": "markdown",
   "source": [
    "## Random Forest"
   ],
   "metadata": {
    "collapsed": false,
    "pycharm": {
     "name": "#%% md\n"
    }
   }
  },
  {
   "cell_type": "code",
   "execution_count": 106,
   "outputs": [],
   "source": [
    "rf_features = base_features + ['year', 'month', 'item_cnt_prev_month_1', 'item_cnt_prev_month_2', 'item_cnt_prev_month_3', 'item_cnt_prev_min', 'item_cnt_prev_max', 'item_cnt_prev_mean', 'item_cnt_prev_std', 'item_trend']\n",
    "\n",
    "rf_train = X_train[rf_features]\n",
    "rf_val = X_validation[rf_features]\n",
    "rf_test = X_test[rf_features]"
   ],
   "metadata": {
    "collapsed": false,
    "pycharm": {
     "name": "#%%\n"
    }
   }
  },
  {
   "cell_type": "code",
   "execution_count": 117,
   "outputs": [],
   "source": [
    "rf_hyperparam_grid = {\n",
    "    'n_estimators': [20, 40, 60],\n",
    "    'max_depth': [7, 9, 11]\n",
    "}\n",
    "\n",
    "rf_models = {}"
   ],
   "metadata": {
    "collapsed": false,
    "pycharm": {
     "name": "#%%\n"
    }
   }
  },
  {
   "cell_type": "code",
   "execution_count": 118,
   "outputs": [
    {
     "name": "stdout",
     "output_type": "stream",
     "text": [
      "Training 20x7...Time: 105.96 s. Error: 1.0101\n",
      "Training 40x7...Time: 206.99 s. Error: 1.0099\n",
      "Training 60x7...Time: 313.1 s. Error: 1.0099\n",
      "Training 20x9...Time: 124.74 s. Error: 1.008\n",
      "Training 40x9...Time: 252.1 s. Error: 1.0073\n",
      "Training 60x9...Time: 375.14 s. Error: 1.0073\n",
      "Training 20x11...Time: 149.51 s. Error: 1.0104\n",
      "Training 40x11...Time: 292.81 s. Error: 1.009\n",
      "Training 60x11...Time: 433.86 s. Error: 1.0091\n"
     ]
    }
   ],
   "source": [
    "# Iterate over all combinations of hyperparameters\n",
    "for params in ParameterGrid(rf_hyperparam_grid):\n",
    "    # Unique model identifier\n",
    "    key = str(params['n_estimators']) + 'x' + str(params['max_depth'])\n",
    "\n",
    "    # Don't retrain if already trained\n",
    "    if key in rf_models:\n",
    "        continue\n",
    "\n",
    "    # Initialization with given hyperparameters\n",
    "    print('Training', key, end='...')\n",
    "    rf_models[key] = {\n",
    "        'model': RandomForestRegressor(\n",
    "            n_estimators=params['n_estimators'],\n",
    "            max_depth=params['max_depth'],\n",
    "            random_state=0\n",
    "        )\n",
    "    }\n",
    "\n",
    "    # Training\n",
    "    t = time.time()\n",
    "    rf_models[key]['model'].fit(rf_train, y_train)\n",
    "    rf_models[key]['time'] = time.time() - t\n",
    "    print('Time:', round(rf_models[key]['time'], 2), 's', end='. ')\n",
    "\n",
    "    # Validation\n",
    "    rf_models[key]['preds'] = rf_models[key]['model'].predict(rf_val)\n",
    "    rf_models[key]['error'] = np.sqrt(mean_squared_error(y_validation, rf_models[key]['preds']))\n",
    "    print('Error:',  round(rf_models[key]['error'], 4))"
   ],
   "metadata": {
    "collapsed": false,
    "pycharm": {
     "name": "#%%\n"
    }
   }
  },
  {
   "cell_type": "code",
   "execution_count": 8,
   "outputs": [],
   "source": [
    "def plot_heatmap(models, hyperparam_grid, field):\n",
    "    hyperparams = list(hyperparam_grid.keys())\n",
    "\n",
    "    values = pd.DataFrame(index=hyperparam_grid[hyperparams[0]][::-1], columns=hyperparam_grid[hyperparams[1]], dtype='float64')\n",
    "    for params in ParameterGrid(hyperparam_grid):\n",
    "        key = str(params[hyperparams[0]]) + 'x' + str(params[hyperparams[1]])\n",
    "        values.loc[params[hyperparams[0]], params[hyperparams[1]]] = models[key][field]\n",
    "\n",
    "    sns.heatmap(values, annot=True, fmt='.4f', cmap='coolwarm')\n",
    "    plt.xlabel(hyperparams[1])\n",
    "    plt.ylabel(hyperparams[0])"
   ],
   "metadata": {
    "collapsed": false,
    "pycharm": {
     "name": "#%%\n"
    }
   }
  },
  {
   "cell_type": "code",
   "execution_count": null,
   "outputs": [],
   "source": [
    "plot_heatmap(rf_models, rf_hyperparam_grid, 'error')"
   ],
   "metadata": {
    "collapsed": false,
    "pycharm": {
     "name": "#%%\n"
    }
   }
  },
  {
   "cell_type": "code",
   "execution_count": 120,
   "outputs": [],
   "source": [
    "# Choose best based on least error\n",
    "rf_errors = {key: rf_models[key]['error'] for key in rf_models}\n",
    "rf_best = rf_models[min(rf_errors, key=rf_errors.get)]\n",
    "\n",
    "# Generate predictions for submission\n",
    "rf_test_pred = rf_best['model'].predict(rf_test)"
   ],
   "metadata": {
    "collapsed": false,
    "pycharm": {
     "name": "#%%\n"
    }
   }
  },
  {
   "cell_type": "markdown",
   "source": [
    "## Catboost"
   ],
   "metadata": {
    "collapsed": false
   }
  },
  {
   "cell_type": "code",
   "execution_count": 6,
   "outputs": [],
   "source": [
    "cb_features = base_features + ['year', 'month', 'item_cnt_prev_month_1', 'item_cnt_prev_month_2', 'item_cnt_prev_month_3', 'item_cnt_prev_min', 'item_cnt_prev_max', 'item_cnt_prev_mean', 'item_cnt_prev_std', 'item_trend']\n",
    "\n",
    "cb_train = X_train[cb_features]\n",
    "cb_val = X_validation[cb_features]\n",
    "cb_test = X_test[cb_features]"
   ],
   "metadata": {
    "collapsed": false,
    "pycharm": {
     "name": "#%%\n"
    }
   }
  },
  {
   "cell_type": "code",
   "execution_count": 7,
   "outputs": [],
   "source": [
    "# Specify indices for categorical features: shop_id, item_id, year and month\n",
    "cb_cat_features = [0, 1, 3, 4]\n",
    "\n",
    "cb_hyperparam_grid = {\n",
    "    'depth': [2, 3, 4, 5],\n",
    "    'max_ctr_complexity': [3, 5, 7, 9]\n",
    "}\n",
    "\n",
    "cb_models = {}"
   ],
   "metadata": {
    "collapsed": false,
    "pycharm": {
     "name": "#%%\n"
    }
   }
  },
  {
   "cell_type": "code",
   "execution_count": 8,
   "outputs": [
    {
     "name": "stdout",
     "output_type": "stream",
     "text": [
      "Training 2x3...Time: 32.6 s. Error: 1.0199\n",
      "Training 2x5...Time: 34.9 s. Error: 1.0199\n",
      "Training 2x7...Time: 36.65 s. Error: 1.0199\n",
      "Training 2x9...Time: 40.08 s. Error: 1.0199\n",
      "Training 3x3...Time: 55.8 s. Error: 1.0166\n",
      "Training 3x5...Time: 51.13 s. Error: 1.0166\n",
      "Training 3x7...Time: 49.76 s. Error: 1.0166\n",
      "Training 3x9...Time: 55.63 s. Error: 1.0166\n",
      "Training 4x3...Time: 42.41 s. Error: 1.0177\n",
      "Training 4x5...Time: 57.95 s. Error: 1.0175\n",
      "Training 4x7...Time: 84.99 s. Error: 1.0175\n",
      "Training 4x9...Time: 94.0 s. Error: 1.0175\n",
      "Training 5x3...Time: 70.04 s. Error: 1.017\n",
      "Training 5x5...Time: 74.67 s. Error: 1.02\n",
      "Training 5x7...Time: 82.04 s. Error: 1.02\n",
      "Training 5x9...Time: 74.63 s. Error: 1.02\n"
     ]
    }
   ],
   "source": [
    "# Iterate over all combinations of hyperparameters\n",
    "for params in ParameterGrid(cb_hyperparam_grid):\n",
    "    # Unique model identifier\n",
    "    key = str(params['depth']) + 'x' + str(params['max_ctr_complexity'])\n",
    "\n",
    "    # Don't retrain if already trained\n",
    "    if key in cb_models:\n",
    "        continue\n",
    "\n",
    "    # Initialization with given hyperparameters\n",
    "    print('Training', key, end='...')\n",
    "    cb_models[key] = {\n",
    "        'model': CatBoostRegressor(\n",
    "            depth=params['depth'],\n",
    "            max_ctr_complexity=params['max_ctr_complexity'],\n",
    "            od_type='Iter',\n",
    "            verbose=0,\n",
    "            random_seed=0\n",
    "        )\n",
    "    }\n",
    "\n",
    "    # Training\n",
    "    t = time.time()\n",
    "    cb_models[key]['model'].fit(\n",
    "        cb_train, y_train,\n",
    "        cat_features=cb_cat_features,\n",
    "        eval_set=(cb_val, y_validation)\n",
    "    )\n",
    "    cb_models[key]['time'] = time.time() - t\n",
    "    print('Time:', round(cb_models[key]['time'], 2), 's', end='. ')\n",
    "\n",
    "    # Validation\n",
    "    cb_models[key]['preds'] = cb_models[key]['model'].predict(cb_val)\n",
    "    cb_models[key]['error'] = np.sqrt(mean_squared_error(y_validation, cb_models[key]['preds']))\n",
    "    print('Error:',  round(cb_models[key]['error'], 4))"
   ],
   "metadata": {
    "collapsed": false,
    "pycharm": {
     "name": "#%%\n"
    }
   }
  },
  {
   "cell_type": "code",
   "execution_count": 11,
   "outputs": [
    {
     "data": {
      "text/plain": "<Figure size 432x288 with 2 Axes>",
      "image/png": "[encoded data removed]"
     },
     "metadata": {
      "needs_background": "light"
     },
     "output_type": "display_data"
    }
   ],
   "source": [
    "plot_heatmap(cb_models, cb_hyperparam_grid, 'error')"
   ],
   "metadata": {
    "collapsed": false,
    "pycharm": {
     "name": "#%%\n"
    }
   }
  },
  {
   "cell_type": "code",
   "execution_count": 12,
   "outputs": [],
   "source": [
    "# Choose best based on least error\n",
    "cb_errors = {key: cb_models[key]['error'] for key in cb_models}\n",
    "cb_best = cb_models[min(cb_errors, key=cb_errors.get)]\n",
    "\n",
    "# Generate predictions for submission\n",
    "cb_test_pred = cb_best['model'].predict(cb_test)"
   ],
   "metadata": {
    "collapsed": false,
    "pycharm": {
     "name": "#%%\n"
    }
   }
  },
  {
   "cell_type": "markdown",
   "source": [
    "## XGBoost"
   ],
   "metadata": {
    "collapsed": false
   }
  },
  {
   "cell_type": "code",
   "execution_count": 4,
   "outputs": [],
   "source": [
    "# Use only part of features on XGBoost.\n",
    "xgb_features = base_features + ['year', 'month', 'item_cnt_prev_month_1', 'item_cnt_prev_month_2', 'item_cnt_prev_month_3', 'item_cnt_prev_min', 'item_cnt_prev_max', 'item_cnt_prev_mean', 'item_cnt_prev_std', 'item_trend']\n",
    "\n",
    "xgb_train = X_train[xgb_features]\n",
    "xgb_val = X_validation[xgb_features]\n",
    "xgb_test = X_test[xgb_features]"
   ],
   "metadata": {
    "collapsed": false,
    "pycharm": {
     "name": "#%%\n"
    }
   }
  },
  {
   "cell_type": "code",
   "execution_count": 5,
   "outputs": [],
   "source": [
    "xgb_hyperparam_grid = {\n",
    "    'max_depth': [4, 6, 8],\n",
    "    'min_child_weight': [1, 10, 100, 1000]\n",
    "}\n",
    "\n",
    "xgb_models = {}"
   ],
   "metadata": {
    "collapsed": false,
    "pycharm": {
     "name": "#%%\n"
    }
   }
  },
  {
   "cell_type": "code",
   "execution_count": 6,
   "outputs": [
    {
     "name": "stdout",
     "output_type": "stream",
     "text": [
      "Training 4x1...Time: 224.47 s. Error: 1.0022\n",
      "Training 4x10...Time: 206.75 s. Error: 1.0022\n",
      "Training 4x100...Time: 203.3 s. Error: 1.0022\n",
      "Training 4x1000...Time: 209.98 s. Error: 1.0022\n",
      "Training 6x1...Time: 198.58 s. Error: 1.0022\n",
      "Training 6x10...Time: 203.05 s. Error: 1.0022\n",
      "Training 6x100...Time: 195.57 s. Error: 1.0022\n",
      "Training 6x1000...Time: 198.71 s. Error: 1.0022\n",
      "Training 8x1...Time: 199.87 s. Error: 1.0022\n",
      "Training 8x10...Time: 196.87 s. Error: 1.0022\n",
      "Training 8x100...Time: 200.17 s. Error: 1.0022\n",
      "Training 8x1000...Time: 200.24 s. Error: 1.0022\n"
     ]
    }
   ],
   "source": [
    "# Iterate over all combinations of hyperparameters\n",
    "for params in ParameterGrid(xgb_hyperparam_grid):\n",
    "    # Unique model identifier\n",
    "    key = str(params['max_depth']) + 'x' + str(params['min_child_weight'])\n",
    "\n",
    "    # Don't retrain if already trained\n",
    "    if key in xgb_models:\n",
    "        continue\n",
    "\n",
    "    # Initialization with given hyperparameters\n",
    "    print('Training', key, end='...')\n",
    "    xgb_models[key] = {\n",
    "        'model': XGBRegressor(max_depth=8,\n",
    "                              n_estimators=100,\n",
    "                              min_child_weight=1000,\n",
    "                              colsample_bytree=0.7,\n",
    "                              subsample=0.7,\n",
    "                              seed=0)\n",
    "    }\n",
    "\n",
    "    # Training\n",
    "    t = time.time()\n",
    "    xgb_models[key]['model'].fit(xgb_train, y_train)\n",
    "    xgb_models[key]['time'] = time.time() - t\n",
    "    print('Time:', round(xgb_models[key]['time'], 2), 's', end='. ')\n",
    "\n",
    "    # Validation\n",
    "    xgb_models[key]['preds'] = xgb_models[key]['model'].predict(xgb_val)\n",
    "    xgb_models[key]['error'] = np.sqrt(mean_squared_error(y_validation, xgb_models[key]['preds']))\n",
    "    print('Error:',  round(xgb_models[key]['error'], 4))"
   ],
   "metadata": {
    "collapsed": false,
    "pycharm": {
     "name": "#%%\n"
    }
   }
  },
  {
   "cell_type": "code",
   "execution_count": 9,
   "outputs": [
    {
     "data": {
      "text/plain": "<Figure size 432x288 with 2 Axes>",
      "image/png": "[encoded data removed]"
     },
     "metadata": {
      "needs_background": "light"
     },
     "output_type": "display_data"
    }
   ],
   "source": [
    "plot_heatmap(xgb_models, xgb_hyperparam_grid, 'error')"
   ],
   "metadata": {
    "collapsed": false,
    "pycharm": {
     "name": "#%%\n"
    }
   }
  },
  {
   "cell_type": "code",
   "execution_count": 10,
   "outputs": [],
   "source": [
    "# Choose best based on least error\n",
    "xgb_errors = {key: xgb_models[key]['error'] for key in xgb_models}\n",
    "xgb_best = xgb_models[min(xgb_errors, key=xgb_errors.get)]\n",
    "\n",
    "# Generate predictions for submission\n",
    "xgb_test_pred = xgb_best['model'].predict(xgb_test)"
   ],
   "metadata": {
    "collapsed": false,
    "pycharm": {
     "name": "#%%\n"
    }
   }
  },
  {
   "cell_type": "code",
   "execution_count": 25,
   "outputs": [
    {
     "name": "stdout",
     "output_type": "stream",
     "text": [
      "[0]\tvalidation_0-rmse:1.10126\tvalidation_1-rmse:1.10857\n",
      "[20]\tvalidation_0-rmse:0.93316\tvalidation_1-rmse:1.00206\n",
      "[40]\tvalidation_0-rmse:0.92834\tvalidation_1-rmse:1.00146\n",
      "[57]\tvalidation_0-rmse:0.92455\tvalidation_1-rmse:1.00157\n"
     ]
    },
    {
     "data": {
      "text/plain": "XGBRegressor(base_score=0.5, booster='gbtree', colsample_bylevel=1,\n             colsample_bynode=1, colsample_bytree=0.7, gamma=0, gpu_id=-1,\n             importance_type='gain', interaction_constraints='',\n             learning_rate=0.300000012, max_delta_step=0, max_depth=8,\n             min_child_weight=1000, missing=nan, monotone_constraints='()',\n             n_estimators=100, n_jobs=4, num_parallel_tree=1, random_state=0,\n             reg_alpha=0, reg_lambda=1, scale_pos_weight=1, seed=0,\n             subsample=0.7, tree_method='exact', validate_parameters=1,\n             verbosity=None)"
     },
     "execution_count": 25,
     "metadata": {},
     "output_type": "execute_result"
    }
   ],
   "source": [
    "xgb_model = XGBRegressor(max_depth=8,\n",
    "                         n_estimators=100,\n",
    "                         min_child_weight=1000,\n",
    "                         colsample_bytree=0.7,\n",
    "                         subsample=0.7,\n",
    "                         seed=0)\n",
    "xgb_model.fit(xgb_train,\n",
    "              y_train,\n",
    "              eval_metric=\"rmse\",\n",
    "              eval_set=[(xgb_train, y_train), (xgb_val, y_validation)],\n",
    "              verbose=20,\n",
    "              early_stopping_rounds=20)"
   ],
   "metadata": {
    "collapsed": false,
    "pycharm": {
     "name": "#%%\n"
    }
   }
  },
  {
   "cell_type": "code",
   "execution_count": 26,
   "outputs": [],
   "source": [
    "xgb_train_pred = xgb_model.predict(xgb_train)\n",
    "xgb_val_pred = xgb_model.predict(xgb_val)\n",
    "xgb_test_pred = xgb_model.predict(xgb_test)"
   ],
   "metadata": {
    "collapsed": false,
    "pycharm": {
     "name": "#%%\n"
    }
   }
  },
  {
   "cell_type": "code",
   "execution_count": 27,
   "outputs": [
    {
     "name": "stdout",
     "output_type": "stream",
     "text": [
      "Train rmse: 0.9295267600996537\n",
      "Validation rmse: 1.001303518160818\n"
     ]
    }
   ],
   "source": [
    "print('Train rmse:', np.sqrt(mean_squared_error(y_train, xgb_train_pred)))\n",
    "print('Validation rmse:', np.sqrt(mean_squared_error(y_validation, xgb_val_pred)))"
   ],
   "metadata": {
    "collapsed": false,
    "pycharm": {
     "name": "#%%\n"
    }
   }
  },
  {
   "cell_type": "markdown",
   "source": [
    "## Linear regression"
   ],
   "metadata": {
    "collapsed": false
   }
  },
  {
   "cell_type": "code",
   "execution_count": 143,
   "outputs": [],
   "source": [
    "lr_features = ['item_cnt', 'item_cnt_prev_month_1', 'item_trend', 'mean_item_cnt', 'shop_mean']\n",
    "\n",
    "lr_train = X_train[lr_features]\n",
    "lr_val = X_validation[lr_features]\n",
    "lr_test = X_test[lr_features]"
   ],
   "metadata": {
    "collapsed": false,
    "pycharm": {
     "name": "#%%\n"
    }
   }
  },
  {
   "cell_type": "code",
   "execution_count": 144,
   "outputs": [],
   "source": [
    "# Normalizing\n",
    "lr_scaler = MinMaxScaler()\n",
    "lr_scaler.fit(lr_train)\n",
    "\n",
    "lr_train = lr_scaler.transform(lr_train)\n",
    "lr_val = lr_scaler.transform(lr_val)\n",
    "lr_test = lr_scaler.transform(lr_test)"
   ],
   "metadata": {
    "collapsed": false,
    "pycharm": {
     "name": "#%%\n"
    }
   }
  },
  {
   "cell_type": "code",
   "execution_count": 145,
   "outputs": [
    {
     "data": {
      "text/plain": "LinearRegression()"
     },
     "execution_count": 145,
     "metadata": {},
     "output_type": "execute_result"
    }
   ],
   "source": [
    "lr_model = LinearRegression()\n",
    "lr_model.fit(lr_train, y_train)"
   ],
   "metadata": {
    "collapsed": false,
    "pycharm": {
     "name": "#%%\n"
    }
   }
  },
  {
   "cell_type": "code",
   "execution_count": 146,
   "outputs": [],
   "source": [
    "lr_train_pred = lr_model.predict(lr_train)\n",
    "lr_val_pred = lr_model.predict(lr_val)\n",
    "lr_test_pred = lr_model.predict(lr_test)"
   ],
   "metadata": {
    "collapsed": false,
    "pycharm": {
     "name": "#%%\n"
    }
   }
  },
  {
   "cell_type": "code",
   "execution_count": 147,
   "outputs": [
    {
     "name": "stdout",
     "output_type": "stream",
     "text": [
      "Train rmse: 0.96557127056507\n",
      "Validation rmse: 1.0128629563995037\n"
     ]
    }
   ],
   "source": [
    "print('Train rmse:', np.sqrt(mean_squared_error(y_train, lr_train_pred)))\n",
    "print('Validation rmse:', np.sqrt(mean_squared_error(y_validation, lr_val_pred)))"
   ],
   "metadata": {
    "collapsed": false,
    "pycharm": {
     "name": "#%%\n"
    }
   }
  },
  {
   "cell_type": "code",
   "execution_count": 148,
   "outputs": [
    {
     "data": {
      "text/plain": "<Figure size 432x288 with 1 Axes>",
      "image/png": "[encoded data removed]"
     },
     "metadata": {
      "needs_background": "light"
     },
     "output_type": "display_data"
    }
   ],
   "source": [
    "plot_model_performance(lr_val_pred, y_validation, 'Validation performance')"
   ],
   "metadata": {
    "collapsed": false,
    "pycharm": {
     "name": "#%%\n"
    }
   }
  },
  {
   "cell_type": "markdown",
   "source": [
    "## Linear SVR"
   ],
   "metadata": {
    "collapsed": false,
    "pycharm": {
     "name": "#%% md\n",
     "is_executing": true
    }
   }
  },
  {
   "cell_type": "code",
   "execution_count": 149,
   "outputs": [],
   "source": [
    "lsvr_features = ['item_cnt', 'item_cnt_prev_mean', 'item_cnt_prev_std', 'item_cnt_prev_month_1', 'shop_mean', 'shop_item_mean', 'mean_item_cnt']\n",
    "\n",
    "lsvr_train = X_train[lsvr_features]\n",
    "lsvr_val = X_validation[lsvr_features]\n",
    "lsvr_test = X_test[lsvr_features]"
   ],
   "metadata": {
    "collapsed": false,
    "pycharm": {
     "name": "#%%\n"
    }
   }
  },
  {
   "cell_type": "code",
   "execution_count": 150,
   "outputs": [],
   "source": [
    "# Normalizing\n",
    "lsvr_scaler = MinMaxScaler()\n",
    "lsvr_scaler.fit(lsvr_train)\n",
    "\n",
    "lsvr_train = lsvr_scaler.transform(lsvr_train)\n",
    "lsvr_val = lsvr_scaler.transform(lsvr_val)\n",
    "lsvr_test = lsvr_scaler.transform(lsvr_test)"
   ],
   "metadata": {
    "collapsed": false,
    "pycharm": {
     "name": "#%%\n"
    }
   }
  },
  {
   "cell_type": "code",
   "execution_count": 151,
   "outputs": [
    {
     "data": {
      "text/plain": "LinearSVR(C=1)"
     },
     "execution_count": 151,
     "metadata": {},
     "output_type": "execute_result"
    }
   ],
   "source": [
    "lsvr_model = LinearSVR()\n",
    "lsvr_model.fit(lsvr_train, y_train)"
   ],
   "metadata": {
    "collapsed": false,
    "pycharm": {
     "name": "#%%\n"
    }
   }
  },
  {
   "cell_type": "code",
   "execution_count": 152,
   "outputs": [],
   "source": [
    "lsvr_train_pred = lsvr_model.predict(lsvr_train)\n",
    "lsvr_val_pred = lsvr_model.predict(lsvr_val)\n",
    "lsvr_test_pred = lsvr_model.predict(lsvr_test)"
   ],
   "metadata": {
    "collapsed": false,
    "pycharm": {
     "name": "#%%\n"
    }
   }
  },
  {
   "cell_type": "code",
   "execution_count": 153,
   "outputs": [
    {
     "name": "stdout",
     "output_type": "stream",
     "text": [
      "Train rmse: 1.0018868456518795\n",
      "Validation rmse: 1.053649239114253\n"
     ]
    }
   ],
   "source": [
    "print('Train rmse:', np.sqrt(mean_squared_error(y_train, lsvr_train_pred)))\n",
    "print('Validation rmse:', np.sqrt(mean_squared_error(y_validation, lsvr_val_pred)))"
   ],
   "metadata": {
    "collapsed": false,
    "pycharm": {
     "name": "#%%\n"
    }
   }
  },
  {
   "cell_type": "markdown",
   "source": [
    "## Ensembling"
   ],
   "metadata": {
    "collapsed": false
   }
  },
  {
   "cell_type": "code",
   "execution_count": 154,
   "outputs": [],
   "source": [
    "# Validation data becomes the training data for the ensembling step\n",
    "X_train_ensembling = pd.DataFrame({\n",
    "    'catboost': cb_val_pred,\n",
    "    'xgboost': xgb_val_pred,\n",
    "    'random_forest': rf_val_pred,\n",
    "    'linear_regression': lr_val_pred,\n",
    "    'lsvr': lsvr_val_pred\n",
    "})\n",
    "\n",
    "y_train_ensembling = y_validation"
   ],
   "metadata": {
    "collapsed": false,
    "pycharm": {
     "name": "#%%\n"
    }
   }
  },
  {
   "cell_type": "code",
   "execution_count": 155,
   "outputs": [],
   "source": [
    "# Test data is the test data for the ensembling step\n",
    "X_test_ensembling = pd.DataFrame({\n",
    "    'catboost': catboost_test_pred,\n",
    "    'xgboost': xgb_test_pred,\n",
    "    'random_forest': rf_test_pred,\n",
    "    'linear_regression': lr_test_pred,\n",
    "    'lsvr': lsvr_test_pred\n",
    "})"
   ],
   "metadata": {
    "collapsed": false,
    "pycharm": {
     "name": "#%%\n"
    }
   }
  },
  {
   "cell_type": "code",
   "execution_count": 156,
   "outputs": [
    {
     "data": {
      "text/plain": "LinearRegression()"
     },
     "execution_count": 156,
     "metadata": {},
     "output_type": "execute_result"
    }
   ],
   "source": [
    "ensembling_model = LinearRegression()\n",
    "ensembling_model.fit(X_train_ensembling, y_train_ensembling)"
   ],
   "metadata": {
    "collapsed": false,
    "pycharm": {
     "name": "#%%\n"
    }
   }
  },
  {
   "cell_type": "code",
   "execution_count": 157,
   "outputs": [],
   "source": [
    "ensemble_train_pred = ensembling_model.predict(X_train_ensembling)\n",
    "ensemble_test_pred = ensembling_model.predict(X_test_ensembling)"
   ],
   "metadata": {
    "collapsed": false,
    "pycharm": {
     "name": "#%%\n"
    }
   }
  },
  {
   "cell_type": "code",
   "execution_count": 158,
   "outputs": [
    {
     "name": "stdout",
     "output_type": "stream",
     "text": [
      "Train rmse: 1.005152328579565\n"
     ]
    }
   ],
   "source": [
    "print('Train rmse:', np.sqrt(mean_squared_error(ensemble_train_pred, y_train_ensembling)))"
   ],
   "metadata": {
    "collapsed": false,
    "pycharm": {
     "name": "#%%\n"
    }
   }
  },
  {
   "cell_type": "code",
   "execution_count": 159,
   "outputs": [
    {
     "data": {
      "text/plain": "<Figure size 432x288 with 1 Axes>",
      "image/png": "[encoded data removed]"
     },
     "metadata": {
      "needs_background": "light"
     },
     "output_type": "display_data"
    }
   ],
   "source": [
    "plot_model_performance(ensemble_train_pred, y_train_ensembling, 'Train performance')"
   ],
   "metadata": {
    "collapsed": false,
    "pycharm": {
     "name": "#%%\n"
    }
   }
  },
  {
   "cell_type": "markdown",
   "metadata": {},
   "source": [
    "## Submission\n",
    "\n",
    "We finally generate the csv file ready for submission."
   ]
  },
  {
   "cell_type": "code",
   "execution_count": 11,
   "metadata": {
    "pycharm": {
     "name": "#%%\n"
    }
   },
   "outputs": [],
   "source": [
    "def generate_submission_file(data, pred_field, filename='submission.csv'):\n",
    "    predictions = pd.merge(test, data, on=['shop_id', 'item_id'], how='left').fillna(0)\n",
    "\n",
    "    output = pd.DataFrame({'ID': predictions['ID'], 'item_cnt_month': predictions[pred_field]})\n",
    "    output.to_csv('predictions/' + filename, index=False)"
   ]
  },
  {
   "cell_type": "code",
   "execution_count": 12,
   "outputs": [],
   "source": [
    "X_test['item_cnt_next_month'] = xgb_test_pred\n",
    "generate_submission_file(X_test, 'item_cnt_next_month', 'xgboost.csv')"
   ],
   "metadata": {
    "collapsed": false,
    "pycharm": {
     "name": "#%%\n"
    }
   }
  },
  {
   "cell_type": "code",
   "execution_count": 161,
   "outputs": [],
   "source": [
    "X_test['item_cnt_next_month'] = cb_test_pred\n",
    "generate_submission_file(X_test, 'item_cnt_next_month', 'catboost.csv')\n",
    "\n",
    "X_test['item_cnt_next_month'] = xgb_test_pred\n",
    "generate_submission_file(X_test, 'item_cnt_next_month', 'xgboost.csv')\n",
    "\n",
    "X_test['item_cnt_next_month'] = rf_test_pred\n",
    "generate_submission_file(X_test, 'item_cnt_next_month', 'random-forest.csv')\n",
    "\n",
    "X_test['item_cnt_next_month'] = lr_test_pred\n",
    "generate_submission_file(X_test, 'item_cnt_next_month', 'linear-regression.csv')\n",
    "\n",
    "X_test['item_cnt_next_month'] = lsvr_test_pred\n",
    "generate_submission_file(X_test, 'item_cnt_next_month', 'linear-svr.csv')\n",
    "\n",
    "X_test['item_cnt_next_month'] = ensemble_test_pred\n",
    "generate_submission_file(X_test, 'item_cnt_next_month', 'ensemble.csv')"
   ],
   "metadata": {
    "collapsed": false,
    "pycharm": {
     "name": "#%%\n"
    }
   }
  },
  {
   "cell_type": "code",
   "execution_count": 161,
   "outputs": [],
   "source": [],
   "metadata": {
    "collapsed": false,
    "pycharm": {
     "name": "#%%\n"
    }
   }
  }
 ],
 "metadata": {
  "kernelspec": {
   "display_name": "Python 3 (ipykernel)",
   "language": "python",
   "name": "python3"
  },
  "language_info": {
   "codemirror_mode": {
    "name": "ipython",
    "version": 3
   },
   "file_extension": ".py",
   "mimetype": "text/x-python",
   "name": "python",
   "nbconvert_exporter": "python",
   "pygments_lexer": "ipython3",
   "version": "3.8.11"
  }
 },
 "nbformat": 4,
 "nbformat_minor": 1
}