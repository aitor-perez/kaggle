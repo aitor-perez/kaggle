{
 "cells": [
  {
   "cell_type": "markdown",
   "source": [
    "# 01 Data exploration\n",
    "\n",
    "The goal of this notebook is to provide an insight on the future sales datasets in order to have a better understanding of the data they contain, and to generate naive predictions based on average counts."
   ],
   "metadata": {
    "collapsed": false
   }
  },
  {
   "cell_type": "markdown",
   "source": [
    "## Reading data\n",
    "\n",
    "We read the datasets from the csv files."
   ],
   "metadata": {
    "collapsed": false
   }
  },
  {
   "cell_type": "code",
   "execution_count": 268,
   "metadata": {
    "collapsed": true
   },
   "outputs": [
    {
     "data": {
      "text/plain": "         date  date_block_num  shop_id  item_id  item_price  item_cnt_day\n0  02.01.2013               0       59    22154      999.00           1.0\n1  03.01.2013               0       25     2552      899.00           1.0\n2  05.01.2013               0       25     2552      899.00          -1.0\n3  06.01.2013               0       25     2554     1709.05           1.0\n4  15.01.2013               0       25     2555     1099.00           1.0",
      "text/html": "<div>\n<style scoped>\n    .dataframe tbody tr th:only-of-type {\n        vertical-align: middle;\n    }\n\n    .dataframe tbody tr th {\n        vertical-align: top;\n    }\n\n    .dataframe thead th {\n        text-align: right;\n    }\n</style>\n<table border=\"1\" class=\"dataframe\">\n  <thead>\n    <tr style=\"text-align: right;\">\n      <th></th>\n      <th>date</th>\n      <th>date_block_num</th>\n      <th>shop_id</th>\n      <th>item_id</th>\n      <th>item_price</th>\n      <th>item_cnt_day</th>\n    </tr>\n  </thead>\n  <tbody>\n    <tr>\n      <th>0</th>\n      <td>02.01.2013</td>\n      <td>0</td>\n      <td>59</td>\n      <td>22154</td>\n      <td>999.00</td>\n      <td>1.0</td>\n    </tr>\n    <tr>\n      <th>1</th>\n      <td>03.01.2013</td>\n      <td>0</td>\n      <td>25</td>\n      <td>2552</td>\n      <td>899.00</td>\n      <td>1.0</td>\n    </tr>\n    <tr>\n      <th>2</th>\n      <td>05.01.2013</td>\n      <td>0</td>\n      <td>25</td>\n      <td>2552</td>\n      <td>899.00</td>\n      <td>-1.0</td>\n    </tr>\n    <tr>\n      <th>3</th>\n      <td>06.01.2013</td>\n      <td>0</td>\n      <td>25</td>\n      <td>2554</td>\n      <td>1709.05</td>\n      <td>1.0</td>\n    </tr>\n    <tr>\n      <th>4</th>\n      <td>15.01.2013</td>\n      <td>0</td>\n      <td>25</td>\n      <td>2555</td>\n      <td>1099.00</td>\n      <td>1.0</td>\n    </tr>\n  </tbody>\n</table>\n</div>"
     },
     "execution_count": 268,
     "metadata": {},
     "output_type": "execute_result"
    }
   ],
   "source": [
    "import numpy as np\n",
    "import pandas as pd\n",
    "\n",
    "import matplotlib.pyplot as plt\n",
    "\n",
    "train_data = pd.read_csv('data/sales_train.csv')\n",
    "test_data = pd.read_csv('data/test.csv')\n",
    "\n",
    "train_data.head()"
   ]
  },
  {
   "cell_type": "markdown",
   "source": [
    "We convert the date into a datetime object."
   ],
   "metadata": {
    "collapsed": false
   }
  },
  {
   "cell_type": "code",
   "execution_count": 269,
   "outputs": [
    {
     "data": {
      "text/plain": "        date  date_block_num  shop_id  item_id  item_price  item_cnt_day\n0 2013-01-02               0       59    22154      999.00           1.0\n1 2013-01-03               0       25     2552      899.00           1.0\n2 2013-01-05               0       25     2552      899.00          -1.0\n3 2013-01-06               0       25     2554     1709.05           1.0\n4 2013-01-15               0       25     2555     1099.00           1.0",
      "text/html": "<div>\n<style scoped>\n    .dataframe tbody tr th:only-of-type {\n        vertical-align: middle;\n    }\n\n    .dataframe tbody tr th {\n        vertical-align: top;\n    }\n\n    .dataframe thead th {\n        text-align: right;\n    }\n</style>\n<table border=\"1\" class=\"dataframe\">\n  <thead>\n    <tr style=\"text-align: right;\">\n      <th></th>\n      <th>date</th>\n      <th>date_block_num</th>\n      <th>shop_id</th>\n      <th>item_id</th>\n      <th>item_price</th>\n      <th>item_cnt_day</th>\n    </tr>\n  </thead>\n  <tbody>\n    <tr>\n      <th>0</th>\n      <td>2013-01-02</td>\n      <td>0</td>\n      <td>59</td>\n      <td>22154</td>\n      <td>999.00</td>\n      <td>1.0</td>\n    </tr>\n    <tr>\n      <th>1</th>\n      <td>2013-01-03</td>\n      <td>0</td>\n      <td>25</td>\n      <td>2552</td>\n      <td>899.00</td>\n      <td>1.0</td>\n    </tr>\n    <tr>\n      <th>2</th>\n      <td>2013-01-05</td>\n      <td>0</td>\n      <td>25</td>\n      <td>2552</td>\n      <td>899.00</td>\n      <td>-1.0</td>\n    </tr>\n    <tr>\n      <th>3</th>\n      <td>2013-01-06</td>\n      <td>0</td>\n      <td>25</td>\n      <td>2554</td>\n      <td>1709.05</td>\n      <td>1.0</td>\n    </tr>\n    <tr>\n      <th>4</th>\n      <td>2013-01-15</td>\n      <td>0</td>\n      <td>25</td>\n      <td>2555</td>\n      <td>1099.00</td>\n      <td>1.0</td>\n    </tr>\n  </tbody>\n</table>\n</div>"
     },
     "execution_count": 269,
     "metadata": {},
     "output_type": "execute_result"
    }
   ],
   "source": [
    "train_data['date'] = pd.to_datetime(train_data['date'], format=\"%d.%m.%Y\")\n",
    "\n",
    "train_data.head()"
   ],
   "metadata": {
    "collapsed": false,
    "pycharm": {
     "name": "#%%\n"
    }
   }
  },
  {
   "cell_type": "markdown",
   "source": [
    "## Exploration\n",
    "\n",
    "We may now explore the data. For instance, we can check that it contains no missing values."
   ],
   "metadata": {
    "collapsed": false
   }
  },
  {
   "cell_type": "code",
   "execution_count": 270,
   "outputs": [
    {
     "data": {
      "text/plain": "date              False\ndate_block_num    False\nshop_id           False\nitem_id           False\nitem_price        False\nitem_cnt_day      False\ndtype: bool"
     },
     "execution_count": 270,
     "metadata": {},
     "output_type": "execute_result"
    }
   ],
   "source": [
    "pd.isna(train_data).any()"
   ],
   "metadata": {
    "collapsed": false,
    "pycharm": {
     "name": "#%%\n"
    }
   }
  },
  {
   "cell_type": "markdown",
   "source": [
    "And we can also check the ranges for each of the values. Here we see the following:\n",
    "- The data goes from Jan 1st 2013 to Oct 31st 2015\n",
    "- Each of the 34 months is indexed by an integer from 0 to 33\n",
    "- The 60 shops are indexed by integers from 0 to 59\n",
    "- The 22170 items are indexed by integers from 0 to 22169\n",
    "- The item price can be negative\n",
    "- The daily item count can also be negative"
   ],
   "metadata": {
    "collapsed": false
   }
  },
  {
   "cell_type": "code",
   "execution_count": 271,
   "outputs": [
    {
     "data": {
      "text/plain": "                                min                  max\ndate            2013-01-01 00:00:00  2015-10-31 00:00:00\ndate_block_num                    0                   33\nshop_id                           0                   59\nitem_id                           0                22169\nitem_price                     -1.0             307980.0\nitem_cnt_day                  -22.0               2169.0",
      "text/html": "<div>\n<style scoped>\n    .dataframe tbody tr th:only-of-type {\n        vertical-align: middle;\n    }\n\n    .dataframe tbody tr th {\n        vertical-align: top;\n    }\n\n    .dataframe thead th {\n        text-align: right;\n    }\n</style>\n<table border=\"1\" class=\"dataframe\">\n  <thead>\n    <tr style=\"text-align: right;\">\n      <th></th>\n      <th>min</th>\n      <th>max</th>\n    </tr>\n  </thead>\n  <tbody>\n    <tr>\n      <th>date</th>\n      <td>2013-01-01 00:00:00</td>\n      <td>2015-10-31 00:00:00</td>\n    </tr>\n    <tr>\n      <th>date_block_num</th>\n      <td>0</td>\n      <td>33</td>\n    </tr>\n    <tr>\n      <th>shop_id</th>\n      <td>0</td>\n      <td>59</td>\n    </tr>\n    <tr>\n      <th>item_id</th>\n      <td>0</td>\n      <td>22169</td>\n    </tr>\n    <tr>\n      <th>item_price</th>\n      <td>-1.0</td>\n      <td>307980.0</td>\n    </tr>\n    <tr>\n      <th>item_cnt_day</th>\n      <td>-22.0</td>\n      <td>2169.0</td>\n    </tr>\n  </tbody>\n</table>\n</div>"
     },
     "execution_count": 271,
     "metadata": {},
     "output_type": "execute_result"
    }
   ],
   "source": [
    "pd.concat([train_data.min().rename('min'), train_data.max().rename('max')], axis=1)"
   ],
   "metadata": {
    "collapsed": false,
    "pycharm": {
     "name": "#%%\n"
    }
   }
  },
  {
   "cell_type": "markdown",
   "source": [
    "We can also take a look at the most typical values, for example we find the most popular shop and item."
   ],
   "metadata": {
    "collapsed": false
   }
  },
  {
   "cell_type": "code",
   "execution_count": 272,
   "outputs": [
    {
     "data": {
      "text/plain": "        date  date_block_num  shop_id  item_id  item_price  item_cnt_day\n0 2013-12-28              11       31    20949       299.0           1.0",
      "text/html": "<div>\n<style scoped>\n    .dataframe tbody tr th:only-of-type {\n        vertical-align: middle;\n    }\n\n    .dataframe tbody tr th {\n        vertical-align: top;\n    }\n\n    .dataframe thead th {\n        text-align: right;\n    }\n</style>\n<table border=\"1\" class=\"dataframe\">\n  <thead>\n    <tr style=\"text-align: right;\">\n      <th></th>\n      <th>date</th>\n      <th>date_block_num</th>\n      <th>shop_id</th>\n      <th>item_id</th>\n      <th>item_price</th>\n      <th>item_cnt_day</th>\n    </tr>\n  </thead>\n  <tbody>\n    <tr>\n      <th>0</th>\n      <td>2013-12-28</td>\n      <td>11</td>\n      <td>31</td>\n      <td>20949</td>\n      <td>299.0</td>\n      <td>1.0</td>\n    </tr>\n  </tbody>\n</table>\n</div>"
     },
     "execution_count": 272,
     "metadata": {},
     "output_type": "execute_result"
    }
   ],
   "source": [
    "modes = train_data.mode()\n",
    "\n",
    "typical_shop_id = modes['shop_id'][0]\n",
    "typical_item_id = modes['item_id'][0]\n",
    "\n",
    "modes"
   ],
   "metadata": {
    "collapsed": false,
    "pycharm": {
     "name": "#%%\n"
    }
   }
  },
  {
   "cell_type": "markdown",
   "source": [
    "## Average count prediction\n",
    "\n",
    "As a first naive guess, we are going to submit the average month counts for each shop and item.\n",
    "\n",
    "We start by defining a helper function to aggregate the data."
   ],
   "metadata": {
    "collapsed": false
   }
  },
  {
   "cell_type": "code",
   "execution_count": 273,
   "outputs": [],
   "source": [
    "def aggregate(data, group_fields, agg_field, rename=''):\n",
    "    agg_data = data.groupby(group_fields, as_index=False)[agg_field].sum()\n",
    "\n",
    "    if rename:\n",
    "        agg_data = agg_data.rename(columns={agg_field: rename})\n",
    "\n",
    "    return agg_data"
   ],
   "metadata": {
    "collapsed": false,
    "pycharm": {
     "name": "#%%\n"
    }
   }
  },
  {
   "cell_type": "markdown",
   "source": [
    " In order to validate our predictions, we split the train dataset into the first months and the last one."
   ],
   "metadata": {
    "collapsed": false
   }
  },
  {
   "cell_type": "code",
   "execution_count": 274,
   "outputs": [
    {
     "data": {
      "text/plain": "((2882335, 6), (53514, 6))"
     },
     "execution_count": 274,
     "metadata": {},
     "output_type": "execute_result"
    }
   ],
   "source": [
    "# Number of months in the training dataset\n",
    "n_months = 33\n",
    "\n",
    "# Split dataset into training and validation\n",
    "last_month = train_data[train_data['date_block_num'] == n_months]\n",
    "first_months = train_data[train_data['date_block_num'] < n_months]\n",
    "\n",
    "first_months.shape, last_month.shape"
   ],
   "metadata": {
    "collapsed": false,
    "pycharm": {
     "name": "#%%\n"
    }
   }
  },
  {
   "cell_type": "markdown",
   "source": [
    "Now we aggregate the data by adding up all the daily item counts over each month. We do so using the helper function we defined above."
   ],
   "metadata": {
    "collapsed": false
   }
  },
  {
   "cell_type": "code",
   "execution_count": 275,
   "outputs": [
    {
     "data": {
      "text/plain": "   shop_id  item_id  date_block_num  item_cnt_month\n0        0       30               1            31.0\n1        0       31               1            11.0\n2        0       32               0             6.0\n3        0       32               1            10.0\n4        0       33               0             3.0",
      "text/html": "<div>\n<style scoped>\n    .dataframe tbody tr th:only-of-type {\n        vertical-align: middle;\n    }\n\n    .dataframe tbody tr th {\n        vertical-align: top;\n    }\n\n    .dataframe thead th {\n        text-align: right;\n    }\n</style>\n<table border=\"1\" class=\"dataframe\">\n  <thead>\n    <tr style=\"text-align: right;\">\n      <th></th>\n      <th>shop_id</th>\n      <th>item_id</th>\n      <th>date_block_num</th>\n      <th>item_cnt_month</th>\n    </tr>\n  </thead>\n  <tbody>\n    <tr>\n      <th>0</th>\n      <td>0</td>\n      <td>30</td>\n      <td>1</td>\n      <td>31.0</td>\n    </tr>\n    <tr>\n      <th>1</th>\n      <td>0</td>\n      <td>31</td>\n      <td>1</td>\n      <td>11.0</td>\n    </tr>\n    <tr>\n      <th>2</th>\n      <td>0</td>\n      <td>32</td>\n      <td>0</td>\n      <td>6.0</td>\n    </tr>\n    <tr>\n      <th>3</th>\n      <td>0</td>\n      <td>32</td>\n      <td>1</td>\n      <td>10.0</td>\n    </tr>\n    <tr>\n      <th>4</th>\n      <td>0</td>\n      <td>33</td>\n      <td>0</td>\n      <td>3.0</td>\n    </tr>\n  </tbody>\n</table>\n</div>"
     },
     "execution_count": 275,
     "metadata": {},
     "output_type": "execute_result"
    }
   ],
   "source": [
    "# Aggregate datasets per month\n",
    "first_agg_month = aggregate(first_months, ['shop_id', 'item_id', 'date_block_num'], 'item_cnt_day', 'item_cnt_month')\n",
    "last_agg_month = aggregate(last_month, ['shop_id', 'item_id', 'date_block_num'], 'item_cnt_day', 'item_cnt_month')\n",
    "\n",
    "first_agg_month.head()"
   ],
   "metadata": {
    "collapsed": false,
    "pycharm": {
     "name": "#%%\n"
    }
   }
  },
  {
   "cell_type": "markdown",
   "source": [
    "Next we further aggregate the data by averaging the item counts over all months."
   ],
   "metadata": {
    "collapsed": false
   }
  },
  {
   "cell_type": "code",
   "execution_count": 276,
   "outputs": [
    {
     "data": {
      "text/plain": "   shop_id  item_id  item_cnt_all_time  item_avg\n0        0       30               31.0  0.939394\n1        0       31               11.0  0.333333\n2        0       32               16.0  0.484848\n3        0       33                6.0  0.181818\n4        0       35               15.0  0.454545",
      "text/html": "<div>\n<style scoped>\n    .dataframe tbody tr th:only-of-type {\n        vertical-align: middle;\n    }\n\n    .dataframe tbody tr th {\n        vertical-align: top;\n    }\n\n    .dataframe thead th {\n        text-align: right;\n    }\n</style>\n<table border=\"1\" class=\"dataframe\">\n  <thead>\n    <tr style=\"text-align: right;\">\n      <th></th>\n      <th>shop_id</th>\n      <th>item_id</th>\n      <th>item_cnt_all_time</th>\n      <th>item_avg</th>\n    </tr>\n  </thead>\n  <tbody>\n    <tr>\n      <th>0</th>\n      <td>0</td>\n      <td>30</td>\n      <td>31.0</td>\n      <td>0.939394</td>\n    </tr>\n    <tr>\n      <th>1</th>\n      <td>0</td>\n      <td>31</td>\n      <td>11.0</td>\n      <td>0.333333</td>\n    </tr>\n    <tr>\n      <th>2</th>\n      <td>0</td>\n      <td>32</td>\n      <td>16.0</td>\n      <td>0.484848</td>\n    </tr>\n    <tr>\n      <th>3</th>\n      <td>0</td>\n      <td>33</td>\n      <td>6.0</td>\n      <td>0.181818</td>\n    </tr>\n    <tr>\n      <th>4</th>\n      <td>0</td>\n      <td>35</td>\n      <td>15.0</td>\n      <td>0.454545</td>\n    </tr>\n  </tbody>\n</table>\n</div>"
     },
     "execution_count": 276,
     "metadata": {},
     "output_type": "execute_result"
    }
   ],
   "source": [
    "# Compute the average item counts over the first months\n",
    "first_agg_all_time = aggregate(first_agg_month, ['shop_id', 'item_id'], 'item_cnt_month', 'item_cnt_all_time')\n",
    "first_agg_all_time['item_avg'] = first_agg_all_time['item_cnt_all_time'] / n_months\n",
    "\n",
    "first_agg_all_time.head()"
   ],
   "metadata": {
    "collapsed": false,
    "pycharm": {
     "name": "#%%\n"
    }
   }
  },
  {
   "cell_type": "markdown",
   "source": [
    "And we finally put together in the same dataframe our predictions with the ground truth."
   ],
   "metadata": {
    "collapsed": false
   }
  },
  {
   "cell_type": "code",
   "execution_count": 278,
   "outputs": [
    {
     "data": {
      "text/plain": "   shop_id  item_id  item_avg  true_item_cnt        se\n0        0       30  0.939394            0.0  0.882461\n1        0       31  0.333333            0.0  0.111111\n2        0       32  0.484848            0.0  0.235078\n3        0       33  0.181818            0.0  0.033058\n4        0       35  0.454545            0.0  0.206612",
      "text/html": "<div>\n<style scoped>\n    .dataframe tbody tr th:only-of-type {\n        vertical-align: middle;\n    }\n\n    .dataframe tbody tr th {\n        vertical-align: top;\n    }\n\n    .dataframe thead th {\n        text-align: right;\n    }\n</style>\n<table border=\"1\" class=\"dataframe\">\n  <thead>\n    <tr style=\"text-align: right;\">\n      <th></th>\n      <th>shop_id</th>\n      <th>item_id</th>\n      <th>item_avg</th>\n      <th>true_item_cnt</th>\n      <th>se</th>\n    </tr>\n  </thead>\n  <tbody>\n    <tr>\n      <th>0</th>\n      <td>0</td>\n      <td>30</td>\n      <td>0.939394</td>\n      <td>0.0</td>\n      <td>0.882461</td>\n    </tr>\n    <tr>\n      <th>1</th>\n      <td>0</td>\n      <td>31</td>\n      <td>0.333333</td>\n      <td>0.0</td>\n      <td>0.111111</td>\n    </tr>\n    <tr>\n      <th>2</th>\n      <td>0</td>\n      <td>32</td>\n      <td>0.484848</td>\n      <td>0.0</td>\n      <td>0.235078</td>\n    </tr>\n    <tr>\n      <th>3</th>\n      <td>0</td>\n      <td>33</td>\n      <td>0.181818</td>\n      <td>0.0</td>\n      <td>0.033058</td>\n    </tr>\n    <tr>\n      <th>4</th>\n      <td>0</td>\n      <td>35</td>\n      <td>0.454545</td>\n      <td>0.0</td>\n      <td>0.206612</td>\n    </tr>\n  </tbody>\n</table>\n</div>"
     },
     "execution_count": 278,
     "metadata": {},
     "output_type": "execute_result"
    }
   ],
   "source": [
    "predictions = pd.merge(first_agg_all_time[['shop_id', 'item_id', 'item_avg']], last_agg_month[['shop_id', 'item_id','item_cnt_month']], on=['shop_id', 'item_id'], how='left').rename(columns={'item_cnt_month': 'true_item_cnt'}).fillna(0)\n",
    "\n",
    "# Compute the squared error\n",
    "predictions['se'] = (predictions['item_avg'] - predictions['true_item_cnt'])**2\n",
    "\n",
    "predictions.head()"
   ],
   "metadata": {
    "collapsed": false,
    "pycharm": {
     "name": "#%%\n"
    }
   }
  },
  {
   "cell_type": "markdown",
   "source": [
    "The rooted mean square error is the metric we are considering for the error. Its value is rather high, this is due to the naive approach for the predictions."
   ],
   "metadata": {
    "collapsed": false
   }
  },
  {
   "cell_type": "code",
   "execution_count": 279,
   "outputs": [
    {
     "data": {
      "text/plain": "3.5957456956230414"
     },
     "execution_count": 279,
     "metadata": {},
     "output_type": "execute_result"
    }
   ],
   "source": [
    "# Compute the rooted mean squared error\n",
    "rmse = np.sqrt(predictions['se'].mean())\n",
    "\n",
    "rmse"
   ],
   "metadata": {
    "collapsed": false,
    "pycharm": {
     "name": "#%%\n"
    }
   }
  },
  {
   "cell_type": "markdown",
   "source": [
    "## Visualization\n",
    "\n",
    "We can plot some examples to better understand the nature of the errors we are making. The following is a helper function which allows us to plot the evolution over time of an item's sales in a given shop, also with its predicted value for the next month."
   ],
   "metadata": {
    "collapsed": false
   }
  },
  {
   "cell_type": "code",
   "execution_count": 281,
   "outputs": [],
   "source": [
    "def plot_shop_item(data, shop_id, item_id, pred):\n",
    "    shop_item_data = data[(data['shop_id'] == shop_id) & (data['item_id'] == item_id)].sort_values(by='date_block_num')\n",
    "\n",
    "    christmas = [11, 23]\n",
    "\n",
    "    fig, ax = plt.subplots(figsize=(12, 6))\n",
    "    [ax.axvline(x=n, linewidth=1, color='tab:red') for n in christmas]\n",
    "    ax.axhline(y=pred, linewidth=1, color='tab:green')\n",
    "    ax.plot(shop_item_data['date_block_num'], shop_item_data['item_cnt_month'], color='tab:blue', marker='o')"
   ],
   "metadata": {
    "collapsed": false,
    "pycharm": {
     "name": "#%%\n"
    }
   }
  },
  {
   "cell_type": "markdown",
   "source": [
    "Let us check a few examples. The vertical red lines mark Christmas."
   ],
   "metadata": {
    "collapsed": false
   }
  },
  {
   "cell_type": "code",
   "execution_count": 286,
   "outputs": [
    {
     "data": {
      "text/plain": "<Figure size 864x432 with 1 Axes>",
      "image/png": "[encoded data removed]"
     },
     "metadata": {
      "needs_background": "light"
     },
     "output_type": "display_data"
    }
   ],
   "source": [
    "shop_id = 5\n",
    "item_id = 20949\n",
    "pred = predictions['item_avg'][(predictions['shop_id'] == shop_id) & (predictions['item_id'] == item_id)].iloc[0]\n",
    "\n",
    "plot_shop_item(first_agg_month, shop_id, item_id, pred)"
   ],
   "metadata": {
    "collapsed": false,
    "pycharm": {
     "name": "#%%\n"
    }
   }
  },
  {
   "cell_type": "code",
   "execution_count": 287,
   "outputs": [
    {
     "data": {
      "text/plain": "<Figure size 864x432 with 1 Axes>",
      "image/png": "[encoded data removed]"
     },
     "metadata": {
      "needs_background": "light"
     },
     "output_type": "display_data"
    }
   ],
   "source": [
    "shop_id = 53\n",
    "item_id = 17717\n",
    "pred = predictions['item_avg'][(predictions['shop_id'] == shop_id) & (predictions['item_id'] == item_id)].iloc[0]\n",
    "\n",
    "plot_shop_item(first_agg_month, shop_id, item_id, pred)"
   ],
   "metadata": {
    "collapsed": false,
    "pycharm": {
     "name": "#%%\n"
    }
   }
  },
  {
   "cell_type": "code",
   "execution_count": 289,
   "outputs": [
    {
     "data": {
      "text/plain": "<Figure size 864x432 with 1 Axes>",
      "image/png": "[encoded data removed]"
     },
     "metadata": {
      "needs_background": "light"
     },
     "output_type": "display_data"
    }
   ],
   "source": [
    "shop_id = 42\n",
    "item_id = 2808\n",
    "pred = predictions['item_avg'][(predictions['shop_id'] == shop_id) & (predictions['item_id'] == item_id)].iloc[0]\n",
    "\n",
    "plot_shop_item(first_agg_month, shop_id, item_id, pred)"
   ],
   "metadata": {
    "collapsed": false,
    "pycharm": {
     "name": "#%%\n"
    }
   }
  },
  {
   "cell_type": "markdown",
   "source": [
    "In this last example we see how the monthly average is not a very good estimate, as it gives every month the same weight, and we do not capture increasing or decreasing popularity."
   ],
   "metadata": {
    "collapsed": false
   }
  },
  {
   "cell_type": "markdown",
   "source": [
    "## Submission\n",
    "\n",
    "We are now ready to submit our predictions. First we need to repeat the aggregation process for the whole dataset, this time without excluding the last month for validation."
   ],
   "metadata": {
    "collapsed": false
   }
  },
  {
   "cell_type": "code",
   "execution_count": 291,
   "outputs": [
    {
     "data": {
      "text/plain": "   shop_id  item_id  item_cnt_all_time  item_avg\n0        0       30               31.0  0.911765\n1        0       31               11.0  0.323529\n2        0       32               16.0  0.470588\n3        0       33                6.0  0.176471\n4        0       35               15.0  0.441176",
      "text/html": "<div>\n<style scoped>\n    .dataframe tbody tr th:only-of-type {\n        vertical-align: middle;\n    }\n\n    .dataframe tbody tr th {\n        vertical-align: top;\n    }\n\n    .dataframe thead th {\n        text-align: right;\n    }\n</style>\n<table border=\"1\" class=\"dataframe\">\n  <thead>\n    <tr style=\"text-align: right;\">\n      <th></th>\n      <th>shop_id</th>\n      <th>item_id</th>\n      <th>item_cnt_all_time</th>\n      <th>item_avg</th>\n    </tr>\n  </thead>\n  <tbody>\n    <tr>\n      <th>0</th>\n      <td>0</td>\n      <td>30</td>\n      <td>31.0</td>\n      <td>0.911765</td>\n    </tr>\n    <tr>\n      <th>1</th>\n      <td>0</td>\n      <td>31</td>\n      <td>11.0</td>\n      <td>0.323529</td>\n    </tr>\n    <tr>\n      <th>2</th>\n      <td>0</td>\n      <td>32</td>\n      <td>16.0</td>\n      <td>0.470588</td>\n    </tr>\n    <tr>\n      <th>3</th>\n      <td>0</td>\n      <td>33</td>\n      <td>6.0</td>\n      <td>0.176471</td>\n    </tr>\n    <tr>\n      <th>4</th>\n      <td>0</td>\n      <td>35</td>\n      <td>15.0</td>\n      <td>0.441176</td>\n    </tr>\n  </tbody>\n</table>\n</div>"
     },
     "execution_count": 291,
     "metadata": {},
     "output_type": "execute_result"
    }
   ],
   "source": [
    "# Repeat for the whole dataset\n",
    "agg_month = aggregate(train_data, ['shop_id', 'item_id', 'date_block_num'], 'item_cnt_day', 'item_cnt_month')\n",
    "\n",
    "n_months = 34\n",
    "\n",
    "agg_all_time = aggregate(agg_month, ['shop_id', 'item_id'], 'item_cnt_month', 'item_cnt_all_time')\n",
    "agg_all_time['item_avg'] = agg_all_time['item_cnt_all_time'] / n_months\n",
    "\n",
    "agg_all_time.head()"
   ],
   "metadata": {
    "collapsed": false,
    "pycharm": {
     "name": "#%%\n"
    }
   }
  },
  {
   "cell_type": "markdown",
   "source": [
    "We finally generate the csv file ready for submission."
   ],
   "metadata": {
    "collapsed": false
   }
  },
  {
   "cell_type": "code",
   "execution_count": 292,
   "outputs": [],
   "source": [
    "def generate_submission_file(data, pred_field, filename='submission.csv'):\n",
    "    predictions = pd.merge(test_data, data, on=['shop_id', 'item_id'], how='left').fillna(0)\n",
    "\n",
    "    output = pd.DataFrame({'ID': predictions['ID'], 'item_cnt_month': predictions[pred_field]})\n",
    "    output.to_csv('predictions/' + filename, index=False)\n",
    "    print(\"Submission successfully saved!\")"
   ],
   "metadata": {
    "collapsed": false,
    "pycharm": {
     "name": "#%%\n"
    }
   }
  },
  {
   "cell_type": "code",
   "execution_count": 294,
   "outputs": [
    {
     "name": "stdout",
     "output_type": "stream",
     "text": [
      "Submission successfully saved!\n"
     ]
    }
   ],
   "source": [
    "generate_submission_file(agg_all_time, 'item_avg')"
   ],
   "metadata": {
    "collapsed": false,
    "pycharm": {
     "name": "#%%\n"
    }
   }
  }
 ],
 "metadata": {
  "kernelspec": {
   "display_name": "Python 3",
   "language": "python",
   "name": "python3"
  },
  "language_info": {
   "codemirror_mode": {
    "name": "ipython",
    "version": 2
   },
   "file_extension": ".py",
   "mimetype": "text/x-python",
   "name": "python",
   "nbconvert_exporter": "python",
   "pygments_lexer": "ipython2",
   "version": "2.7.6"
  }
 },
 "nbformat": 4,
 "nbformat_minor": 0
}